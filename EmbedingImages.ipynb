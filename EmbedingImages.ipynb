{
 "cells": [
  {
   "cell_type": "code",
   "execution_count": 1,
   "metadata": {
    "colab": {
     "base_uri": "https://localhost:8080/"
    },
    "executionInfo": {
     "elapsed": 26290,
     "status": "ok",
     "timestamp": 1731201773152,
     "user": {
      "displayName": "Gonzalo Fuentes",
      "userId": "02144207982774235237"
     },
     "user_tz": 180
    },
    "id": "8uR-Xxyi5n6h",
    "outputId": "50b3169b-d529-4a91-a9c6-fc786386545f"
   },
   "outputs": [
    {
     "name": "stdout",
     "output_type": "stream",
     "text": [
      "Requirement already satisfied: opendatasets in c:\\users\\gfuen\\appdata\\local\\programs\\python\\python310\\lib\\site-packages (0.1.22)\n",
      "Requirement already satisfied: tqdm in c:\\users\\gfuen\\appdata\\local\\programs\\python\\python310\\lib\\site-packages (from opendatasets) (4.66.1)\n",
      "Requirement already satisfied: kaggle in c:\\users\\gfuen\\appdata\\local\\programs\\python\\python310\\lib\\site-packages (from opendatasets) (1.6.17)\n",
      "Requirement already satisfied: click in c:\\users\\gfuen\\appdata\\local\\programs\\python\\python310\\lib\\site-packages (from opendatasets) (8.1.7)\n",
      "Requirement already satisfied: colorama in c:\\users\\gfuen\\appdata\\local\\programs\\python\\python310\\lib\\site-packages (from click->opendatasets) (0.4.6)\n",
      "Requirement already satisfied: six>=1.10 in c:\\users\\gfuen\\appdata\\local\\programs\\python\\python310\\lib\\site-packages (from kaggle->opendatasets) (1.16.0)\n",
      "Requirement already satisfied: certifi>=2023.7.22 in c:\\users\\gfuen\\appdata\\local\\programs\\python\\python310\\lib\\site-packages (from kaggle->opendatasets) (2024.7.4)\n",
      "Requirement already satisfied: python-dateutil in c:\\users\\gfuen\\appdata\\local\\programs\\python\\python310\\lib\\site-packages (from kaggle->opendatasets) (2.8.2)\n",
      "Requirement already satisfied: requests in c:\\users\\gfuen\\appdata\\local\\programs\\python\\python310\\lib\\site-packages (from kaggle->opendatasets) (2.31.0)\n",
      "Requirement already satisfied: python-slugify in c:\\users\\gfuen\\appdata\\local\\programs\\python\\python310\\lib\\site-packages (from kaggle->opendatasets) (8.0.4)\n",
      "Requirement already satisfied: urllib3 in c:\\users\\gfuen\\appdata\\local\\programs\\python\\python310\\lib\\site-packages (from kaggle->opendatasets) (1.26.13)\n",
      "Requirement already satisfied: bleach in c:\\users\\gfuen\\appdata\\local\\programs\\python\\python310\\lib\\site-packages (from kaggle->opendatasets) (6.1.0)\n",
      "Requirement already satisfied: webencodings in c:\\users\\gfuen\\appdata\\local\\programs\\python\\python310\\lib\\site-packages (from bleach->kaggle->opendatasets) (0.5.1)\n",
      "Requirement already satisfied: text-unidecode>=1.3 in c:\\users\\gfuen\\appdata\\local\\programs\\python\\python310\\lib\\site-packages (from python-slugify->kaggle->opendatasets) (1.3)\n",
      "Requirement already satisfied: charset-normalizer<4,>=2 in c:\\users\\gfuen\\appdata\\local\\programs\\python\\python310\\lib\\site-packages (from requests->kaggle->opendatasets) (2.1.1)\n",
      "Requirement already satisfied: idna<4,>=2.5 in c:\\users\\gfuen\\appdata\\local\\programs\\python\\python310\\lib\\site-packages (from requests->kaggle->opendatasets) (3.4)\n",
      "Requirement already satisfied: isodate in c:\\users\\gfuen\\appdata\\local\\programs\\python\\python310\\lib\\site-packages (0.7.2)\n"
     ]
    }
   ],
   "source": [
    "!pip install opendatasets --upgrade\n",
    "!pip install isodate"
   ]
  },
  {
   "cell_type": "code",
   "execution_count": 2,
   "metadata": {
    "executionInfo": {
     "elapsed": 28702,
     "status": "ok",
     "timestamp": 1731201801850,
     "user": {
      "displayName": "Gonzalo Fuentes",
      "userId": "02144207982774235237"
     },
     "user_tz": 180
    },
    "id": "Gjbjp_VC5snI"
   },
   "outputs": [],
   "source": [
    "import os\n",
    "import requests\n",
    "import random\n",
    "import opendatasets as od\n",
    "import pandas as pd\n",
    "import isodate # for total, prep and cook times\n",
    "import matplotlib.pyplot as plt\n",
    "import numpy as np\n",
    "import os\n",
    "import h5py\n",
    "import shutil\n",
    "import zipfile\n",
    "import torch\n",
    "import h5py\n",
    "import tensorflow as tf\n",
    "\n",
    "\n",
    "from keras.applications import vgg16, vgg19, resnet50\n",
    "from keras.models import Model\n",
    "from keras.utils import load_img, img_to_array\n",
    "from keras.applications.imagenet_utils import preprocess_input\n",
    "\n",
    "\n",
    "from PIL import Image\n",
    "from torchvision import models, transforms\n",
    "\n",
    "\n",
    "from tqdm import tqdm\n",
    "from joblib import Parallel, delayed\n"
   ]
  },
  {
   "cell_type": "markdown",
   "metadata": {},
   "source": [
    "# Descarga de imágenes"
   ]
  },
  {
   "cell_type": "code",
   "execution_count": null,
   "metadata": {
    "colab": {
     "base_uri": "https://localhost:8080/"
    },
    "executionInfo": {
     "elapsed": 68541,
     "status": "ok",
     "timestamp": 1731201873842,
     "user": {
      "displayName": "Gonzalo Fuentes",
      "userId": "02144207982774235237"
     },
     "user_tz": 180
    },
    "id": "CrUk7pRz5_hp",
    "outputId": "3aa1d416-b489-46f9-ffc4-b8c4a609d1c0"
   },
   "outputs": [],
   "source": [
    "od.download_kaggle_dataset(\"https://www.kaggle.com/datasets/irkaal/foodcom-recipes-and-reviews\", \"data\")"
   ]
  },
  {
   "cell_type": "code",
   "execution_count": null,
   "metadata": {
    "colab": {
     "base_uri": "https://localhost:8080/",
     "height": 602
    },
    "executionInfo": {
     "elapsed": 9053,
     "status": "ok",
     "timestamp": 1731201882892,
     "user": {
      "displayName": "Gonzalo Fuentes",
      "userId": "02144207982774235237"
     },
     "user_tz": 180
    },
    "id": "L_XdeenA6C1q",
    "outputId": "7665b9cc-1641-4a25-e441-fcc06fdbb4e6"
   },
   "outputs": [],
   "source": [
    "recipes = pd.read_parquet(\"data/foodcom-recipes-and-reviews/recipes.parquet\")\n",
    "recipes.head()"
   ]
  },
  {
   "cell_type": "code",
   "execution_count": null,
   "metadata": {
    "colab": {
     "base_uri": "https://localhost:8080/"
    },
    "executionInfo": {
     "elapsed": 9,
     "status": "ok",
     "timestamp": 1731201882893,
     "user": {
      "displayName": "Gonzalo Fuentes",
      "userId": "02144207982774235237"
     },
     "user_tz": 180
    },
    "id": "uENGu5Gp6MU9",
    "outputId": "261a0ebf-589d-4788-dcfe-3317fd19d8ec"
   },
   "outputs": [],
   "source": [
    "recipes[\"Images\"][0]"
   ]
  },
  {
   "cell_type": "code",
   "execution_count": null,
   "metadata": {
    "colab": {
     "base_uri": "https://localhost:8080/",
     "height": 66,
     "referenced_widgets": [
      "b3e46f2377b642f2a4b973568799d6a4",
      "060092c789b84f31bb136292b0d5cb2b",
      "86feb4bcdd2140bd8723de916e15b046",
      "49808b83f85d44b9b8035659a0bb3cfe",
      "a251b6c1e5434295941abaa0f1beeb6d",
      "615c413fdf88416db965320a4fe14019",
      "3446d9b492114b1695563bf313c49239",
      "6796c75798c848b08eba06c8995a321a",
      "0f6ead7872e04b45abb7ef02becee07a",
      "b1b9633a2235450d9457761b1e74cd57",
      "a4b6373bb6544e439a83e0136b2f9a5b"
     ]
    },
    "executionInfo": {
     "elapsed": 6411699,
     "status": "ok",
     "timestamp": 1731197503982,
     "user": {
      "displayName": "Gonzalo Fuentes",
      "userId": "02144207982774235237"
     },
     "user_tz": 180
    },
    "id": "6-6JjwZh7Zg_",
    "outputId": "65fa57ef-ba61-4550-bfcb-a47a34a386be"
   },
   "outputs": [],
   "source": [
    "FLAG = False\n",
    "def download_image(url, recipe_idx, image_idx):\n",
    "    recipe_folder = f\"images/recipe_{recipe_idx}\"\n",
    "    os.makedirs(recipe_folder, exist_ok=True)\n",
    "    try:\n",
    "        response = requests.get(url, timeout=10)\n",
    "        if response.status_code == 200:\n",
    "            with open(f\"{recipe_folder}/image_{image_idx}.jpg\", \"wb\") as file:\n",
    "                file.write(response.content)\n",
    "        return True\n",
    "    except requests.RequestException as e:\n",
    "        print(f\"Error al descargar la imagen {image_idx} de la receta {recipe_idx}: {e}\")\n",
    "        return False\n",
    "if FLAG:\n",
    "    # download_tasks = [\n",
    "    #     (url, idx, j)\n",
    "    #     for idx, image_links in enumerate(recipes[\"Images\"])\n",
    "    #     if image_links is not None\n",
    "    #     for j, url in enumerate(image_links)\n",
    "    #     if url\n",
    "    # ]\n",
    "    # Eligiendo solo 1 imagen por set (para facilitar todo)\n",
    "    download_tasks = [\n",
    "        (random.choice(image_links), idx, 0)\n",
    "        for idx, image_links in enumerate(recipes[\"Images\"])\n",
    "        if image_links is not None and len(image_links) > 0\n",
    "    ]\n",
    "\n",
    "    num_threads = 10\n",
    "\n",
    "    results = Parallel(n_jobs=num_threads)(\n",
    "        delayed(download_image)(url, recipe_idx, image_idx)\n",
    "        for url, recipe_idx, image_idx in tqdm(download_tasks)\n",
    "    )\n",
    "\n",
    "    print(\"Descarga completada.\")\n"
   ]
  },
  {
   "cell_type": "markdown",
   "metadata": {},
   "source": [
    "# Embeddings ResNet50"
   ]
  },
  {
   "cell_type": "code",
   "execution_count": null,
   "metadata": {
    "colab": {
     "base_uri": "https://localhost:8080/"
    },
    "executionInfo": {
     "elapsed": 3460,
     "status": "ok",
     "timestamp": 1731201805308,
     "user": {
      "displayName": "Gonzalo Fuentes",
      "userId": "02144207982774235237"
     },
     "user_tz": 180
    },
    "id": "_6gx4GDfdt8t",
    "outputId": "25690364-ffe5-426d-afc3-4f54002649e2"
   },
   "outputs": [],
   "source": [
    "model = models.resnet50(pretrained=True)\n",
    "model = torch.nn.Sequential(*list(model.children())[:-1])\n",
    "model.eval() \n",
    "\n",
    "preprocess = transforms.Compose([\n",
    "    transforms.Resize(256),\n",
    "    transforms.CenterCrop(224),\n",
    "    transforms.ToTensor(),\n",
    "    transforms.Normalize(mean=[0.485, 0.456, 0.406], std=[0.229, 0.224, 0.225]),\n",
    "])"
   ]
  },
  {
   "cell_type": "code",
   "execution_count": null,
   "metadata": {
    "executionInfo": {
     "elapsed": 7,
     "status": "ok",
     "timestamp": 1731201805308,
     "user": {
      "displayName": "Gonzalo Fuentes",
      "userId": "02144207982774235237"
     },
     "user_tz": 180
    },
    "id": "PTvvy3D9eqYE"
   },
   "outputs": [],
   "source": [
    "def get_embedding(image_path):\n",
    "    try:\n",
    "        image = Image.open(image_path).convert(\"RGB\")  \n",
    "    except:\n",
    "        return None\n",
    "    input_tensor = preprocess(image)\n",
    "    input_batch = input_tensor.unsqueeze(0)  \n",
    "    with torch.no_grad():\n",
    "        embedding = model(input_batch)\n",
    "    return embedding.squeeze().numpy()\n",
    "\n",
    "def process_recipe(recipe_idx):\n",
    "    recipe_folder = os.path.join('images', recipe_idx)\n",
    "    image_path = os.path.join(recipe_folder, 'image_0.jpg')\n",
    "    if os.path.exists(image_path): \n",
    "        embedding = get_embedding(image_path)\n",
    "        return recipe_idx, embedding\n",
    "    return None"
   ]
  },
  {
   "cell_type": "code",
   "execution_count": null,
   "metadata": {
    "colab": {
     "base_uri": "https://localhost:8080/",
     "height": 423,
     "referenced_widgets": [
      "21a2378052ef4506b3e2e02585d94c1b",
      "7e477ba1f85a4ca1a6eb4b82029e7f89",
      "add9e5634f78404c813ba58ecbbe1c3b",
      "2d128effd44d49a8aa2b3480c95b146b",
      "b19cccbfec9344cb976e90a6fd5c66e2",
      "f9e823649c9846dc850a485a2d27539d",
      "c3839a6a576f4fffac9db4f780c7fc71",
      "bc54b93b25034d08b3edb1e8a8166383",
      "972679a88cf74f44a93f4f95e9b34ea9",
      "f1d6173c66d44335bbd08b9b3f9cbe04",
      "9fe79e8cee564d94ab5ad803ee16ec03"
     ]
    },
    "executionInfo": {
     "elapsed": 260923,
     "status": "error",
     "timestamp": 1731202840198,
     "user": {
      "displayName": "Gonzalo Fuentes",
      "userId": "02144207982774235237"
     },
     "user_tz": 180
    },
    "id": "LDfD2k-WmGdv",
    "outputId": "df49e8ed-792b-4234-8ed2-c93b637cce8b"
   },
   "outputs": [],
   "source": [
    "recipe_folders = [folder for folder in os.listdir('images') if os.path.isdir(os.path.join('images', folder))]\n",
    "\n",
    "num_threads = 1 \n",
    "results = Parallel(n_jobs=num_threads)(delayed(process_recipe)(recipe_idx) for recipe_idx in tqdm(recipe_folders))"
   ]
  },
  {
   "cell_type": "code",
   "execution_count": null,
   "metadata": {},
   "outputs": [],
   "source": [
    "final_results = []\n",
    "for i in range(len(results)):\n",
    "    try:\n",
    "        if type(results[i][1]) != np.ndarray:\n",
    "            print(\"No se puede cargar la foto\")\n",
    "        else:\n",
    "            final_results.append(results[i])\n",
    "    except:\n",
    "        print(\"No tiene fotos\")\n"
   ]
  },
  {
   "cell_type": "code",
   "execution_count": null,
   "metadata": {},
   "outputs": [],
   "source": [
    "with h5py.File('food_embeddings_ResNet1.h5', 'w') as h5f:\n",
    "    for result in final_results:\n",
    "        if result is not None:\n",
    "            recipe_idx, embedding = result\n",
    "            h5f.create_dataset(f\"{recipe_idx}_embedding\", data=embedding)\n",
    "print(\"Embeddings generados y guardados.\")"
   ]
  },
  {
   "cell_type": "markdown",
   "metadata": {},
   "source": [
    "# Embeddings vistos en Ayudantia"
   ]
  },
  {
   "cell_type": "code",
   "execution_count": null,
   "metadata": {},
   "outputs": [
    {
     "name": "stderr",
     "output_type": "stream",
     "text": [
      "  4%|▎         | 5975/165896 [19:40<8:34:02,  5.19it/s] c:\\Users\\gfuen\\AppData\\Local\\Programs\\Python\\Python310\\lib\\site-packages\\PIL\\TiffImagePlugin.py:850: UserWarning: Corrupt EXIF data.  Expecting to read 4 bytes but only got 2. \n",
      "  warnings.warn(str(msg))\n",
      "100%|██████████| 165896/165896 [9:51:41<00:00,  4.67it/s]  "
     ]
    },
    {
     "name": "stdout",
     "output_type": "stream",
     "text": [
      "Embeddings generados y guardados.\n"
     ]
    },
    {
     "name": "stderr",
     "output_type": "stream",
     "text": [
      "\n"
     ]
    }
   ],
   "source": [
    "with tf.device('/GPU:0'): \n",
    "    vgg19_model = vgg19.VGG19(weights='imagenet')\n",
    "    feat_extractor = Model(inputs=vgg19_model.input, outputs=vgg19_model.get_layer(\"fc2\").output)\n",
    "\n",
    "\n",
    "imgs_model_width, imgs_model_height = 224, 224\n",
    "\n",
    "recipe_folders = [folder for folder in os.listdir('images') if os.path.isdir(os.path.join('images', folder))]\n",
    "embeddings = []\n",
    "ids = []\n",
    "\n",
    "with h5py.File('food_embeddings_vgg19.h5', 'w') as h5f:\n",
    "    for folder in tqdm(recipe_folders):\n",
    "        image_path = os.path.join('images', folder, 'image_0.jpg')\n",
    "        if os.path.exists(image_path): \n",
    "            try:\n",
    "                original = load_img(image_path, target_size=(224, 224))\n",
    "                numpy_image = img_to_array(original)\n",
    "                image_batch = np.expand_dims(numpy_image, axis=0)\n",
    "                processed_img = preprocess_input(image_batch)\n",
    "            except:\n",
    "                continue\n",
    "            with tf.device('/GPU:0'): \n",
    "                embedding = feat_extractor.predict(processed_img, verbose=0)\n",
    "        \n",
    "            h5f.create_dataset(f\"{folder}_embedding\", data=embedding.flatten())\n",
    "            \n",
    "print(\"Embeddings generados y guardados.\")"
   ]
  },
  {
   "cell_type": "code",
   "execution_count": null,
   "metadata": {},
   "outputs": [
    {
     "name": "stdout",
     "output_type": "stream",
     "text": [
      "Downloading data from https://storage.googleapis.com/tensorflow/keras-applications/vgg16/vgg16_weights_tf_dim_ordering_tf_kernels.h5\n",
      "\u001b[1m553467096/553467096\u001b[0m \u001b[32m━━━━━━━━━━━━━━━━━━━━\u001b[0m\u001b[37m\u001b[0m \u001b[1m125s\u001b[0m 0us/step\n"
     ]
    }
   ],
   "source": [
    "modelo_escogido = 'vgg16' \n",
    "\n",
    "with tf.device('/GPU:0'):\n",
    "    if modelo_escogido == 'resnet50':\n",
    "        model = resnet50.ResNet50(weights='imagenet')\n",
    "        feat_extractor = Model(inputs=model.input, outputs=model.get_layer(\"avg_pool\").output) \n",
    "    elif modelo_escogido == 'vgg16':\n",
    "        model = vgg16.VGG16(weights='imagenet')\n",
    "        feat_extractor = Model(inputs=model.input, outputs=model.get_layer(\"fc2\").output)\n",
    "\n",
    "imgs_model_width, imgs_model_height = 224, 224\n",
    "\n",
    "recipe_folders = [folder for folder in os.listdir('images') if os.path.isdir(os.path.join('images', folder))]\n",
    "embeddings = []\n",
    "ids = []\n",
    "\n",
    "with h5py.File('food_embeddings_vgg16.h5', 'w') as h5f:\n",
    "    for folder in recipe_folders:\n",
    "        image_path = os.path.join('images', folder, 'image_0.jpg')\n",
    "        if os.path.exists(image_path):\n",
    "            try:\n",
    "                original = load_img(image_path, target_size=(224, 224))\n",
    "                numpy_image = img_to_array(original)\n",
    "                image_batch = np.expand_dims(numpy_image, axis=0)\n",
    "                processed_img = preprocess_input(image_batch)\n",
    "            except:\n",
    "                continue\n",
    "            with tf.device('/GPU:0'):\n",
    "                embedding = feat_extractor.predict(processed_img)\n",
    "            \n",
    "            h5f.create_dataset(f\"{folder}_embedding\", data=embedding.flatten())\n",
    "            \n",
    "print(\"Embeddings generados y guardados.\")"
   ]
  },
  {
   "cell_type": "code",
   "execution_count": null,
   "metadata": {},
   "outputs": [],
   "source": []
  }
 ],
 "metadata": {
  "colab": {
   "authorship_tag": "ABX9TyP5EcixZ6GntTGh/ooQfJkE",
   "provenance": []
  },
  "kernelspec": {
   "display_name": "Python 3",
   "name": "python3"
  },
  "language_info": {
   "codemirror_mode": {
    "name": "ipython",
    "version": 3
   },
   "file_extension": ".py",
   "mimetype": "text/x-python",
   "name": "python",
   "nbconvert_exporter": "python",
   "pygments_lexer": "ipython3",
   "version": "3.10.9"
  },
  "widgets": {
   "application/vnd.jupyter.widget-state+json": {
    "060092c789b84f31bb136292b0d5cb2b": {
     "model_module": "@jupyter-widgets/controls",
     "model_module_version": "1.5.0",
     "model_name": "HTMLModel",
     "state": {
      "_dom_classes": [],
      "_model_module": "@jupyter-widgets/controls",
      "_model_module_version": "1.5.0",
      "_model_name": "HTMLModel",
      "_view_count": null,
      "_view_module": "@jupyter-widgets/controls",
      "_view_module_version": "1.5.0",
      "_view_name": "HTMLView",
      "description": "",
      "description_tooltip": null,
      "layout": "IPY_MODEL_615c413fdf88416db965320a4fe14019",
      "placeholder": "​",
      "style": "IPY_MODEL_3446d9b492114b1695563bf313c49239",
      "value": "100%"
     }
    },
    "0f6ead7872e04b45abb7ef02becee07a": {
     "model_module": "@jupyter-widgets/controls",
     "model_module_version": "1.5.0",
     "model_name": "ProgressStyleModel",
     "state": {
      "_model_module": "@jupyter-widgets/controls",
      "_model_module_version": "1.5.0",
      "_model_name": "ProgressStyleModel",
      "_view_count": null,
      "_view_module": "@jupyter-widgets/base",
      "_view_module_version": "1.2.0",
      "_view_name": "StyleView",
      "bar_color": null,
      "description_width": ""
     }
    },
    "21a2378052ef4506b3e2e02585d94c1b": {
     "model_module": "@jupyter-widgets/controls",
     "model_module_version": "1.5.0",
     "model_name": "HBoxModel",
     "state": {
      "_dom_classes": [],
      "_model_module": "@jupyter-widgets/controls",
      "_model_module_version": "1.5.0",
      "_model_name": "HBoxModel",
      "_view_count": null,
      "_view_module": "@jupyter-widgets/controls",
      "_view_module_version": "1.5.0",
      "_view_name": "HBoxView",
      "box_style": "",
      "children": [
       "IPY_MODEL_7e477ba1f85a4ca1a6eb4b82029e7f89",
       "IPY_MODEL_add9e5634f78404c813ba58ecbbe1c3b",
       "IPY_MODEL_2d128effd44d49a8aa2b3480c95b146b"
      ],
      "layout": "IPY_MODEL_b19cccbfec9344cb976e90a6fd5c66e2"
     }
    },
    "2d128effd44d49a8aa2b3480c95b146b": {
     "model_module": "@jupyter-widgets/controls",
     "model_module_version": "1.5.0",
     "model_name": "HTMLModel",
     "state": {
      "_dom_classes": [],
      "_model_module": "@jupyter-widgets/controls",
      "_model_module_version": "1.5.0",
      "_model_name": "HTMLModel",
      "_view_count": null,
      "_view_module": "@jupyter-widgets/controls",
      "_view_module_version": "1.5.0",
      "_view_name": "HTMLView",
      "description": "",
      "description_tooltip": null,
      "layout": "IPY_MODEL_f1d6173c66d44335bbd08b9b3f9cbe04",
      "placeholder": "​",
      "style": "IPY_MODEL_9fe79e8cee564d94ab5ad803ee16ec03",
      "value": " 1041/165896 [04:19&lt;8:46:10,  5.22it/s]"
     }
    },
    "3446d9b492114b1695563bf313c49239": {
     "model_module": "@jupyter-widgets/controls",
     "model_module_version": "1.5.0",
     "model_name": "DescriptionStyleModel",
     "state": {
      "_model_module": "@jupyter-widgets/controls",
      "_model_module_version": "1.5.0",
      "_model_name": "DescriptionStyleModel",
      "_view_count": null,
      "_view_module": "@jupyter-widgets/base",
      "_view_module_version": "1.2.0",
      "_view_name": "StyleView",
      "description_width": ""
     }
    },
    "49808b83f85d44b9b8035659a0bb3cfe": {
     "model_module": "@jupyter-widgets/controls",
     "model_module_version": "1.5.0",
     "model_name": "HTMLModel",
     "state": {
      "_dom_classes": [],
      "_model_module": "@jupyter-widgets/controls",
      "_model_module_version": "1.5.0",
      "_model_name": "HTMLModel",
      "_view_count": null,
      "_view_module": "@jupyter-widgets/controls",
      "_view_module_version": "1.5.0",
      "_view_name": "HTMLView",
      "description": "",
      "description_tooltip": null,
      "layout": "IPY_MODEL_b1b9633a2235450d9457761b1e74cd57",
      "placeholder": "​",
      "style": "IPY_MODEL_a4b6373bb6544e439a83e0136b2f9a5b",
      "value": " 165896/165896 [1:46:48&lt;00:00, 20.99it/s]"
     }
    },
    "615c413fdf88416db965320a4fe14019": {
     "model_module": "@jupyter-widgets/base",
     "model_module_version": "1.2.0",
     "model_name": "LayoutModel",
     "state": {
      "_model_module": "@jupyter-widgets/base",
      "_model_module_version": "1.2.0",
      "_model_name": "LayoutModel",
      "_view_count": null,
      "_view_module": "@jupyter-widgets/base",
      "_view_module_version": "1.2.0",
      "_view_name": "LayoutView",
      "align_content": null,
      "align_items": null,
      "align_self": null,
      "border": null,
      "bottom": null,
      "display": null,
      "flex": null,
      "flex_flow": null,
      "grid_area": null,
      "grid_auto_columns": null,
      "grid_auto_flow": null,
      "grid_auto_rows": null,
      "grid_column": null,
      "grid_gap": null,
      "grid_row": null,
      "grid_template_areas": null,
      "grid_template_columns": null,
      "grid_template_rows": null,
      "height": null,
      "justify_content": null,
      "justify_items": null,
      "left": null,
      "margin": null,
      "max_height": null,
      "max_width": null,
      "min_height": null,
      "min_width": null,
      "object_fit": null,
      "object_position": null,
      "order": null,
      "overflow": null,
      "overflow_x": null,
      "overflow_y": null,
      "padding": null,
      "right": null,
      "top": null,
      "visibility": null,
      "width": null
     }
    },
    "6796c75798c848b08eba06c8995a321a": {
     "model_module": "@jupyter-widgets/base",
     "model_module_version": "1.2.0",
     "model_name": "LayoutModel",
     "state": {
      "_model_module": "@jupyter-widgets/base",
      "_model_module_version": "1.2.0",
      "_model_name": "LayoutModel",
      "_view_count": null,
      "_view_module": "@jupyter-widgets/base",
      "_view_module_version": "1.2.0",
      "_view_name": "LayoutView",
      "align_content": null,
      "align_items": null,
      "align_self": null,
      "border": null,
      "bottom": null,
      "display": null,
      "flex": null,
      "flex_flow": null,
      "grid_area": null,
      "grid_auto_columns": null,
      "grid_auto_flow": null,
      "grid_auto_rows": null,
      "grid_column": null,
      "grid_gap": null,
      "grid_row": null,
      "grid_template_areas": null,
      "grid_template_columns": null,
      "grid_template_rows": null,
      "height": null,
      "justify_content": null,
      "justify_items": null,
      "left": null,
      "margin": null,
      "max_height": null,
      "max_width": null,
      "min_height": null,
      "min_width": null,
      "object_fit": null,
      "object_position": null,
      "order": null,
      "overflow": null,
      "overflow_x": null,
      "overflow_y": null,
      "padding": null,
      "right": null,
      "top": null,
      "visibility": null,
      "width": null
     }
    },
    "7e477ba1f85a4ca1a6eb4b82029e7f89": {
     "model_module": "@jupyter-widgets/controls",
     "model_module_version": "1.5.0",
     "model_name": "HTMLModel",
     "state": {
      "_dom_classes": [],
      "_model_module": "@jupyter-widgets/controls",
      "_model_module_version": "1.5.0",
      "_model_name": "HTMLModel",
      "_view_count": null,
      "_view_module": "@jupyter-widgets/controls",
      "_view_module_version": "1.5.0",
      "_view_name": "HTMLView",
      "description": "",
      "description_tooltip": null,
      "layout": "IPY_MODEL_f9e823649c9846dc850a485a2d27539d",
      "placeholder": "​",
      "style": "IPY_MODEL_c3839a6a576f4fffac9db4f780c7fc71",
      "value": "  1%"
     }
    },
    "86feb4bcdd2140bd8723de916e15b046": {
     "model_module": "@jupyter-widgets/controls",
     "model_module_version": "1.5.0",
     "model_name": "FloatProgressModel",
     "state": {
      "_dom_classes": [],
      "_model_module": "@jupyter-widgets/controls",
      "_model_module_version": "1.5.0",
      "_model_name": "FloatProgressModel",
      "_view_count": null,
      "_view_module": "@jupyter-widgets/controls",
      "_view_module_version": "1.5.0",
      "_view_name": "ProgressView",
      "bar_style": "success",
      "description": "",
      "description_tooltip": null,
      "layout": "IPY_MODEL_6796c75798c848b08eba06c8995a321a",
      "max": 165896,
      "min": 0,
      "orientation": "horizontal",
      "style": "IPY_MODEL_0f6ead7872e04b45abb7ef02becee07a",
      "value": 165896
     }
    },
    "972679a88cf74f44a93f4f95e9b34ea9": {
     "model_module": "@jupyter-widgets/controls",
     "model_module_version": "1.5.0",
     "model_name": "ProgressStyleModel",
     "state": {
      "_model_module": "@jupyter-widgets/controls",
      "_model_module_version": "1.5.0",
      "_model_name": "ProgressStyleModel",
      "_view_count": null,
      "_view_module": "@jupyter-widgets/base",
      "_view_module_version": "1.2.0",
      "_view_name": "StyleView",
      "bar_color": null,
      "description_width": ""
     }
    },
    "9fe79e8cee564d94ab5ad803ee16ec03": {
     "model_module": "@jupyter-widgets/controls",
     "model_module_version": "1.5.0",
     "model_name": "DescriptionStyleModel",
     "state": {
      "_model_module": "@jupyter-widgets/controls",
      "_model_module_version": "1.5.0",
      "_model_name": "DescriptionStyleModel",
      "_view_count": null,
      "_view_module": "@jupyter-widgets/base",
      "_view_module_version": "1.2.0",
      "_view_name": "StyleView",
      "description_width": ""
     }
    },
    "a251b6c1e5434295941abaa0f1beeb6d": {
     "model_module": "@jupyter-widgets/base",
     "model_module_version": "1.2.0",
     "model_name": "LayoutModel",
     "state": {
      "_model_module": "@jupyter-widgets/base",
      "_model_module_version": "1.2.0",
      "_model_name": "LayoutModel",
      "_view_count": null,
      "_view_module": "@jupyter-widgets/base",
      "_view_module_version": "1.2.0",
      "_view_name": "LayoutView",
      "align_content": null,
      "align_items": null,
      "align_self": null,
      "border": null,
      "bottom": null,
      "display": null,
      "flex": null,
      "flex_flow": null,
      "grid_area": null,
      "grid_auto_columns": null,
      "grid_auto_flow": null,
      "grid_auto_rows": null,
      "grid_column": null,
      "grid_gap": null,
      "grid_row": null,
      "grid_template_areas": null,
      "grid_template_columns": null,
      "grid_template_rows": null,
      "height": null,
      "justify_content": null,
      "justify_items": null,
      "left": null,
      "margin": null,
      "max_height": null,
      "max_width": null,
      "min_height": null,
      "min_width": null,
      "object_fit": null,
      "object_position": null,
      "order": null,
      "overflow": null,
      "overflow_x": null,
      "overflow_y": null,
      "padding": null,
      "right": null,
      "top": null,
      "visibility": null,
      "width": null
     }
    },
    "a4b6373bb6544e439a83e0136b2f9a5b": {
     "model_module": "@jupyter-widgets/controls",
     "model_module_version": "1.5.0",
     "model_name": "DescriptionStyleModel",
     "state": {
      "_model_module": "@jupyter-widgets/controls",
      "_model_module_version": "1.5.0",
      "_model_name": "DescriptionStyleModel",
      "_view_count": null,
      "_view_module": "@jupyter-widgets/base",
      "_view_module_version": "1.2.0",
      "_view_name": "StyleView",
      "description_width": ""
     }
    },
    "add9e5634f78404c813ba58ecbbe1c3b": {
     "model_module": "@jupyter-widgets/controls",
     "model_module_version": "1.5.0",
     "model_name": "FloatProgressModel",
     "state": {
      "_dom_classes": [],
      "_model_module": "@jupyter-widgets/controls",
      "_model_module_version": "1.5.0",
      "_model_name": "FloatProgressModel",
      "_view_count": null,
      "_view_module": "@jupyter-widgets/controls",
      "_view_module_version": "1.5.0",
      "_view_name": "ProgressView",
      "bar_style": "",
      "description": "",
      "description_tooltip": null,
      "layout": "IPY_MODEL_bc54b93b25034d08b3edb1e8a8166383",
      "max": 165896,
      "min": 0,
      "orientation": "horizontal",
      "style": "IPY_MODEL_972679a88cf74f44a93f4f95e9b34ea9",
      "value": 1041
     }
    },
    "b19cccbfec9344cb976e90a6fd5c66e2": {
     "model_module": "@jupyter-widgets/base",
     "model_module_version": "1.2.0",
     "model_name": "LayoutModel",
     "state": {
      "_model_module": "@jupyter-widgets/base",
      "_model_module_version": "1.2.0",
      "_model_name": "LayoutModel",
      "_view_count": null,
      "_view_module": "@jupyter-widgets/base",
      "_view_module_version": "1.2.0",
      "_view_name": "LayoutView",
      "align_content": null,
      "align_items": null,
      "align_self": null,
      "border": null,
      "bottom": null,
      "display": null,
      "flex": null,
      "flex_flow": null,
      "grid_area": null,
      "grid_auto_columns": null,
      "grid_auto_flow": null,
      "grid_auto_rows": null,
      "grid_column": null,
      "grid_gap": null,
      "grid_row": null,
      "grid_template_areas": null,
      "grid_template_columns": null,
      "grid_template_rows": null,
      "height": null,
      "justify_content": null,
      "justify_items": null,
      "left": null,
      "margin": null,
      "max_height": null,
      "max_width": null,
      "min_height": null,
      "min_width": null,
      "object_fit": null,
      "object_position": null,
      "order": null,
      "overflow": null,
      "overflow_x": null,
      "overflow_y": null,
      "padding": null,
      "right": null,
      "top": null,
      "visibility": null,
      "width": null
     }
    },
    "b1b9633a2235450d9457761b1e74cd57": {
     "model_module": "@jupyter-widgets/base",
     "model_module_version": "1.2.0",
     "model_name": "LayoutModel",
     "state": {
      "_model_module": "@jupyter-widgets/base",
      "_model_module_version": "1.2.0",
      "_model_name": "LayoutModel",
      "_view_count": null,
      "_view_module": "@jupyter-widgets/base",
      "_view_module_version": "1.2.0",
      "_view_name": "LayoutView",
      "align_content": null,
      "align_items": null,
      "align_self": null,
      "border": null,
      "bottom": null,
      "display": null,
      "flex": null,
      "flex_flow": null,
      "grid_area": null,
      "grid_auto_columns": null,
      "grid_auto_flow": null,
      "grid_auto_rows": null,
      "grid_column": null,
      "grid_gap": null,
      "grid_row": null,
      "grid_template_areas": null,
      "grid_template_columns": null,
      "grid_template_rows": null,
      "height": null,
      "justify_content": null,
      "justify_items": null,
      "left": null,
      "margin": null,
      "max_height": null,
      "max_width": null,
      "min_height": null,
      "min_width": null,
      "object_fit": null,
      "object_position": null,
      "order": null,
      "overflow": null,
      "overflow_x": null,
      "overflow_y": null,
      "padding": null,
      "right": null,
      "top": null,
      "visibility": null,
      "width": null
     }
    },
    "b3e46f2377b642f2a4b973568799d6a4": {
     "model_module": "@jupyter-widgets/controls",
     "model_module_version": "1.5.0",
     "model_name": "HBoxModel",
     "state": {
      "_dom_classes": [],
      "_model_module": "@jupyter-widgets/controls",
      "_model_module_version": "1.5.0",
      "_model_name": "HBoxModel",
      "_view_count": null,
      "_view_module": "@jupyter-widgets/controls",
      "_view_module_version": "1.5.0",
      "_view_name": "HBoxView",
      "box_style": "",
      "children": [
       "IPY_MODEL_060092c789b84f31bb136292b0d5cb2b",
       "IPY_MODEL_86feb4bcdd2140bd8723de916e15b046",
       "IPY_MODEL_49808b83f85d44b9b8035659a0bb3cfe"
      ],
      "layout": "IPY_MODEL_a251b6c1e5434295941abaa0f1beeb6d"
     }
    },
    "bc54b93b25034d08b3edb1e8a8166383": {
     "model_module": "@jupyter-widgets/base",
     "model_module_version": "1.2.0",
     "model_name": "LayoutModel",
     "state": {
      "_model_module": "@jupyter-widgets/base",
      "_model_module_version": "1.2.0",
      "_model_name": "LayoutModel",
      "_view_count": null,
      "_view_module": "@jupyter-widgets/base",
      "_view_module_version": "1.2.0",
      "_view_name": "LayoutView",
      "align_content": null,
      "align_items": null,
      "align_self": null,
      "border": null,
      "bottom": null,
      "display": null,
      "flex": null,
      "flex_flow": null,
      "grid_area": null,
      "grid_auto_columns": null,
      "grid_auto_flow": null,
      "grid_auto_rows": null,
      "grid_column": null,
      "grid_gap": null,
      "grid_row": null,
      "grid_template_areas": null,
      "grid_template_columns": null,
      "grid_template_rows": null,
      "height": null,
      "justify_content": null,
      "justify_items": null,
      "left": null,
      "margin": null,
      "max_height": null,
      "max_width": null,
      "min_height": null,
      "min_width": null,
      "object_fit": null,
      "object_position": null,
      "order": null,
      "overflow": null,
      "overflow_x": null,
      "overflow_y": null,
      "padding": null,
      "right": null,
      "top": null,
      "visibility": null,
      "width": null
     }
    },
    "c3839a6a576f4fffac9db4f780c7fc71": {
     "model_module": "@jupyter-widgets/controls",
     "model_module_version": "1.5.0",
     "model_name": "DescriptionStyleModel",
     "state": {
      "_model_module": "@jupyter-widgets/controls",
      "_model_module_version": "1.5.0",
      "_model_name": "DescriptionStyleModel",
      "_view_count": null,
      "_view_module": "@jupyter-widgets/base",
      "_view_module_version": "1.2.0",
      "_view_name": "StyleView",
      "description_width": ""
     }
    },
    "f1d6173c66d44335bbd08b9b3f9cbe04": {
     "model_module": "@jupyter-widgets/base",
     "model_module_version": "1.2.0",
     "model_name": "LayoutModel",
     "state": {
      "_model_module": "@jupyter-widgets/base",
      "_model_module_version": "1.2.0",
      "_model_name": "LayoutModel",
      "_view_count": null,
      "_view_module": "@jupyter-widgets/base",
      "_view_module_version": "1.2.0",
      "_view_name": "LayoutView",
      "align_content": null,
      "align_items": null,
      "align_self": null,
      "border": null,
      "bottom": null,
      "display": null,
      "flex": null,
      "flex_flow": null,
      "grid_area": null,
      "grid_auto_columns": null,
      "grid_auto_flow": null,
      "grid_auto_rows": null,
      "grid_column": null,
      "grid_gap": null,
      "grid_row": null,
      "grid_template_areas": null,
      "grid_template_columns": null,
      "grid_template_rows": null,
      "height": null,
      "justify_content": null,
      "justify_items": null,
      "left": null,
      "margin": null,
      "max_height": null,
      "max_width": null,
      "min_height": null,
      "min_width": null,
      "object_fit": null,
      "object_position": null,
      "order": null,
      "overflow": null,
      "overflow_x": null,
      "overflow_y": null,
      "padding": null,
      "right": null,
      "top": null,
      "visibility": null,
      "width": null
     }
    },
    "f9e823649c9846dc850a485a2d27539d": {
     "model_module": "@jupyter-widgets/base",
     "model_module_version": "1.2.0",
     "model_name": "LayoutModel",
     "state": {
      "_model_module": "@jupyter-widgets/base",
      "_model_module_version": "1.2.0",
      "_model_name": "LayoutModel",
      "_view_count": null,
      "_view_module": "@jupyter-widgets/base",
      "_view_module_version": "1.2.0",
      "_view_name": "LayoutView",
      "align_content": null,
      "align_items": null,
      "align_self": null,
      "border": null,
      "bottom": null,
      "display": null,
      "flex": null,
      "flex_flow": null,
      "grid_area": null,
      "grid_auto_columns": null,
      "grid_auto_flow": null,
      "grid_auto_rows": null,
      "grid_column": null,
      "grid_gap": null,
      "grid_row": null,
      "grid_template_areas": null,
      "grid_template_columns": null,
      "grid_template_rows": null,
      "height": null,
      "justify_content": null,
      "justify_items": null,
      "left": null,
      "margin": null,
      "max_height": null,
      "max_width": null,
      "min_height": null,
      "min_width": null,
      "object_fit": null,
      "object_position": null,
      "order": null,
      "overflow": null,
      "overflow_x": null,
      "overflow_y": null,
      "padding": null,
      "right": null,
      "top": null,
      "visibility": null,
      "width": null
     }
    }
   }
  }
 },
 "nbformat": 4,
 "nbformat_minor": 0
}
