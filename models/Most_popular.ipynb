{
 "cells": [
  {
   "cell_type": "code",
   "execution_count": 1,
   "id": "6223c4a7",
   "metadata": {},
   "outputs": [],
   "source": [
    "import opendatasets as od\n",
    "import pandas as pd\n",
    "import numpy as np\n",
    "\n",
    "from concurrent.futures import ProcessPoolExecutor\n",
    "from itertools import product\n",
    "from tqdm import tqdm\n",
    "from collections import defaultdict\n",
    "from surprise import Dataset, Reader, SVD\n",
    "from surprise import NormalPredictor\n",
    "from surprise.model_selection import train_test_split as surprise_train_test_split\n",
    "from surprise.accuracy import rmse\n",
    "from surprise import accuracy"
   ]
  },
  {
   "cell_type": "markdown",
   "id": "3b566c43",
   "metadata": {},
   "source": [
    "# Preprocesamiento"
   ]
  },
  {
   "cell_type": "code",
   "execution_count": 2,
   "id": "0b3d0097",
   "metadata": {},
   "outputs": [
    {
     "name": "stdout",
     "output_type": "stream",
     "text": [
      "Skipping, found downloaded files in \"data\\foodcom-recipes-and-reviews\" (use force=True to force download)\n"
     ]
    }
   ],
   "source": [
    "od.download_kaggle_dataset(\"https://www.kaggle.com/datasets/irkaal/foodcom-recipes-and-reviews\", \"data\")"
   ]
  },
  {
   "cell_type": "code",
   "execution_count": 3,
   "id": "a567adb1",
   "metadata": {},
   "outputs": [],
   "source": [
    "recipes = pd.read_parquet(\"data/foodcom-recipes-and-reviews/recipes.parquet\")\n",
    "reviews = pd.read_parquet(\"data/foodcom-recipes-and-reviews/reviews.parquet\")"
   ]
  },
  {
   "cell_type": "code",
   "execution_count": 4,
   "id": "c223ee82",
   "metadata": {},
   "outputs": [
    {
     "data": {
      "text/html": [
       "<div>\n",
       "<style scoped>\n",
       "    .dataframe tbody tr th:only-of-type {\n",
       "        vertical-align: middle;\n",
       "    }\n",
       "\n",
       "    .dataframe tbody tr th {\n",
       "        vertical-align: top;\n",
       "    }\n",
       "\n",
       "    .dataframe thead th {\n",
       "        text-align: right;\n",
       "    }\n",
       "</style>\n",
       "<table border=\"1\" class=\"dataframe\">\n",
       "  <thead>\n",
       "    <tr style=\"text-align: right;\">\n",
       "      <th></th>\n",
       "      <th>RecipeId</th>\n",
       "      <th>Name</th>\n",
       "      <th>AuthorId</th>\n",
       "      <th>AuthorName</th>\n",
       "      <th>CookTime</th>\n",
       "      <th>PrepTime</th>\n",
       "      <th>TotalTime</th>\n",
       "      <th>DatePublished</th>\n",
       "      <th>Description</th>\n",
       "      <th>Images</th>\n",
       "      <th>...</th>\n",
       "      <th>SaturatedFatContent</th>\n",
       "      <th>CholesterolContent</th>\n",
       "      <th>SodiumContent</th>\n",
       "      <th>CarbohydrateContent</th>\n",
       "      <th>FiberContent</th>\n",
       "      <th>SugarContent</th>\n",
       "      <th>ProteinContent</th>\n",
       "      <th>RecipeServings</th>\n",
       "      <th>RecipeYield</th>\n",
       "      <th>RecipeInstructions</th>\n",
       "    </tr>\n",
       "  </thead>\n",
       "  <tbody>\n",
       "    <tr>\n",
       "      <th>0</th>\n",
       "      <td>38.0</td>\n",
       "      <td>Low-Fat Berry Blue Frozen Dessert</td>\n",
       "      <td>1533</td>\n",
       "      <td>Dancer</td>\n",
       "      <td>PT24H</td>\n",
       "      <td>PT45M</td>\n",
       "      <td>PT24H45M</td>\n",
       "      <td>1999-08-09 21:46:00+00:00</td>\n",
       "      <td>Make and share this Low-Fat Berry Blue Frozen ...</td>\n",
       "      <td>[https://img.sndimg.com/food/image/upload/w_55...</td>\n",
       "      <td>...</td>\n",
       "      <td>1.3</td>\n",
       "      <td>8.0</td>\n",
       "      <td>29.8</td>\n",
       "      <td>37.1</td>\n",
       "      <td>3.6</td>\n",
       "      <td>30.2</td>\n",
       "      <td>3.2</td>\n",
       "      <td>4.0</td>\n",
       "      <td>None</td>\n",
       "      <td>[Toss 2 cups berries with sugar., Let stand fo...</td>\n",
       "    </tr>\n",
       "    <tr>\n",
       "      <th>1</th>\n",
       "      <td>39.0</td>\n",
       "      <td>Biryani</td>\n",
       "      <td>1567</td>\n",
       "      <td>elly9812</td>\n",
       "      <td>PT25M</td>\n",
       "      <td>PT4H</td>\n",
       "      <td>PT4H25M</td>\n",
       "      <td>1999-08-29 13:12:00+00:00</td>\n",
       "      <td>Make and share this Biryani recipe from Food.com.</td>\n",
       "      <td>[https://img.sndimg.com/food/image/upload/w_55...</td>\n",
       "      <td>...</td>\n",
       "      <td>16.6</td>\n",
       "      <td>372.8</td>\n",
       "      <td>368.4</td>\n",
       "      <td>84.4</td>\n",
       "      <td>9.0</td>\n",
       "      <td>20.4</td>\n",
       "      <td>63.4</td>\n",
       "      <td>6.0</td>\n",
       "      <td>None</td>\n",
       "      <td>[Soak saffron in warm milk for 5 minutes and p...</td>\n",
       "    </tr>\n",
       "    <tr>\n",
       "      <th>2</th>\n",
       "      <td>40.0</td>\n",
       "      <td>Best Lemonade</td>\n",
       "      <td>1566</td>\n",
       "      <td>Stephen Little</td>\n",
       "      <td>PT5M</td>\n",
       "      <td>PT30M</td>\n",
       "      <td>PT35M</td>\n",
       "      <td>1999-09-05 19:52:00+00:00</td>\n",
       "      <td>This is from one of my  first Good House Keepi...</td>\n",
       "      <td>[https://img.sndimg.com/food/image/upload/w_55...</td>\n",
       "      <td>...</td>\n",
       "      <td>0.0</td>\n",
       "      <td>0.0</td>\n",
       "      <td>1.8</td>\n",
       "      <td>81.5</td>\n",
       "      <td>0.4</td>\n",
       "      <td>77.2</td>\n",
       "      <td>0.3</td>\n",
       "      <td>4.0</td>\n",
       "      <td>None</td>\n",
       "      <td>[Into a 1 quart Jar with tight fitting lid, pu...</td>\n",
       "    </tr>\n",
       "    <tr>\n",
       "      <th>3</th>\n",
       "      <td>41.0</td>\n",
       "      <td>Carina's Tofu-Vegetable Kebabs</td>\n",
       "      <td>1586</td>\n",
       "      <td>Cyclopz</td>\n",
       "      <td>PT20M</td>\n",
       "      <td>PT24H</td>\n",
       "      <td>PT24H20M</td>\n",
       "      <td>1999-09-03 14:54:00+00:00</td>\n",
       "      <td>This dish is best prepared a day in advance to...</td>\n",
       "      <td>[https://img.sndimg.com/food/image/upload/w_55...</td>\n",
       "      <td>...</td>\n",
       "      <td>3.8</td>\n",
       "      <td>0.0</td>\n",
       "      <td>1558.6</td>\n",
       "      <td>64.2</td>\n",
       "      <td>17.3</td>\n",
       "      <td>32.1</td>\n",
       "      <td>29.3</td>\n",
       "      <td>2.0</td>\n",
       "      <td>4 kebabs</td>\n",
       "      <td>[Drain the tofu, carefully squeezing out exces...</td>\n",
       "    </tr>\n",
       "    <tr>\n",
       "      <th>4</th>\n",
       "      <td>42.0</td>\n",
       "      <td>Cabbage Soup</td>\n",
       "      <td>1538</td>\n",
       "      <td>Duckie067</td>\n",
       "      <td>PT30M</td>\n",
       "      <td>PT20M</td>\n",
       "      <td>PT50M</td>\n",
       "      <td>1999-09-19 06:19:00+00:00</td>\n",
       "      <td>Make and share this Cabbage Soup recipe from F...</td>\n",
       "      <td>[https://img.sndimg.com/food/image/upload/w_55...</td>\n",
       "      <td>...</td>\n",
       "      <td>0.1</td>\n",
       "      <td>0.0</td>\n",
       "      <td>959.3</td>\n",
       "      <td>25.1</td>\n",
       "      <td>4.8</td>\n",
       "      <td>17.7</td>\n",
       "      <td>4.3</td>\n",
       "      <td>4.0</td>\n",
       "      <td>None</td>\n",
       "      <td>[Mix everything together and bring to a boil.,...</td>\n",
       "    </tr>\n",
       "  </tbody>\n",
       "</table>\n",
       "<p>5 rows × 28 columns</p>\n",
       "</div>"
      ],
      "text/plain": [
       "   RecipeId                               Name  AuthorId      AuthorName  \\\n",
       "0      38.0  Low-Fat Berry Blue Frozen Dessert      1533          Dancer   \n",
       "1      39.0                            Biryani      1567        elly9812   \n",
       "2      40.0                      Best Lemonade      1566  Stephen Little   \n",
       "3      41.0     Carina's Tofu-Vegetable Kebabs      1586         Cyclopz   \n",
       "4      42.0                       Cabbage Soup      1538       Duckie067   \n",
       "\n",
       "  CookTime PrepTime TotalTime             DatePublished  \\\n",
       "0    PT24H    PT45M  PT24H45M 1999-08-09 21:46:00+00:00   \n",
       "1    PT25M     PT4H   PT4H25M 1999-08-29 13:12:00+00:00   \n",
       "2     PT5M    PT30M     PT35M 1999-09-05 19:52:00+00:00   \n",
       "3    PT20M    PT24H  PT24H20M 1999-09-03 14:54:00+00:00   \n",
       "4    PT30M    PT20M     PT50M 1999-09-19 06:19:00+00:00   \n",
       "\n",
       "                                         Description  \\\n",
       "0  Make and share this Low-Fat Berry Blue Frozen ...   \n",
       "1  Make and share this Biryani recipe from Food.com.   \n",
       "2  This is from one of my  first Good House Keepi...   \n",
       "3  This dish is best prepared a day in advance to...   \n",
       "4  Make and share this Cabbage Soup recipe from F...   \n",
       "\n",
       "                                              Images  ... SaturatedFatContent  \\\n",
       "0  [https://img.sndimg.com/food/image/upload/w_55...  ...                 1.3   \n",
       "1  [https://img.sndimg.com/food/image/upload/w_55...  ...                16.6   \n",
       "2  [https://img.sndimg.com/food/image/upload/w_55...  ...                 0.0   \n",
       "3  [https://img.sndimg.com/food/image/upload/w_55...  ...                 3.8   \n",
       "4  [https://img.sndimg.com/food/image/upload/w_55...  ...                 0.1   \n",
       "\n",
       "  CholesterolContent SodiumContent CarbohydrateContent  FiberContent  \\\n",
       "0                8.0          29.8                37.1           3.6   \n",
       "1              372.8         368.4                84.4           9.0   \n",
       "2                0.0           1.8                81.5           0.4   \n",
       "3                0.0        1558.6                64.2          17.3   \n",
       "4                0.0         959.3                25.1           4.8   \n",
       "\n",
       "   SugarContent  ProteinContent  RecipeServings  RecipeYield  \\\n",
       "0          30.2             3.2             4.0         None   \n",
       "1          20.4            63.4             6.0         None   \n",
       "2          77.2             0.3             4.0         None   \n",
       "3          32.1            29.3             2.0     4 kebabs   \n",
       "4          17.7             4.3             4.0         None   \n",
       "\n",
       "                                  RecipeInstructions  \n",
       "0  [Toss 2 cups berries with sugar., Let stand fo...  \n",
       "1  [Soak saffron in warm milk for 5 minutes and p...  \n",
       "2  [Into a 1 quart Jar with tight fitting lid, pu...  \n",
       "3  [Drain the tofu, carefully squeezing out exces...  \n",
       "4  [Mix everything together and bring to a boil.,...  \n",
       "\n",
       "[5 rows x 28 columns]"
      ]
     },
     "execution_count": 4,
     "metadata": {},
     "output_type": "execute_result"
    }
   ],
   "source": [
    "recipes.head()"
   ]
  },
  {
   "cell_type": "code",
   "execution_count": 5,
   "id": "63865e55",
   "metadata": {},
   "outputs": [
    {
     "data": {
      "text/html": [
       "<div>\n",
       "<style scoped>\n",
       "    .dataframe tbody tr th:only-of-type {\n",
       "        vertical-align: middle;\n",
       "    }\n",
       "\n",
       "    .dataframe tbody tr th {\n",
       "        vertical-align: top;\n",
       "    }\n",
       "\n",
       "    .dataframe thead th {\n",
       "        text-align: right;\n",
       "    }\n",
       "</style>\n",
       "<table border=\"1\" class=\"dataframe\">\n",
       "  <thead>\n",
       "    <tr style=\"text-align: right;\">\n",
       "      <th></th>\n",
       "      <th>ReviewId</th>\n",
       "      <th>RecipeId</th>\n",
       "      <th>AuthorId</th>\n",
       "      <th>AuthorName</th>\n",
       "      <th>Rating</th>\n",
       "      <th>Review</th>\n",
       "      <th>DateSubmitted</th>\n",
       "      <th>DateModified</th>\n",
       "    </tr>\n",
       "  </thead>\n",
       "  <tbody>\n",
       "    <tr>\n",
       "      <th>0</th>\n",
       "      <td>2</td>\n",
       "      <td>992</td>\n",
       "      <td>2008</td>\n",
       "      <td>gayg msft</td>\n",
       "      <td>5</td>\n",
       "      <td>better than any you can get at a restaurant!</td>\n",
       "      <td>2000-01-25 21:44:00+00:00</td>\n",
       "      <td>2000-01-25 21:44:00+00:00</td>\n",
       "    </tr>\n",
       "    <tr>\n",
       "      <th>1</th>\n",
       "      <td>7</td>\n",
       "      <td>4384</td>\n",
       "      <td>1634</td>\n",
       "      <td>Bill Hilbrich</td>\n",
       "      <td>4</td>\n",
       "      <td>I cut back on the mayo, and made up the differ...</td>\n",
       "      <td>2001-10-17 16:49:59+00:00</td>\n",
       "      <td>2001-10-17 16:49:59+00:00</td>\n",
       "    </tr>\n",
       "    <tr>\n",
       "      <th>2</th>\n",
       "      <td>9</td>\n",
       "      <td>4523</td>\n",
       "      <td>2046</td>\n",
       "      <td>Gay Gilmore ckpt</td>\n",
       "      <td>2</td>\n",
       "      <td>i think i did something wrong because i could ...</td>\n",
       "      <td>2000-02-25 09:00:00+00:00</td>\n",
       "      <td>2000-02-25 09:00:00+00:00</td>\n",
       "    </tr>\n",
       "    <tr>\n",
       "      <th>3</th>\n",
       "      <td>13</td>\n",
       "      <td>7435</td>\n",
       "      <td>1773</td>\n",
       "      <td>Malarkey Test</td>\n",
       "      <td>5</td>\n",
       "      <td>easily the best i have ever had.  juicy flavor...</td>\n",
       "      <td>2000-03-13 21:15:00+00:00</td>\n",
       "      <td>2000-03-13 21:15:00+00:00</td>\n",
       "    </tr>\n",
       "    <tr>\n",
       "      <th>4</th>\n",
       "      <td>14</td>\n",
       "      <td>44</td>\n",
       "      <td>2085</td>\n",
       "      <td>Tony Small</td>\n",
       "      <td>5</td>\n",
       "      <td>An excellent dish.</td>\n",
       "      <td>2000-03-28 12:51:00+00:00</td>\n",
       "      <td>2000-03-28 12:51:00+00:00</td>\n",
       "    </tr>\n",
       "  </tbody>\n",
       "</table>\n",
       "</div>"
      ],
      "text/plain": [
       "   ReviewId  RecipeId  AuthorId        AuthorName  Rating  \\\n",
       "0         2       992      2008         gayg msft       5   \n",
       "1         7      4384      1634     Bill Hilbrich       4   \n",
       "2         9      4523      2046  Gay Gilmore ckpt       2   \n",
       "3        13      7435      1773     Malarkey Test       5   \n",
       "4        14        44      2085        Tony Small       5   \n",
       "\n",
       "                                              Review  \\\n",
       "0       better than any you can get at a restaurant!   \n",
       "1  I cut back on the mayo, and made up the differ...   \n",
       "2  i think i did something wrong because i could ...   \n",
       "3  easily the best i have ever had.  juicy flavor...   \n",
       "4                                 An excellent dish.   \n",
       "\n",
       "              DateSubmitted              DateModified  \n",
       "0 2000-01-25 21:44:00+00:00 2000-01-25 21:44:00+00:00  \n",
       "1 2001-10-17 16:49:59+00:00 2001-10-17 16:49:59+00:00  \n",
       "2 2000-02-25 09:00:00+00:00 2000-02-25 09:00:00+00:00  \n",
       "3 2000-03-13 21:15:00+00:00 2000-03-13 21:15:00+00:00  \n",
       "4 2000-03-28 12:51:00+00:00 2000-03-28 12:51:00+00:00  "
      ]
     },
     "execution_count": 5,
     "metadata": {},
     "output_type": "execute_result"
    }
   ],
   "source": [
    "reviews.head()"
   ]
  },
  {
   "cell_type": "code",
   "execution_count": 6,
   "id": "ca2bc12f",
   "metadata": {},
   "outputs": [],
   "source": [
    "def check_users(train_users, test_users):\n",
    "    users_in_train = set(train_users)\n",
    "    users_in_test = set(test_users)\n",
    "    users_out_of_train = users_in_test - users_in_train\n",
    "    if users_out_of_train != set():\n",
    "      raise Exception(f\"Users {users_out_of_train} are not in train\")\n",
    "    \n",
    "def get_train_and_test(reviews, test_size):\n",
    "    np.random.seed(314159265)\n",
    "    reviews_randomized = list(reviews.itertuples(index=True))\n",
    "    np.random.shuffle(reviews_randomized)\n",
    "    test_tuples = []\n",
    "\n",
    "    user_review_counts = reviews.groupby('AuthorId').size()\n",
    "    users_with_multiple_reviews_counts = user_review_counts[user_review_counts > 1].to_dict()\n",
    "    users_with_multiple_reviews = set(users_with_multiple_reviews_counts.keys())\n",
    "\n",
    "    for review in tqdm(reviews_randomized):\n",
    "      if review.AuthorId not in users_with_multiple_reviews: continue\n",
    "      users_with_multiple_reviews_counts[review.AuthorId] -= 1\n",
    "      if users_with_multiple_reviews_counts[review.AuthorId] == 1:\n",
    "        users_with_multiple_reviews.remove(review.AuthorId)\n",
    "\n",
    "      test_tuples.append(review)\n",
    "      if len(test_tuples) >= len(reviews) * test_size: break\n",
    "      \n",
    "    test_df = pd.DataFrame(test_tuples).set_index(\"Index\")\n",
    "    train_df = reviews.drop(test_df.index)\n",
    "    return train_df, test_df"
   ]
  },
  {
   "cell_type": "markdown",
   "id": "5347c71b",
   "metadata": {},
   "source": [
    "# Most Popular"
   ]
  },
  {
   "cell_type": "code",
   "execution_count": 7,
   "id": "ad3f7a23",
   "metadata": {},
   "outputs": [
    {
     "name": "stderr",
     "output_type": "stream",
     "text": [
      " 23%|██▎       | 328722/1401982 [00:00<00:01, 1036734.93it/s]\n"
     ]
    }
   ],
   "source": [
    "# Inspeccionar las columnas relevantes\n",
    "reviews_data = reviews[['RecipeId', 'AuthorId', 'Rating']]\n",
    "recipes_data = recipes[['RecipeId']]\n",
    "\n",
    "# Dividir el conjunto en entrenamiento y prueba por usuario\n",
    "train, test = get_train_and_test(reviews_data, test_size=0.2)\n"
   ]
  },
  {
   "cell_type": "code",
   "execution_count": 8,
   "id": "2d278881",
   "metadata": {},
   "outputs": [],
   "source": [
    "# Crear un recomendador \"Most Popular\" basado en frecuencia\n",
    "def most_popular_by_interaction(train_data, top_n=10):\n",
    "    # Contar la popularidad de cada receta en el conjunto de entrenamiento\n",
    "    popularity = train_data['RecipeId'].value_counts()\n",
    "    # Retornar los IDs de las recetas más populares\n",
    "    return popularity.head(top_n).index.tolist()\n",
    "\n",
    "def most_popular_by_positive_interaction(train_data, top_n=10, threshold = 4):\n",
    "    # Filtrar interacciones positivas (rating >= 4)\n",
    "    positive_interactions = train_data[train_data['Rating'] >= threshold]\n",
    "    # Contar la frecuencia de interacciones positivas por receta\n",
    "    positive_frequency = positive_interactions['RecipeId'].value_counts()\n",
    "    # Ordenar las recetas por frecuencia descendente y seleccionar las más populares\n",
    "    popular_items = positive_frequency.head(top_n).index.tolist()\n",
    "    return popular_items\n",
    "\n",
    "def most_popular_by_rating(train_data, top_n=10):\n",
    "    # Calcular el promedio de los ratings por receta\n",
    "    avg_ratings = train_data.groupby('RecipeId')['Rating'].mean()\n",
    "    # Ordenar las recetas por rating promedio descendente\n",
    "    popular_items = avg_ratings.sort_values(ascending=False).head(top_n).index.tolist()\n",
    "    return popular_items\n",
    "\n",
    "# Evaluación de métricas NDCG@10, Recall@10, Precision@10\n",
    "def calculate_metrics(test_data, recommendations, top_n=10, threshold = 4):\n",
    "    ndcg_scores = []\n",
    "    recall_scores = []\n",
    "    precision_scores = []\n",
    "\n",
    "    # Agrupar las interacciones por usuario\n",
    "    test_grouped = test_data.groupby('AuthorId')\n",
    "\n",
    "    for user, group in test_grouped:\n",
    "        # Obtener las recetas con las que el usuario interactuó\n",
    "        user_items = set(group[group['Rating'] >= threshold]['RecipeId'].tolist())\n",
    "        # Recomendaciones relevantes para el usuario\n",
    "        recommended_items = recommendations[:top_n]\n",
    "        hits = len(set(recommended_items) & user_items)\n",
    "\n",
    "        # Precision@N\n",
    "        precision = hits / top_n\n",
    "        precision_scores.append(precision)\n",
    "\n",
    "        # Recall@N\n",
    "        recall = hits / len(user_items) if user_items else 0\n",
    "        recall_scores.append(recall)\n",
    "\n",
    "        # NDCG@N\n",
    "        dcg = sum([1 / np.log2(idx + 2) for idx, item in enumerate(recommended_items) if item in user_items])\n",
    "        idcg = sum([1 / np.log2(idx + 2) for idx in range(min(len(user_items), top_n))])\n",
    "        ndcg = dcg / idcg if idcg > 0 else 0\n",
    "        ndcg_scores.append(ndcg)\n",
    "\n",
    "    # Calcular promedios de las métricas\n",
    "    return {\n",
    "        'Precision@10': np.mean(precision_scores),\n",
    "        'Recall@10': np.mean(recall_scores),\n",
    "        'NDCG@10': np.mean(ndcg_scores)\n",
    "    }"
   ]
  },
  {
   "cell_type": "code",
   "execution_count": 9,
   "id": "a1487bfa",
   "metadata": {},
   "outputs": [
    {
     "name": "stdout",
     "output_type": "stream",
     "text": [
      "{'Precision@10': 0.004580316208920691, 'Recall@10': 0.015601049603278613, 'NDCG@10': 0.01108472982218702}\n",
      "{'Precision@10': 1.928103174943228e-05, 'Recall@10': 4.6997855772514054e-05, 'NDCG@10': 4.204886709135507e-05}\n",
      "{'Precision@10': 0.004980933201936672, 'Recall@10': 0.016615683072420638, 'NDCG@10': 0.011586892039924903}\n"
     ]
    }
   ],
   "source": [
    "popular_by_interaction = most_popular_by_interaction(train, 10)\n",
    "popular_by_positive_interaction = most_popular_by_positive_interaction(train, 10)\n",
    "popular_by_rating = most_popular_by_rating(train, 10)\n",
    "metrics = calculate_metrics(test, popular_by_interaction, top_n=10, threshold = 4)\n",
    "print(metrics)\n",
    "metrics = calculate_metrics(test, popular_by_rating, top_n=10, threshold = 4)\n",
    "print(metrics)\n",
    "metrics = calculate_metrics(test, popular_by_positive_interaction, top_n=10, threshold = 4)\n",
    "print(metrics)"
   ]
  },
  {
   "cell_type": "markdown",
   "id": "4552a5d0",
   "metadata": {},
   "source": [
    "# Random"
   ]
  },
  {
   "cell_type": "markdown",
   "id": "a69365cd",
   "metadata": {},
   "source": [
    "https://surprise.readthedocs.io/en/stable/FAQ.html"
   ]
  },
  {
   "cell_type": "code",
   "execution_count": 10,
   "id": "23ef04c4",
   "metadata": {},
   "outputs": [],
   "source": [
    "def get_top_n(predictions, n=10):\n",
    "    \"\"\"Return the top-N recommendation for each user from a set of predictions.\n",
    "\n",
    "    Args:\n",
    "        predictions(list of Prediction objects): The list of predictions, as\n",
    "            returned by the test method of an algorithm.\n",
    "        n(int): The number of recommendation to output for each user. Default\n",
    "            is 10.\n",
    "\n",
    "    Returns:\n",
    "    A dict where keys are user (raw) ids and values are lists of tuples:\n",
    "        [(raw item id, rating estimation), ...] of size n.\n",
    "    \"\"\"\n",
    "\n",
    "    # First map the predictions to each user.\n",
    "    top_n = defaultdict(list)\n",
    "    for uid, iid, true_r, est, _ in predictions:\n",
    "        top_n[uid].append((iid, est))\n",
    "\n",
    "    # Then sort the predictions for each user and retrieve the k highest ones.\n",
    "    for uid, user_ratings in top_n.items():\n",
    "        user_ratings.sort(key=lambda x: x[1], reverse=True)\n",
    "        top_n[uid] = user_ratings[:n]\n",
    "\n",
    "    return top_n\n",
    "\n",
    "def calculate_metrics(model, test_df, n=10, threshold=4):\n",
    "    \"\"\"\n",
    "    Calculate Precision@N, Recall@N, and NDCG@N for a recommendation system.\n",
    "\n",
    "    Parameters:\n",
    "        test_data (DataFrame): DataFrame with user interactions (must include 'AuthorId', 'RecipeId', and 'Rating').\n",
    "        predictions (list): List of prediction objects from Surprise's `test` method.\n",
    "        n (int): Number of top recommendations to consider.\n",
    "        threshold (int): Minimum rating to consider an item relevant.\n",
    "\n",
    "    Returns:\n",
    "        dict: Dictionary with mean Precision@N, Recall@N, and NDCG@N scores.\n",
    "    \"\"\"\n",
    "    ndcg_scores = []\n",
    "    recall_scores = []\n",
    "    precision_scores = []\n",
    "    # Group the test data by user\n",
    "    \n",
    "    RecipeIds = test_df.RecipeId.unique()\n",
    "    test_grouped = test_df.groupby('AuthorId')\n",
    "    for user, group in tqdm(test_grouped):\n",
    "        combinations = list(product([user], RecipeIds, [0]))\n",
    "        predictions = model.test(combinations)\n",
    "\n",
    "        recommended_items = get_top_n(predictions, n=n)\n",
    "        recommended_items = [item[0] for item in recommended_items[user]]\n",
    "\n",
    "        # Get relevant items for the user (items with ratings >= threshold)\n",
    "        user_items = set(group[group['Rating'] >= threshold]['RecipeId'].tolist())\n",
    "\n",
    "        # Calculate hits\n",
    "        hits = len(set(recommended_items) & user_items)\n",
    "\n",
    "        # Precision@N\n",
    "        precision = hits / n\n",
    "        precision_scores.append(precision)\n",
    "\n",
    "        # Recall@N\n",
    "        recall = hits / len(user_items) if user_items else 0\n",
    "        recall_scores.append(recall)\n",
    "\n",
    "        # NDCG@N\n",
    "        dcg = sum([1 / np.log2(idx + 2) for idx, item in enumerate(recommended_items) if item in user_items])\n",
    "        idcg = sum([1 / np.log2(idx + 2) for idx in range(min(len(user_items), n))])\n",
    "        ndcg = dcg / idcg if idcg > 0 else 0\n",
    "        ndcg_scores.append(ndcg)\n",
    "\n",
    "    # Return the mean metrics\n",
    "    return {\n",
    "        'Precision@N': np.mean(precision_scores),\n",
    "        'Recall@N': np.mean(recall_scores),\n",
    "        'NDCG@N': np.mean(ndcg_scores)\n",
    "    }\n"
   ]
  },
  {
   "cell_type": "code",
   "execution_count": 11,
   "id": "be4c3380",
   "metadata": {},
   "outputs": [
    {
     "name": "stderr",
     "output_type": "stream",
     "text": [
      " 23%|██▎       | 328722/1401982 [00:00<00:00, 1097776.44it/s]\n"
     ]
    }
   ],
   "source": [
    "# Inspeccionar las columnas relevantes\n",
    "reviews_data = reviews[['AuthorId', 'RecipeId', 'Rating']]\n",
    "\n",
    "# Dividir el conjunto en entrenamiento y prueba por usuario\n",
    "train_df, test_df = get_train_and_test(reviews_data, test_size=0.2)\n",
    "\n",
    "reader = Reader(rating_scale=(0, 5))\n",
    "\n",
    "train_data = Dataset.load_from_df(train_df, reader)\n",
    "trainset = train_data.build_full_trainset()\n",
    "\n",
    "testset = list(test_df.itertuples(index=False, name=None))"
   ]
  },
  {
   "cell_type": "code",
   "execution_count": 12,
   "id": "b87f2878",
   "metadata": {},
   "outputs": [
    {
     "data": {
      "text/plain": [
       "<surprise.prediction_algorithms.random_pred.NormalPredictor at 0x16f77a77e50>"
      ]
     },
     "execution_count": 12,
     "metadata": {},
     "output_type": "execute_result"
    }
   ],
   "source": [
    "randomModel = NormalPredictor()\n",
    "randomModel.fit(trainset)"
   ]
  },
  {
   "cell_type": "code",
   "execution_count": 13,
   "id": "7594e34a",
   "metadata": {},
   "outputs": [
    {
     "name": "stderr",
     "output_type": "stream",
     "text": [
      "100%|██████████| 46678/46678 [8:01:34<00:00,  1.62it/s]  \n"
     ]
    }
   ],
   "source": [
    "metrics = calculate_metrics(randomModel, test_df, n=10, threshold=4)"
   ]
  },
  {
   "cell_type": "code",
   "execution_count": 14,
   "id": "72b4c046",
   "metadata": {},
   "outputs": [
    {
     "data": {
      "text/plain": [
       "{'Precision@N': 0.00021637602296585117,\n",
       " 'Recall@N': 0.0005861152964504721,\n",
       " 'NDCG@N': 0.00032347558698440763}"
      ]
     },
     "execution_count": 14,
     "metadata": {},
     "output_type": "execute_result"
    }
   ],
   "source": [
    "metrics"
   ]
  },
  {
   "cell_type": "markdown",
   "id": "6d0cc9ba",
   "metadata": {},
   "source": [
    "# FunkSVD"
   ]
  },
  {
   "cell_type": "code",
   "execution_count": 17,
   "id": "b109c7d5",
   "metadata": {},
   "outputs": [
    {
     "name": "stderr",
     "output_type": "stream",
     "text": [
      " 23%|██▎       | 328722/1401982 [00:00<00:00, 1127808.97it/s]\n"
     ]
    },
    {
     "data": {
      "text/plain": [
       "<surprise.prediction_algorithms.matrix_factorization.SVD at 0x16fe35ae9b0>"
      ]
     },
     "execution_count": 17,
     "metadata": {},
     "output_type": "execute_result"
    }
   ],
   "source": [
    "# Inspeccionar las columnas relevantes\n",
    "reviews_data = reviews[['AuthorId', 'RecipeId', 'Rating']]\n",
    "\n",
    "# Dividir el conjunto en entrenamiento y prueba por usuario\n",
    "train_df, test_df = get_train_and_test(reviews_data, test_size=0.2)\n",
    "\n",
    "reader = Reader(rating_scale=(0, 5))\n",
    "\n",
    "train_data = Dataset.load_from_df(train_df, reader)\n",
    "trainset = train_data.build_full_trainset()\n",
    "\n",
    "testset = list(test_df.itertuples(index=False, name=None))\n",
    "\n",
    "svdModel = SVD()\n",
    "svdModel.fit(trainset)"
   ]
  },
  {
   "cell_type": "code",
   "execution_count": 18,
   "id": "e05d20c5",
   "metadata": {},
   "outputs": [
    {
     "name": "stderr",
     "output_type": "stream",
     "text": [
      "100%|██████████| 46678/46678 [10:02:58<00:00,  1.29it/s]  \n"
     ]
    }
   ],
   "source": [
    "metrics = calculate_metrics(svdModel, test_df, n=10, threshold=4)"
   ]
  },
  {
   "cell_type": "code",
   "execution_count": 19,
   "id": "68715579",
   "metadata": {},
   "outputs": [
    {
     "data": {
      "text/plain": [
       "{'Precision@N': 0.0007005441535627061,\n",
       " 'Recall@N': 0.0020817465433371194,\n",
       " 'NDCG@N': 0.0015608756797149132}"
      ]
     },
     "execution_count": 19,
     "metadata": {},
     "output_type": "execute_result"
    }
   ],
   "source": [
    "metrics"
   ]
  }
 ],
 "metadata": {
  "kernelspec": {
   "display_name": "Python 3",
   "language": "python",
   "name": "python3"
  },
  "language_info": {
   "codemirror_mode": {
    "name": "ipython",
    "version": 3
   },
   "file_extension": ".py",
   "mimetype": "text/x-python",
   "name": "python",
   "nbconvert_exporter": "python",
   "pygments_lexer": "ipython3",
   "version": "3.10.9"
  }
 },
 "nbformat": 4,
 "nbformat_minor": 5
}
