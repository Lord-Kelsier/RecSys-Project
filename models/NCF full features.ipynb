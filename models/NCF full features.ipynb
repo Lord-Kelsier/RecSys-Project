{
 "cells": [
  {
   "cell_type": "markdown",
   "metadata": {
    "id": "hTlYyk2YOyKb"
   },
   "source": [
    "# Download"
   ]
  },
  {
   "cell_type": "code",
   "execution_count": 1,
   "metadata": {
    "colab": {
     "base_uri": "https://localhost:8080/"
    },
    "executionInfo": {
     "elapsed": 132173,
     "status": "ok",
     "timestamp": 1733193827423,
     "user": {
      "displayName": "Eduardo Contreras",
      "userId": "04220510561979261999"
     },
     "user_tz": 180
    },
    "id": "ZnIQLDRPNrxP",
    "outputId": "0251a8fe-be52-4c5f-d1fe-64363fc7f296"
   },
   "outputs": [],
   "source": [
    "# !pip install kaggle\n",
    "# !kaggle datasets download -d irkaal/foodcom-recipes-and-reviews -f recipes.parquet\n",
    "# !kaggle datasets download -d irkaal/foodcom-recipes-and-reviews -f reviews.parquet\n",
    "# !unzip recipes.parquet.zip\n",
    "# !rm recipes.parquet.zip\n",
    "# !unzip reviews.parquet.zip\n",
    "# !rm reviews.parquet.zip\n",
    "# !wget https://raw.githubusercontent.com/Lord-Kelsier/datasets/refs/heads/master/mappers.json\n",
    "# !wget \"https://raw.githubusercontent.com/Lord-Kelsier/datasets/refs/heads/master/mappers.json\"\n",
    "# !wget \"https://raw.githubusercontent.com/Lord-Kelsier/datasets/refs/heads/master/image_id_to_recipe_id.json\"\n",
    "# !gdown --fuzzy https://drive.google.com/file/d/1jL4OLNrrgibGREoZxtgZ5laRqLTgtwUx/view?usp=drive_link\n",
    "# !gdown --fuzzy https://drive.google.com/file/d/1CWj-QSZtlFb9rhn-FFjE7c_9SOoYaxv_/view?usp=drive_link\n",
    "# !gdown --fuzzy https://drive.google.com/file/d/182j3iLuC_9Gl2WCUzcP7TeHpymJtfx1R/view?usp=drive_link\n",
    "# !gdown --fuzzy https://drive.google.com/file/d/1LDCYdpC1nqHQRQpHFrvpI9Ohv49k9gxt/view?usp=drive_link\n"
   ]
  },
  {
   "cell_type": "markdown",
   "metadata": {
    "id": "D3QWyxmcOw3J"
   },
   "source": [
    "# Libs"
   ]
  },
  {
   "cell_type": "code",
   "execution_count": 2,
   "metadata": {
    "executionInfo": {
     "elapsed": 4004,
     "status": "ok",
     "timestamp": 1733193840201,
     "user": {
      "displayName": "Eduardo Contreras",
      "userId": "04220510561979261999"
     },
     "user_tz": 180
    },
    "id": "QCInAPs5OVAQ"
   },
   "outputs": [],
   "source": [
    "import torch\n",
    "from torch import nn\n",
    "import pandas as pd\n",
    "import numpy as np\n",
    "import matplotlib.pyplot as plt\n",
    "from torch.utils.data import DataLoader, Dataset\n",
    "from tqdm.notebook import tqdm\n",
    "import pickle as pkl\n",
    "import h5py\n",
    "import json\n",
    "device = 'cuda' if torch.cuda.is_available() else 'cpu'"
   ]
  },
  {
   "cell_type": "markdown",
   "metadata": {
    "id": "fHP7EdJ5O5OY"
   },
   "source": [
    "# Dataset"
   ]
  },
  {
   "cell_type": "code",
   "execution_count": 3,
   "metadata": {
    "executionInfo": {
     "elapsed": 2916,
     "status": "ok",
     "timestamp": 1733193843115,
     "user": {
      "displayName": "Eduardo Contreras",
      "userId": "04220510561979261999"
     },
     "user_tz": 180
    },
    "id": "RnAoxmoyjL9_"
   },
   "outputs": [],
   "source": [
    "reviews_train = pd.read_csv(\"https://raw.githubusercontent.com/Lord-Kelsier/datasets/refs/heads/master/review_train.csv\")\n",
    "reviews_test = pd.read_csv(\"https://raw.githubusercontent.com/Lord-Kelsier/datasets/refs/heads/master/review_test.csv\")\n",
    "recipes = pd.read_csv(\"https://raw.githubusercontent.com/Lord-Kelsier/datasets/refs/heads/master/recipes.csv\")"
   ]
  },
  {
   "cell_type": "code",
   "execution_count": 4,
   "metadata": {
    "colab": {
     "base_uri": "https://localhost:8080/"
    },
    "executionInfo": {
     "elapsed": 12,
     "status": "ok",
     "timestamp": 1733193843116,
     "user": {
      "displayName": "Eduardo Contreras",
      "userId": "04220510561979261999"
     },
     "user_tz": 180
    },
    "id": "-SmeikBuPf_C",
    "outputId": "44c559fb-e457-4f9c-9b90-b28c691ac149"
   },
   "outputs": [
    {
     "data": {
      "text/plain": [
       "(271906, 238658)"
      ]
     },
     "execution_count": 4,
     "metadata": {},
     "output_type": "execute_result"
    }
   ],
   "source": [
    "users_amount, recipes_amount = len(reviews_train[\"AuthorId\"].unique()), len(reviews_train[\"RecipeId\"].unique())\n",
    "users_amount, recipes_amount"
   ]
  },
  {
   "cell_type": "code",
   "execution_count": 5,
   "metadata": {
    "colab": {
     "base_uri": "https://localhost:8080/"
    },
    "executionInfo": {
     "elapsed": 10,
     "status": "ok",
     "timestamp": 1733193843116,
     "user": {
      "displayName": "Eduardo Contreras",
      "userId": "04220510561979261999"
     },
     "user_tz": 180
    },
    "id": "KbCtTQJc-su8",
    "outputId": "0baa5558-f254-4dab-92b9-1680519bbd6f"
   },
   "outputs": [
    {
     "data": {
      "text/plain": [
       "(0, 238657, 238658, 238658)"
      ]
     },
     "execution_count": 5,
     "metadata": {},
     "output_type": "execute_result"
    }
   ],
   "source": [
    "min(recipes[\"RecipeId\"]), max(recipes[\"RecipeId\"]), len(recipes[\"RecipeId\"]), len(recipes[\"RecipeId\"].unique())"
   ]
  },
  {
   "cell_type": "code",
   "execution_count": 6,
   "metadata": {
    "colab": {
     "base_uri": "https://localhost:8080/",
     "height": 344
    },
    "executionInfo": {
     "elapsed": 8,
     "status": "ok",
     "timestamp": 1733193843116,
     "user": {
      "displayName": "Eduardo Contreras",
      "userId": "04220510561979261999"
     },
     "user_tz": 180
    },
    "id": "W-0zbvaXOuZs",
    "outputId": "83ed63f3-a77b-47b5-8ec3-785c9de5e1e7"
   },
   "outputs": [
    {
     "data": {
      "text/html": [
       "<div>\n",
       "<style scoped>\n",
       "    .dataframe tbody tr th:only-of-type {\n",
       "        vertical-align: middle;\n",
       "    }\n",
       "\n",
       "    .dataframe tbody tr th {\n",
       "        vertical-align: top;\n",
       "    }\n",
       "\n",
       "    .dataframe thead th {\n",
       "        text-align: right;\n",
       "    }\n",
       "</style>\n",
       "<table border=\"1\" class=\"dataframe\">\n",
       "  <thead>\n",
       "    <tr style=\"text-align: right;\">\n",
       "      <th></th>\n",
       "      <th>RecipeIngredientParts</th>\n",
       "      <th>Calories</th>\n",
       "      <th>FatContent</th>\n",
       "      <th>SaturatedFatContent</th>\n",
       "      <th>CholesterolContent</th>\n",
       "      <th>SodiumContent</th>\n",
       "      <th>CarbohydrateContent</th>\n",
       "      <th>FiberContent</th>\n",
       "      <th>SugarContent</th>\n",
       "      <th>ProteinContent</th>\n",
       "    </tr>\n",
       "    <tr>\n",
       "      <th>RecipeId</th>\n",
       "      <th></th>\n",
       "      <th></th>\n",
       "      <th></th>\n",
       "      <th></th>\n",
       "      <th></th>\n",
       "      <th></th>\n",
       "      <th></th>\n",
       "      <th></th>\n",
       "      <th></th>\n",
       "      <th></th>\n",
       "    </tr>\n",
       "  </thead>\n",
       "  <tbody>\n",
       "    <tr>\n",
       "      <th>0</th>\n",
       "      <td>[4686, 4448, 1850, 2281]</td>\n",
       "      <td>170.9</td>\n",
       "      <td>2.5</td>\n",
       "      <td>1.3</td>\n",
       "      <td>8.0</td>\n",
       "      <td>29.8</td>\n",
       "      <td>37.1</td>\n",
       "      <td>3.6</td>\n",
       "      <td>30.2</td>\n",
       "      <td>3.2</td>\n",
       "    </tr>\n",
       "    <tr>\n",
       "      <th>1</th>\n",
       "      <td>[5798, 3172, 4039, 1824, 2488, 1101, 2985, 111...</td>\n",
       "      <td>1110.7</td>\n",
       "      <td>58.8</td>\n",
       "      <td>16.6</td>\n",
       "      <td>372.8</td>\n",
       "      <td>368.4</td>\n",
       "      <td>84.4</td>\n",
       "      <td>9.0</td>\n",
       "      <td>20.4</td>\n",
       "      <td>63.4</td>\n",
       "    </tr>\n",
       "    <tr>\n",
       "      <th>2</th>\n",
       "      <td>[684, 1038, 5984, 4536, 484]</td>\n",
       "      <td>311.1</td>\n",
       "      <td>0.2</td>\n",
       "      <td>0.0</td>\n",
       "      <td>0.0</td>\n",
       "      <td>1.8</td>\n",
       "      <td>81.5</td>\n",
       "      <td>0.4</td>\n",
       "      <td>77.2</td>\n",
       "      <td>0.3</td>\n",
       "    </tr>\n",
       "    <tr>\n",
       "      <th>3</th>\n",
       "      <td>[230, 1127, 2827, 581, 3810, 2547, 3371, 4036,...</td>\n",
       "      <td>536.1</td>\n",
       "      <td>24.0</td>\n",
       "      <td>3.8</td>\n",
       "      <td>0.0</td>\n",
       "      <td>1558.6</td>\n",
       "      <td>64.2</td>\n",
       "      <td>17.3</td>\n",
       "      <td>32.1</td>\n",
       "      <td>29.3</td>\n",
       "    </tr>\n",
       "    <tr>\n",
       "      <th>4</th>\n",
       "      <td>[4765, 2695, 3039, 3395, 3641]</td>\n",
       "      <td>103.6</td>\n",
       "      <td>0.4</td>\n",
       "      <td>0.1</td>\n",
       "      <td>0.0</td>\n",
       "      <td>959.3</td>\n",
       "      <td>25.1</td>\n",
       "      <td>4.8</td>\n",
       "      <td>17.7</td>\n",
       "      <td>4.3</td>\n",
       "    </tr>\n",
       "  </tbody>\n",
       "</table>\n",
       "</div>"
      ],
      "text/plain": [
       "                                      RecipeIngredientParts  Calories  \\\n",
       "RecipeId                                                                \n",
       "0                                  [4686, 4448, 1850, 2281]     170.9   \n",
       "1         [5798, 3172, 4039, 1824, 2488, 1101, 2985, 111...    1110.7   \n",
       "2                              [684, 1038, 5984, 4536, 484]     311.1   \n",
       "3         [230, 1127, 2827, 581, 3810, 2547, 3371, 4036,...     536.1   \n",
       "4                            [4765, 2695, 3039, 3395, 3641]     103.6   \n",
       "\n",
       "          FatContent  SaturatedFatContent  CholesterolContent  SodiumContent  \\\n",
       "RecipeId                                                                       \n",
       "0                2.5                  1.3                 8.0           29.8   \n",
       "1               58.8                 16.6               372.8          368.4   \n",
       "2                0.2                  0.0                 0.0            1.8   \n",
       "3               24.0                  3.8                 0.0         1558.6   \n",
       "4                0.4                  0.1                 0.0          959.3   \n",
       "\n",
       "          CarbohydrateContent  FiberContent  SugarContent  ProteinContent  \n",
       "RecipeId                                                                   \n",
       "0                        37.1           3.6          30.2             3.2  \n",
       "1                        84.4           9.0          20.4            63.4  \n",
       "2                        81.5           0.4          77.2             0.3  \n",
       "3                        64.2          17.3          32.1            29.3  \n",
       "4                        25.1           4.8          17.7             4.3  "
      ]
     },
     "execution_count": 6,
     "metadata": {},
     "output_type": "execute_result"
    }
   ],
   "source": [
    "recipes.set_index(\"RecipeId\", inplace=True)\n",
    "recipes.head()"
   ]
  },
  {
   "cell_type": "code",
   "execution_count": 7,
   "metadata": {
    "executionInfo": {
     "elapsed": 6,
     "status": "ok",
     "timestamp": 1733193843116,
     "user": {
      "displayName": "Eduardo Contreras",
      "userId": "04220510561979261999"
     },
     "user_tz": 180
    },
    "id": "Fb-8M2Eshdqc"
   },
   "outputs": [],
   "source": [
    "nutrition_facts = [\n",
    "    'Calories', 'FatContent','SaturatedFatContent', 'CholesterolContent', 'SodiumContent',\n",
    "    'CarbohydrateContent', 'FiberContent', 'SugarContent', 'ProteinContent'\n",
    "]"
   ]
  },
  {
   "cell_type": "markdown",
   "metadata": {
    "id": "YK5aXOkzafc1"
   },
   "source": [
    "## Parsing"
   ]
  },
  {
   "cell_type": "code",
   "execution_count": 8,
   "metadata": {
    "colab": {
     "base_uri": "https://localhost:8080/",
     "height": 272
    },
    "executionInfo": {
     "elapsed": 784,
     "status": "ok",
     "timestamp": 1733193843894,
     "user": {
      "displayName": "Eduardo Contreras",
      "userId": "04220510561979261999"
     },
     "user_tz": 180
    },
    "id": "FWeBrs7TvJ5C",
    "outputId": "7613a8cf-cad3-4faa-a7aa-12415030d55a"
   },
   "outputs": [
    {
     "data": {
      "text/plain": [
       "RecipeId\n",
       "0                          [4686,  4448,  1850,  2281]\n",
       "1    [5798,  3172,  4039,  1824,  2488,  1101,  298...\n",
       "2                     [684,  1038,  5984,  4536,  484]\n",
       "3    [230,  1127,  2827,  581,  3810,  2547,  3371,...\n",
       "4                   [4765,  2695,  3039,  3395,  3641]\n",
       "Name: RecipeIngredientParts, dtype: object"
      ]
     },
     "execution_count": 8,
     "metadata": {},
     "output_type": "execute_result"
    }
   ],
   "source": [
    "recipes[\"RecipeIngredientParts\"] = recipes[\"RecipeIngredientParts\"].apply(lambda x:  x.strip(\"[]\").split(\",\"))\n",
    "recipes[\"RecipeIngredientParts\"].head()"
   ]
  },
  {
   "cell_type": "code",
   "execution_count": 9,
   "metadata": {
    "executionInfo": {
     "elapsed": 5,
     "status": "ok",
     "timestamp": 1733193843895,
     "user": {
      "displayName": "Eduardo Contreras",
      "userId": "04220510561979261999"
     },
     "user_tz": 180
    },
    "id": "7qS62t297md4"
   },
   "outputs": [],
   "source": [
    "recipes[\"RecipeIngredientParts\"] = recipes[\"RecipeIngredientParts\"].apply(lambda x: [] if len(x) == 1 and x[0] == \"\" else x)"
   ]
  },
  {
   "cell_type": "code",
   "execution_count": 10,
   "metadata": {
    "colab": {
     "base_uri": "https://localhost:8080/",
     "height": 272
    },
    "executionInfo": {
     "elapsed": 1107,
     "status": "ok",
     "timestamp": 1733193844998,
     "user": {
      "displayName": "Eduardo Contreras",
      "userId": "04220510561979261999"
     },
     "user_tz": 180
    },
    "id": "RLMQgjOov00f",
    "outputId": "1723a3c0-9051-46a8-a240-b83c7693cc38"
   },
   "outputs": [
    {
     "data": {
      "text/plain": [
       "RecipeId\n",
       "0                             [4686, 4448, 1850, 2281]\n",
       "1    [5798, 3172, 4039, 1824, 2488, 1101, 2985, 111...\n",
       "2                         [684, 1038, 5984, 4536, 484]\n",
       "3    [230, 1127, 2827, 581, 3810, 2547, 3371, 4036,...\n",
       "4                       [4765, 2695, 3039, 3395, 3641]\n",
       "Name: RecipeIngredientParts, dtype: object"
      ]
     },
     "execution_count": 10,
     "metadata": {},
     "output_type": "execute_result"
    }
   ],
   "source": [
    "recipes[\"RecipeIngredientParts\"] = recipes[\"RecipeIngredientParts\"].apply(lambda x: [int(i) for i in x])\n",
    "recipes[\"RecipeIngredientParts\"].head()"
   ]
  },
  {
   "cell_type": "code",
   "execution_count": 11,
   "metadata": {
    "colab": {
     "base_uri": "https://localhost:8080/"
    },
    "executionInfo": {
     "elapsed": 6,
     "status": "ok",
     "timestamp": 1733193844999,
     "user": {
      "displayName": "Eduardo Contreras",
      "userId": "04220510561979261999"
     },
     "user_tz": 180
    },
    "id": "AuVtzWUoyGfB",
    "outputId": "9d7c41f4-b660-48e6-84eb-ea3fee50807c"
   },
   "outputs": [
    {
     "data": {
      "text/plain": [
       "6157"
      ]
     },
     "execution_count": 11,
     "metadata": {},
     "output_type": "execute_result"
    }
   ],
   "source": [
    "all_ingredients = set()\n",
    "list(map(lambda x: all_ingredients.update(x), recipes[\"RecipeIngredientParts\"]))\n",
    "len(all_ingredients)"
   ]
  },
  {
   "cell_type": "code",
   "execution_count": 12,
   "metadata": {
    "colab": {
     "base_uri": "https://localhost:8080/",
     "height": 132
    },
    "executionInfo": {
     "elapsed": 5,
     "status": "ok",
     "timestamp": 1733193844999,
     "user": {
      "displayName": "Eduardo Contreras",
      "userId": "04220510561979261999"
     },
     "user_tz": 180
    },
    "id": "chq_FWXnyh_-",
    "outputId": "ba841b6a-3a7b-4994-9a80-8976fd7439a7"
   },
   "outputs": [
    {
     "data": {
      "text/html": [
       "<div>\n",
       "<style scoped>\n",
       "    .dataframe tbody tr th:only-of-type {\n",
       "        vertical-align: middle;\n",
       "    }\n",
       "\n",
       "    .dataframe tbody tr th {\n",
       "        vertical-align: top;\n",
       "    }\n",
       "\n",
       "    .dataframe thead th {\n",
       "        text-align: right;\n",
       "    }\n",
       "</style>\n",
       "<table border=\"1\" class=\"dataframe\">\n",
       "  <thead>\n",
       "    <tr style=\"text-align: right;\">\n",
       "      <th></th>\n",
       "      <th>RecipeIngredientParts</th>\n",
       "      <th>Calories</th>\n",
       "      <th>FatContent</th>\n",
       "      <th>SaturatedFatContent</th>\n",
       "      <th>CholesterolContent</th>\n",
       "      <th>SodiumContent</th>\n",
       "      <th>CarbohydrateContent</th>\n",
       "      <th>FiberContent</th>\n",
       "      <th>SugarContent</th>\n",
       "      <th>ProteinContent</th>\n",
       "    </tr>\n",
       "    <tr>\n",
       "      <th>RecipeId</th>\n",
       "      <th></th>\n",
       "      <th></th>\n",
       "      <th></th>\n",
       "      <th></th>\n",
       "      <th></th>\n",
       "      <th></th>\n",
       "      <th></th>\n",
       "      <th></th>\n",
       "      <th></th>\n",
       "      <th></th>\n",
       "    </tr>\n",
       "  </thead>\n",
       "  <tbody>\n",
       "    <tr>\n",
       "      <th>0</th>\n",
       "      <td>[4686, 4448, 1850, 2281]</td>\n",
       "      <td>170.9</td>\n",
       "      <td>2.5</td>\n",
       "      <td>1.3</td>\n",
       "      <td>8.0</td>\n",
       "      <td>29.8</td>\n",
       "      <td>37.1</td>\n",
       "      <td>3.6</td>\n",
       "      <td>30.2</td>\n",
       "      <td>3.2</td>\n",
       "    </tr>\n",
       "  </tbody>\n",
       "</table>\n",
       "</div>"
      ],
      "text/plain": [
       "             RecipeIngredientParts  Calories  FatContent  SaturatedFatContent  \\\n",
       "RecipeId                                                                        \n",
       "0         [4686, 4448, 1850, 2281]     170.9         2.5                  1.3   \n",
       "\n",
       "          CholesterolContent  SodiumContent  CarbohydrateContent  \\\n",
       "RecipeId                                                           \n",
       "0                        8.0           29.8                 37.1   \n",
       "\n",
       "          FiberContent  SugarContent  ProteinContent  \n",
       "RecipeId                                              \n",
       "0                  3.6          30.2             3.2  "
      ]
     },
     "execution_count": 12,
     "metadata": {},
     "output_type": "execute_result"
    }
   ],
   "source": [
    "recipes.head(1)"
   ]
  },
  {
   "cell_type": "code",
   "execution_count": 13,
   "metadata": {
    "executionInfo": {
     "elapsed": 1409,
     "status": "ok",
     "timestamp": 1733193846404,
     "user": {
      "displayName": "Eduardo Contreras",
      "userId": "04220510561979261999"
     },
     "user_tz": 180
    },
    "id": "Y8hGY9LTYxHD"
   },
   "outputs": [],
   "source": [
    "with open(\"mappers.json\", \"r\") as f:\n",
    "    mappers = json.load(f)\n",
    "with open(\"image_id_to_recipe_id.json\", \"r\") as f:\n",
    "    image_id_to_recipe_id = json.load(f)\n",
    "current_id_to_original_id = {int(v): int(k) for k, v in mappers['recipe_id_mapper'].items()}\n",
    "original_id_to_img_id = {int(float(k)): int(v) for k, v in image_id_to_recipe_id.items()}\n",
    "current_id_to_img_id = {\n",
    "    current_id: original_id_to_img_id[current_id_to_original_id[current_id]]\n",
    "    for current_id in current_id_to_original_id\n",
    "}"
   ]
  },
  {
   "cell_type": "code",
   "execution_count": null,
   "metadata": {
    "id": "zJLVecZdaFXx"
   },
   "outputs": [],
   "source": []
  },
  {
   "cell_type": "code",
   "execution_count": 14,
   "metadata": {
    "colab": {
     "base_uri": "https://localhost:8080/",
     "height": 49,
     "referenced_widgets": [
      "ddbd6aee66744c68a8b148ff0907968d",
      "e74b148440264d54a17a64f4692a9e76",
      "117909905f7c4f2f94c65b4c325fc94d",
      "3c69f7bd09ff4de6a95117509bf3fcbb",
      "e6155632375944ba8c00b3ea738f38ae",
      "8b1fbe428e7e4d6e9bd6e2c0ea019654",
      "6c2330485550482caaee07c6f940e0b3",
      "086a0cb6b3fa483f916a5adf0d3b1efe",
      "a2f5cd7309f24083991094d5379010ac",
      "1e2fd07e1eb54887ab00e14061733bfa",
      "4202c6b5f35c44e0a3de7311c2d61442"
     ]
    },
    "executionInfo": {
     "elapsed": 81254,
     "status": "ok",
     "timestamp": 1733194002712,
     "user": {
      "displayName": "Eduardo Contreras",
      "userId": "04220510561979261999"
     },
     "user_tz": 180
    },
    "id": "N7cNyttwYso2",
    "outputId": "37db9d2b-4139-4146-bda7-64fbbf3d46cc"
   },
   "outputs": [
    {
     "data": {
      "application/vnd.jupyter.widget-view+json": {
       "model_id": "857529b182944c4ebbe9898bb2e2f01f",
       "version_major": 2,
       "version_minor": 0
      },
      "text/plain": [
       "  0%|          | 0/238658 [00:00<?, ?it/s]"
      ]
     },
     "metadata": {},
     "output_type": "display_data"
    }
   ],
   "source": [
    "with h5py.File(\"food_embeddings_ResNet1_1db.h5\", \"w\") as new_file:\n",
    "    with h5py.File(\"food_embeddings_ResNet1.h5\", \"r\") as f:\n",
    "        keys = list(f.keys())\n",
    "        new_dset = new_file.create_dataset(\"img_embeddings\", (len(recipes), 2048), dtype='f')\n",
    "        for i in tqdm(range(len(recipes))):\n",
    "            img_index = current_id_to_img_id[i]\n",
    "            try:\n",
    "                img = f[f\"recipe_{img_index}_embedding\"][:]\n",
    "            except KeyError:\n",
    "                img = np.zeros((2048,))\n",
    "            if img.shape != (2048,):\n",
    "                raise IndexError(\"multiple images\")\n",
    "            new_dset[i] = img"
   ]
  },
  {
   "cell_type": "markdown",
   "metadata": {
    "id": "A5B3zJOMaiSk"
   },
   "source": [
    "## Dataset and dataloader"
   ]
  },
  {
   "cell_type": "code",
   "execution_count": 15,
   "metadata": {
    "executionInfo": {
     "elapsed": 9,
     "status": "ok",
     "timestamp": 1733194003273,
     "user": {
      "displayName": "Eduardo Contreras",
      "userId": "04220510561979261999"
     },
     "user_tz": 180
    },
    "id": "vv12xnOTt-N0"
   },
   "outputs": [],
   "source": [
    "class RecipeDatasetFullFeatures(Dataset):\n",
    "    def __init__(self, recipes, img_embeddings_path, review_embeedings_path):\n",
    "        self.recipes = recipes\n",
    "        self.nutrition_facts = 9\n",
    "        self.all_ingredients = all_ingredients\n",
    "        with h5py.File(img_embeddings_path, \"r\") as f:\n",
    "            self.img_embeddings = f[\"img_embeddings\"][:]\n",
    "        self.review_embeddings = np.load(review_embeedings_path)\n",
    "    def __len__(self):\n",
    "        return len(self.recipes)\n",
    "    def __getitem__(self, idx):\n",
    "        assert 0 <= idx < len(self.recipes), f\"Index {idx} out of range\"\n",
    "        # Las recipes deben tener como indice su id\n",
    "        recipe = self.recipes.iloc[idx]\n",
    "        nutrition = recipe[nutrition_facts].values.copy().astype(float)\n",
    "        nutrition /= max(nutrition.max(), 1e-6)\n",
    "        nutrition = torch.tensor(nutrition, device=device, dtype=torch.float32).squeeze()\n",
    "        img_features = torch.tensor(self.img_embeddings[idx], device=device, dtype=torch.float32)\n",
    "        review_features = torch.tensor(self.review_embeddings[current_id_to_img_id[idx]], device=device, dtype=torch.float32)\n",
    "        max_nutrition = torch.max(nutrition)\n",
    "        ingredients = recipe[\"RecipeIngredientParts\"]\n",
    "        one_hot_ingredients = torch.zeros(len(self.all_ingredients)).to(device)\n",
    "        one_hot_ingredients[ingredients] = 1\n",
    "        return torch.cat([one_hot_ingredients, nutrition]).to(device), img_features, review_features\n"
   ]
  },
  {
   "cell_type": "code",
   "execution_count": 16,
   "metadata": {
    "executionInfo": {
     "elapsed": 7,
     "status": "ok",
     "timestamp": 1733194003273,
     "user": {
      "displayName": "Eduardo Contreras",
      "userId": "04220510561979261999"
     },
     "user_tz": 180
    },
    "id": "yV-vcFE2alDa"
   },
   "outputs": [],
   "source": [
    "class ReviewsDataset(Dataset):\n",
    "    def __init__(self, reviews, recipes_dset):\n",
    "        self.reviews = reviews\n",
    "        self.recipes_dset = recipes_dset\n",
    "    def __len__(self):\n",
    "        return len(self.reviews)\n",
    "    def __getitem__(self, idx):\n",
    "        assert 0 <= idx < len(self.reviews), f\"Index {idx} out of range\"\n",
    "        review = self.reviews.iloc[idx]\n",
    "        user_id = review['AuthorId']\n",
    "        recipe_id = review['RecipeId']\n",
    "        rating = review['Rating'].astype(float)\n",
    "        recipe_features, img_features, content_features = self.recipes_dset[recipe_id]\n",
    "        return (\n",
    "            torch.tensor([user_id, recipe_id], device=device),\n",
    "            torch.tensor(rating, device=device, dtype=torch.float32),\n",
    "            recipe_features,\n",
    "            img_features,\n",
    "            content_features\n",
    "        )"
   ]
  },
  {
   "cell_type": "code",
   "execution_count": 17,
   "metadata": {
    "executionInfo": {
     "elapsed": 6,
     "status": "ok",
     "timestamp": 1733194003273,
     "user": {
      "displayName": "Eduardo Contreras",
      "userId": "04220510561979261999"
     },
     "user_tz": 180
    },
    "id": "0VDIbNYMbQTk"
   },
   "outputs": [],
   "source": [
    "def collate_fn(batch):\n",
    "    user_item, rating, recipe_features, img_features, content_features = zip(*batch)\n",
    "    user_item = torch.stack(user_item)\n",
    "    rating = torch.stack(rating)\n",
    "    recipe_features = torch.stack(recipe_features)\n",
    "    img_features = torch.stack(img_features)\n",
    "    content_features = torch.stack(content_features)\n",
    "    user_item = user_item.to(device)\n",
    "    rating = rating.to(device)\n",
    "    recipe_features = recipe_features.to(device)\n",
    "    item_id = user_item[:, 1]\n",
    "    user_id = user_item[:, 0]\n",
    "    return user_item, rating, recipe_features, img_features, content_features"
   ]
  },
  {
   "cell_type": "code",
   "execution_count": 18,
   "metadata": {
    "executionInfo": {
     "elapsed": 10398,
     "status": "ok",
     "timestamp": 1733194013665,
     "user": {
      "displayName": "Eduardo Contreras",
      "userId": "04220510561979261999"
     },
     "user_tz": 180
    },
    "id": "nQDixlE11J-w"
   },
   "outputs": [],
   "source": [
    "recipes_dset = RecipeDatasetFullFeatures(recipes, \"food_embeddings_ResNet1_1db.h5\", \"recipes_bert_embeddings.npy\")\n",
    "train_loader = DataLoader(\n",
    "    ReviewsDataset(reviews_train, recipes_dset),\n",
    "    batch_size=64,\n",
    "    shuffle=True,\n",
    "    collate_fn=collate_fn,\n",
    ")\n",
    "test_loader = DataLoader(\n",
    "    ReviewsDataset(reviews_test, recipes_dset),\n",
    "    batch_size=64,\n",
    "    shuffle=True,\n",
    "    collate_fn=collate_fn,\n",
    ")"
   ]
  },
  {
   "cell_type": "markdown",
   "metadata": {
    "id": "Fp7uZWP8PARy"
   },
   "source": [
    "# Model"
   ]
  },
  {
   "cell_type": "code",
   "execution_count": 19,
   "metadata": {
    "executionInfo": {
     "elapsed": 254,
     "status": "ok",
     "timestamp": 1733194062197,
     "user": {
      "displayName": "Eduardo Contreras",
      "userId": "04220510561979261999"
     },
     "user_tz": 180
    },
    "id": "y06u8lERPAwy"
   },
   "outputs": [],
   "source": [
    "recipe_faetures_size = 6166\n",
    "class RecipeEncoder(nn.Module):\n",
    "    def __init__(self, n_features=6166):\n",
    "        super().__init__()\n",
    "        self.recipe_features = n_features\n",
    "        self.encoder = nn.Linear(n_features, 64)\n",
    "    def forward(self, x):\n",
    "        return self.encoder(x)"
   ]
  },
  {
   "cell_type": "code",
   "execution_count": 20,
   "metadata": {
    "executionInfo": {
     "elapsed": 5,
     "status": "ok",
     "timestamp": 1733194062585,
     "user": {
      "displayName": "Eduardo Contreras",
      "userId": "04220510561979261999"
     },
     "user_tz": 180
    },
    "id": "n-7jZSrCPEfy"
   },
   "outputs": [],
   "source": [
    "# Extraido en gran parte del práctico de NCF\n",
    "class NeuralCollaborativeFilteringNN(nn.Module):\n",
    "    def __init__(self, user_sz: tuple, item_sz:tuple, y_range=(0,5.5), n_act=100, n_factors = 50, img_encoder=\"resnet\"):\n",
    "        super().__init__()\n",
    "        number_of_users = user_sz[0]\n",
    "        number_of_items = item_sz[0]\n",
    "        number_user_features = user_sz[1]\n",
    "        number_item_features = item_sz[1]\n",
    "        self.user_factors_mf = nn.Embedding(number_of_users, n_factors)\n",
    "        self.user_factors_mlp = nn.Embedding(number_of_users, number_user_features)\n",
    "        self.item_factors_mf = nn.Embedding(number_of_items, n_factors)\n",
    "        self.item_factors_mlp = nn.Embedding(number_of_items, number_item_features) # for the encoder\n",
    "        self.recipe_encoder = RecipeEncoder() # ouputs 64 tensor embedding\n",
    "        self.basic_features_size = 64\n",
    "        self.img_embedding_size = 0\n",
    "        if img_encoder == \"resnet\":\n",
    "            self.img_embedding_size = 2048\n",
    "        elif img_encoder == \"vgg19\":\n",
    "            self.img_embedding_size = 4096\n",
    "        else:\n",
    "            raise ValueError(\"Invalid image encoder\")\n",
    "        self.review_bert_embedding_size = 768\n",
    "\n",
    "\n",
    "\n",
    "        self.y_range = y_range\n",
    "\n",
    "        self.user_bias = nn.Embedding(number_of_users, 1)\n",
    "        self.item_bias = nn.Embedding(number_of_items, 1)\n",
    "        self.mlp_input_size = user_sz[1] + item_sz[1] + self.basic_features_size + self.img_embedding_size + self.review_bert_embedding_size\n",
    "        self.MLPLayers = nn.Sequential(\n",
    "            nn.Linear(self.mlp_input_size , 2048),\n",
    "            nn.ReLU(),\n",
    "            nn.Linear(2048, 1024),\n",
    "            nn.ReLU(),\n",
    "            nn.Linear(1024, 512),\n",
    "            nn.ReLU(),\n",
    "            nn.Linear(512, 128),\n",
    "            nn.ReLU(),\n",
    "            nn.Linear(128, n_act),\n",
    "            nn.ReLU()\n",
    "        )\n",
    "\n",
    "        self.final_layer = nn.Linear(n_act + n_factors, 1)\n",
    "        self.sigmoid = nn.Sigmoid()\n",
    "\n",
    "    def forward(self, x, recipe_features, img_features, review_bert_features):\n",
    "        user_vector_mf = self.user_factors_mf(x[:,0])\n",
    "        user_vector_mlp = self.user_factors_mlp(x[:,0])\n",
    "        item_vector_mf = self.item_factors_mf(x[:,1])\n",
    "        item_vector_mlp = self.item_factors_mlp(x[:,1])\n",
    "        recipe_features = self.recipe_encoder(recipe_features)\n",
    "        # TODO: implementar resto del código. Por favor incluir comentarios\n",
    "        # para que quede claro el propósito de cada línea (o conjunto de líneas)\n",
    "\n",
    "        # Hacemos el element-wise product y le sumamos el bias\n",
    "        user_bias = self.user_bias(x[:,0])\n",
    "        item_bias = self.item_bias(x[:,1])\n",
    "        mf_output = user_vector_mf * item_vector_mf\n",
    "        mf_output += user_bias + item_bias\n",
    "\n",
    "        # Concatenamos los vectores de embedding de MLP de usuario e ítem\n",
    "        mlp_input = torch.cat((user_vector_mlp, item_vector_mlp, recipe_features, img_features, review_bert_features), dim=1)\n",
    "        # Pasamos la concatenación por la red MLP\n",
    "        mlp_output = self.MLPLayers(mlp_input)\n",
    "\n",
    "        # Concatenamos la salida del MLP con el resultado del modelo MF\n",
    "        final_input = torch.cat((mlp_output, mf_output), dim=1)\n",
    "\n",
    "        # Pasamos la concatenación por la capa final para obtener la predicción\n",
    "        output = self.final_layer(final_input)\n",
    "\n",
    "        return self.sigmoid(output) * (self.y_range[1] - self.y_range[0]) + self.y_range[0]"
   ]
  },
  {
   "cell_type": "markdown",
   "metadata": {
    "id": "oVO3QVM0PbDU"
   },
   "source": [
    "# Train"
   ]
  },
  {
   "cell_type": "code",
   "execution_count": null,
   "metadata": {
    "executionInfo": {
     "elapsed": 220,
     "status": "ok",
     "timestamp": 1733194066243,
     "user": {
      "displayName": "Eduardo Contreras",
      "userId": "04220510561979261999"
     },
     "user_tz": 180
    },
    "id": "t1ZamnXlQjci"
   },
   "outputs": [],
   "source": [
    "user_sz = (users_amount, 256)\n",
    "item_sz = (recipes_amount, 256)\n",
    "user_sz, item_sz\n",
    "n_act = 50"
   ]
  },
  {
   "cell_type": "code",
   "execution_count": 22,
   "metadata": {
    "colab": {
     "base_uri": "https://localhost:8080/"
    },
    "executionInfo": {
     "elapsed": 2273,
     "status": "ok",
     "timestamp": 1733194068763,
     "user": {
      "displayName": "Eduardo Contreras",
      "userId": "04220510561979261999"
     },
     "user_tz": 180
    },
    "id": "Npc7vw7KPbpU",
    "outputId": "d5614083-d708-436e-f829-0c9db59934d6"
   },
   "outputs": [
    {
     "name": "stdout",
     "output_type": "stream",
     "text": [
      "\n"
     ]
    }
   ],
   "source": [
    "ncf_model = NeuralCollaborativeFilteringNN(\n",
    "    user_sz=user_sz,\n",
    "    item_sz=item_sz,\n",
    "    n_act = n_act,\n",
    "    # mlp_layer = mlp_layers,\n",
    "    n_factors = 50\n",
    ")\n",
    "ncf_model.to(device)\n",
    "print()"
   ]
  },
  {
   "cell_type": "code",
   "execution_count": 23,
   "metadata": {
    "colab": {
     "base_uri": "https://localhost:8080/"
    },
    "executionInfo": {
     "elapsed": 6,
     "status": "ok",
     "timestamp": 1733194068764,
     "user": {
      "displayName": "Eduardo Contreras",
      "userId": "04220510561979261999"
     },
     "user_tz": 180
    },
    "id": "vImJdEe72tca",
    "outputId": "e89a5318-eabe-4994-81af-b5c919c872ce"
   },
   "outputs": [
    {
     "data": {
      "text/plain": [
       "166781891"
      ]
     },
     "execution_count": 23,
     "metadata": {},
     "output_type": "execute_result"
    }
   ],
   "source": [
    "def calc_model_params(model):\n",
    "    return sum(p.numel() for p in model.parameters() if p.requires_grad)\n",
    "calc_model_params(ncf_model)"
   ]
  },
  {
   "cell_type": "code",
   "execution_count": 24,
   "metadata": {
    "executionInfo": {
     "elapsed": 5094,
     "status": "ok",
     "timestamp": 1733194073854,
     "user": {
      "displayName": "Eduardo Contreras",
      "userId": "04220510561979261999"
     },
     "user_tz": 180
    },
    "id": "7VYawFcuPja3"
   },
   "outputs": [],
   "source": [
    "optimizer = torch.optim.Adam(ncf_model.parameters(), lr=0.001)\n",
    "loss_func = torch.nn.MSELoss()"
   ]
  },
  {
   "cell_type": "code",
   "execution_count": 25,
   "metadata": {
    "executionInfo": {
     "elapsed": 11,
     "status": "ok",
     "timestamp": 1733194073854,
     "user": {
      "displayName": "Eduardo Contreras",
      "userId": "04220510561979261999"
     },
     "user_tz": 180
    },
    "id": "uuZOxO5Go3EH"
   },
   "outputs": [],
   "source": [
    "@torch.no_grad()\n",
    "def evaluate(model, loss_func, test_loader, max_batches=None):\n",
    "    model.eval()\n",
    "    loop = tqdm(enumerate(test_loader), total=len(test_loader), leave=False)\n",
    "    avg_loss = 0\n",
    "    for i, (user_item, rating, recipe_features, img_features, recipe_bert_features) in loop:\n",
    "        if max_batches and i >= max_batches:\n",
    "            break\n",
    "        output = model(user_item, recipe_features, img_features, recipe_bert_features)\n",
    "        loss = loss_func(output.squeeze(), rating)\n",
    "        avg_loss = (avg_loss * i + loss.item()) / (i + 1)\n",
    "        loop.set_description(f'loss: {loss.item():.4f}, Avg Loss: {avg_loss:.4f}')\n",
    "    return avg_loss"
   ]
  },
  {
   "cell_type": "code",
   "execution_count": 26,
   "metadata": {
    "executionInfo": {
     "elapsed": 245,
     "status": "ok",
     "timestamp": 1733194190012,
     "user": {
      "displayName": "Eduardo Contreras",
      "userId": "04220510561979261999"
     },
     "user_tz": 180
    },
    "id": "Fo-G8rHVoUP8"
   },
   "outputs": [],
   "source": [
    "import logging as log\n",
    "log.basicConfig(\n",
    "    format=\"%(asctime)s | %(levelname)s | %(name)s | %(message)s\",\n",
    "    datefmt=\"%Y-%m-%d %H:%M:%S\",\n",
    "    level=log.INFO,\n",
    "    filename=\"train_ncf_full_features.log\",\n",
    "    force=True\n",
    ")"
   ]
  },
  {
   "cell_type": "code",
   "execution_count": 27,
   "metadata": {
    "colab": {
     "base_uri": "https://localhost:8080/",
     "height": 81,
     "referenced_widgets": [
      "de99d110080348c9b895a34a029867ae",
      "1a818abb4afb416c96e1087a01ae39cc",
      "48937ea8079d461f85d1213f35010813",
      "4dbc1340576b4c849d0514f4a31519d7",
      "b8666489033843f78310adf0f44c0ded",
      "c266c660623149feabdd3be0901251d2",
      "92f8f448017f4ffd99e4705eec80a40a",
      "11d570d06bdc498e92b041ae86a24290",
      "d7e69db114c0493dbad2a020b662da1a",
      "0bcceae9d69640dfae747cf4064f9b89",
      "98989adcbd9946b3a59e7b52432a6a07",
      "5238b4016a4c483095919f7835f7ca35",
      "7f9c64ff923c4f3e9ec0970b390bc84f",
      "0abcee0cf98840eb9c1852657694c88b",
      "14c2ec79e38f413b8d646b539a915bfb",
      "14cf58b8cea3404fb4982f0dc1ed7e09",
      "eec922bcdd50487f82cbf681b90a5cdc",
      "424eea0bccbe4ccd8e4691f3b83fa444",
      "d65b03836e5641f7ba1b8245353fe5dc",
      "c14ce88085de488aa947518464fd190e",
      "8a34e80da59a42248168af346f29a7be",
      "66a3eb9ac5e24e0b9ce62e1dbf308750"
     ]
    },
    "id": "32REWyn2PmbA",
    "outputId": "cd908dfb-86df-4d55-b7b6-0c0938a44306"
   },
   "outputs": [
    {
     "data": {
      "application/vnd.jupyter.widget-view+json": {
       "model_id": "9bbe584d6fb4416ba7b78430bc978e0b",
       "version_major": 2,
       "version_minor": 0
      },
      "text/plain": [
       "  0%|          | 0/16234 [00:00<?, ?it/s]"
      ]
     },
     "metadata": {},
     "output_type": "display_data"
    },
    {
     "data": {
      "application/vnd.jupyter.widget-view+json": {
       "model_id": "7ed51c98ed4c4fa2890e6a29f27ecb48",
       "version_major": 2,
       "version_minor": 0
      },
      "text/plain": [
       "  0%|          | 0/5073 [00:00<?, ?it/s]"
      ]
     },
     "metadata": {},
     "output_type": "display_data"
    },
    {
     "data": {
      "application/vnd.jupyter.widget-view+json": {
       "model_id": "d456e947dd9e4994a39e909493fed81b",
       "version_major": 2,
       "version_minor": 0
      },
      "text/plain": [
       "  0%|          | 0/5073 [00:00<?, ?it/s]"
      ]
     },
     "metadata": {},
     "output_type": "display_data"
    },
    {
     "data": {
      "application/vnd.jupyter.widget-view+json": {
       "model_id": "d42e8a5ae60c4ad0a4e603aa0454eae6",
       "version_major": 2,
       "version_minor": 0
      },
      "text/plain": [
       "  0%|          | 0/5073 [00:00<?, ?it/s]"
      ]
     },
     "metadata": {},
     "output_type": "display_data"
    },
    {
     "data": {
      "application/vnd.jupyter.widget-view+json": {
       "model_id": "88aff23fc8bc42928cedecb2103ca724",
       "version_major": 2,
       "version_minor": 0
      },
      "text/plain": [
       "  0%|          | 0/5073 [00:00<?, ?it/s]"
      ]
     },
     "metadata": {},
     "output_type": "display_data"
    },
    {
     "data": {
      "application/vnd.jupyter.widget-view+json": {
       "model_id": "7cdd1091379e4849a22a12691a7199e1",
       "version_major": 2,
       "version_minor": 0
      },
      "text/plain": [
       "  0%|          | 0/5073 [00:00<?, ?it/s]"
      ]
     },
     "metadata": {},
     "output_type": "display_data"
    },
    {
     "data": {
      "application/vnd.jupyter.widget-view+json": {
       "model_id": "7c71f87f8131439a9ee2ba9326731fa9",
       "version_major": 2,
       "version_minor": 0
      },
      "text/plain": [
       "  0%|          | 0/5073 [00:00<?, ?it/s]"
      ]
     },
     "metadata": {},
     "output_type": "display_data"
    },
    {
     "data": {
      "application/vnd.jupyter.widget-view+json": {
       "model_id": "1b60ae01fc2743eb9af03f65d27130d1",
       "version_major": 2,
       "version_minor": 0
      },
      "text/plain": [
       "  0%|          | 0/5073 [00:00<?, ?it/s]"
      ]
     },
     "metadata": {},
     "output_type": "display_data"
    },
    {
     "data": {
      "application/vnd.jupyter.widget-view+json": {
       "model_id": "cb97370f8cc94f7b8eac11c97ff9613f",
       "version_major": 2,
       "version_minor": 0
      },
      "text/plain": [
       "  0%|          | 0/5073 [00:00<?, ?it/s]"
      ]
     },
     "metadata": {},
     "output_type": "display_data"
    },
    {
     "data": {
      "application/vnd.jupyter.widget-view+json": {
       "model_id": "98bc166feade4ce0bd6df5db343da101",
       "version_major": 2,
       "version_minor": 0
      },
      "text/plain": [
       "  0%|          | 0/5073 [00:00<?, ?it/s]"
      ]
     },
     "metadata": {},
     "output_type": "display_data"
    },
    {
     "data": {
      "application/vnd.jupyter.widget-view+json": {
       "model_id": "291b42834fff4f58aca239e7206930cc",
       "version_major": 2,
       "version_minor": 0
      },
      "text/plain": [
       "  0%|          | 0/16234 [00:00<?, ?it/s]"
      ]
     },
     "metadata": {},
     "output_type": "display_data"
    },
    {
     "data": {
      "application/vnd.jupyter.widget-view+json": {
       "model_id": "a638a7a32947490c9adb6fadc6b29064",
       "version_major": 2,
       "version_minor": 0
      },
      "text/plain": [
       "  0%|          | 0/5073 [00:00<?, ?it/s]"
      ]
     },
     "metadata": {},
     "output_type": "display_data"
    },
    {
     "data": {
      "application/vnd.jupyter.widget-view+json": {
       "model_id": "491049388f5d4c5381cbafd47fba319b",
       "version_major": 2,
       "version_minor": 0
      },
      "text/plain": [
       "  0%|          | 0/5073 [00:00<?, ?it/s]"
      ]
     },
     "metadata": {},
     "output_type": "display_data"
    },
    {
     "data": {
      "application/vnd.jupyter.widget-view+json": {
       "model_id": "24f2c5375f834b14bb46efc112e03498",
       "version_major": 2,
       "version_minor": 0
      },
      "text/plain": [
       "  0%|          | 0/5073 [00:00<?, ?it/s]"
      ]
     },
     "metadata": {},
     "output_type": "display_data"
    },
    {
     "data": {
      "application/vnd.jupyter.widget-view+json": {
       "model_id": "e4a39baa76514949b71c81dcbb0c1f81",
       "version_major": 2,
       "version_minor": 0
      },
      "text/plain": [
       "  0%|          | 0/5073 [00:00<?, ?it/s]"
      ]
     },
     "metadata": {},
     "output_type": "display_data"
    },
    {
     "data": {
      "application/vnd.jupyter.widget-view+json": {
       "model_id": "1e378c7d785f4659a80fe1da63adf1f2",
       "version_major": 2,
       "version_minor": 0
      },
      "text/plain": [
       "  0%|          | 0/5073 [00:00<?, ?it/s]"
      ]
     },
     "metadata": {},
     "output_type": "display_data"
    },
    {
     "data": {
      "application/vnd.jupyter.widget-view+json": {
       "model_id": "7198c5bd09f943aabcc65951fe70e895",
       "version_major": 2,
       "version_minor": 0
      },
      "text/plain": [
       "  0%|          | 0/5073 [00:00<?, ?it/s]"
      ]
     },
     "metadata": {},
     "output_type": "display_data"
    },
    {
     "data": {
      "application/vnd.jupyter.widget-view+json": {
       "model_id": "cfb311fc73344d1ca0aac2ebc1e56e03",
       "version_major": 2,
       "version_minor": 0
      },
      "text/plain": [
       "  0%|          | 0/5073 [00:00<?, ?it/s]"
      ]
     },
     "metadata": {},
     "output_type": "display_data"
    },
    {
     "data": {
      "application/vnd.jupyter.widget-view+json": {
       "model_id": "0bf867c0c396464987a355ddd3d08a7e",
       "version_major": 2,
       "version_minor": 0
      },
      "text/plain": [
       "  0%|          | 0/5073 [00:00<?, ?it/s]"
      ]
     },
     "metadata": {},
     "output_type": "display_data"
    },
    {
     "data": {
      "application/vnd.jupyter.widget-view+json": {
       "model_id": "39c56e85931146c59979c354d2191c1b",
       "version_major": 2,
       "version_minor": 0
      },
      "text/plain": [
       "  0%|          | 0/5073 [00:00<?, ?it/s]"
      ]
     },
     "metadata": {},
     "output_type": "display_data"
    },
    {
     "data": {
      "application/vnd.jupyter.widget-view+json": {
       "model_id": "afac60ab4af340a0b31d88297701f450",
       "version_major": 2,
       "version_minor": 0
      },
      "text/plain": [
       "  0%|          | 0/16234 [00:00<?, ?it/s]"
      ]
     },
     "metadata": {},
     "output_type": "display_data"
    },
    {
     "data": {
      "application/vnd.jupyter.widget-view+json": {
       "model_id": "8a6c9923f5ab4da29bd6b6bd47285bf2",
       "version_major": 2,
       "version_minor": 0
      },
      "text/plain": [
       "  0%|          | 0/5073 [00:00<?, ?it/s]"
      ]
     },
     "metadata": {},
     "output_type": "display_data"
    },
    {
     "data": {
      "application/vnd.jupyter.widget-view+json": {
       "model_id": "08c045b607f348b585fb957c1eb468f5",
       "version_major": 2,
       "version_minor": 0
      },
      "text/plain": [
       "  0%|          | 0/5073 [00:00<?, ?it/s]"
      ]
     },
     "metadata": {},
     "output_type": "display_data"
    },
    {
     "data": {
      "application/vnd.jupyter.widget-view+json": {
       "model_id": "02eaaef8c1bc46dc95e3b0317e449cd7",
       "version_major": 2,
       "version_minor": 0
      },
      "text/plain": [
       "  0%|          | 0/5073 [00:00<?, ?it/s]"
      ]
     },
     "metadata": {},
     "output_type": "display_data"
    },
    {
     "data": {
      "application/vnd.jupyter.widget-view+json": {
       "model_id": "cafecde362f54aae96fefd4854666089",
       "version_major": 2,
       "version_minor": 0
      },
      "text/plain": [
       "  0%|          | 0/5073 [00:00<?, ?it/s]"
      ]
     },
     "metadata": {},
     "output_type": "display_data"
    },
    {
     "data": {
      "application/vnd.jupyter.widget-view+json": {
       "model_id": "0e51b6990a1d4dcf807e25f8313840d7",
       "version_major": 2,
       "version_minor": 0
      },
      "text/plain": [
       "  0%|          | 0/5073 [00:00<?, ?it/s]"
      ]
     },
     "metadata": {},
     "output_type": "display_data"
    },
    {
     "data": {
      "application/vnd.jupyter.widget-view+json": {
       "model_id": "b7752202084d4ba5ad9ef91b0dd2ab1c",
       "version_major": 2,
       "version_minor": 0
      },
      "text/plain": [
       "  0%|          | 0/5073 [00:00<?, ?it/s]"
      ]
     },
     "metadata": {},
     "output_type": "display_data"
    },
    {
     "data": {
      "application/vnd.jupyter.widget-view+json": {
       "model_id": "4d32d0a84d284c888ff716804e3413b3",
       "version_major": 2,
       "version_minor": 0
      },
      "text/plain": [
       "  0%|          | 0/5073 [00:00<?, ?it/s]"
      ]
     },
     "metadata": {},
     "output_type": "display_data"
    },
    {
     "data": {
      "application/vnd.jupyter.widget-view+json": {
       "model_id": "950bca3574674d098d436f160ac4a229",
       "version_major": 2,
       "version_minor": 0
      },
      "text/plain": [
       "  0%|          | 0/5073 [00:00<?, ?it/s]"
      ]
     },
     "metadata": {},
     "output_type": "display_data"
    },
    {
     "data": {
      "application/vnd.jupyter.widget-view+json": {
       "model_id": "cb2109409f0040c688cb1bf033616a24",
       "version_major": 2,
       "version_minor": 0
      },
      "text/plain": [
       "  0%|          | 0/5073 [00:00<?, ?it/s]"
      ]
     },
     "metadata": {},
     "output_type": "display_data"
    },
    {
     "data": {
      "application/vnd.jupyter.widget-view+json": {
       "model_id": "67de5207ebe745df8e2196fa56bb7ce4",
       "version_major": 2,
       "version_minor": 0
      },
      "text/plain": [
       "  0%|          | 0/16234 [00:00<?, ?it/s]"
      ]
     },
     "metadata": {},
     "output_type": "display_data"
    },
    {
     "data": {
      "application/vnd.jupyter.widget-view+json": {
       "model_id": "ac76450bd5c8480b93a0b15c4f7a0460",
       "version_major": 2,
       "version_minor": 0
      },
      "text/plain": [
       "  0%|          | 0/5073 [00:00<?, ?it/s]"
      ]
     },
     "metadata": {},
     "output_type": "display_data"
    },
    {
     "data": {
      "application/vnd.jupyter.widget-view+json": {
       "model_id": "bc23aa2559014095afa40d31f6d72b77",
       "version_major": 2,
       "version_minor": 0
      },
      "text/plain": [
       "  0%|          | 0/5073 [00:00<?, ?it/s]"
      ]
     },
     "metadata": {},
     "output_type": "display_data"
    },
    {
     "data": {
      "application/vnd.jupyter.widget-view+json": {
       "model_id": "99d6dd6f1d414616a41d147f7ce16ccc",
       "version_major": 2,
       "version_minor": 0
      },
      "text/plain": [
       "  0%|          | 0/5073 [00:00<?, ?it/s]"
      ]
     },
     "metadata": {},
     "output_type": "display_data"
    },
    {
     "data": {
      "application/vnd.jupyter.widget-view+json": {
       "model_id": "cc8ff26749a442c59aa546855e159f44",
       "version_major": 2,
       "version_minor": 0
      },
      "text/plain": [
       "  0%|          | 0/5073 [00:00<?, ?it/s]"
      ]
     },
     "metadata": {},
     "output_type": "display_data"
    },
    {
     "data": {
      "application/vnd.jupyter.widget-view+json": {
       "model_id": "5dd8ba40e50c466eb680e8a0c6c4e9c6",
       "version_major": 2,
       "version_minor": 0
      },
      "text/plain": [
       "  0%|          | 0/5073 [00:00<?, ?it/s]"
      ]
     },
     "metadata": {},
     "output_type": "display_data"
    },
    {
     "data": {
      "application/vnd.jupyter.widget-view+json": {
       "model_id": "c59d6a6ce5714dbbb382bc86eb5a158f",
       "version_major": 2,
       "version_minor": 0
      },
      "text/plain": [
       "  0%|          | 0/5073 [00:00<?, ?it/s]"
      ]
     },
     "metadata": {},
     "output_type": "display_data"
    },
    {
     "data": {
      "application/vnd.jupyter.widget-view+json": {
       "model_id": "f529cb5be41f476bad78c82e7ac4a3b6",
       "version_major": 2,
       "version_minor": 0
      },
      "text/plain": [
       "  0%|          | 0/5073 [00:00<?, ?it/s]"
      ]
     },
     "metadata": {},
     "output_type": "display_data"
    },
    {
     "data": {
      "application/vnd.jupyter.widget-view+json": {
       "model_id": "26a6247e6f1442eb92a4e147ea684ba7",
       "version_major": 2,
       "version_minor": 0
      },
      "text/plain": [
       "  0%|          | 0/5073 [00:00<?, ?it/s]"
      ]
     },
     "metadata": {},
     "output_type": "display_data"
    },
    {
     "data": {
      "application/vnd.jupyter.widget-view+json": {
       "model_id": "0cb0f49a519a43449d23eb7b3ea45326",
       "version_major": 2,
       "version_minor": 0
      },
      "text/plain": [
       "  0%|          | 0/5073 [00:00<?, ?it/s]"
      ]
     },
     "metadata": {},
     "output_type": "display_data"
    },
    {
     "data": {
      "application/vnd.jupyter.widget-view+json": {
       "model_id": "5ffbf9486f7d409fab3a105ab9ae8d67",
       "version_major": 2,
       "version_minor": 0
      },
      "text/plain": [
       "  0%|          | 0/16234 [00:00<?, ?it/s]"
      ]
     },
     "metadata": {},
     "output_type": "display_data"
    },
    {
     "data": {
      "application/vnd.jupyter.widget-view+json": {
       "model_id": "19e24f8ddcdf4a07aa1666506ea14f08",
       "version_major": 2,
       "version_minor": 0
      },
      "text/plain": [
       "  0%|          | 0/5073 [00:00<?, ?it/s]"
      ]
     },
     "metadata": {},
     "output_type": "display_data"
    },
    {
     "data": {
      "application/vnd.jupyter.widget-view+json": {
       "model_id": "2e5db84c9609443d95ef2ee2f41bd0a4",
       "version_major": 2,
       "version_minor": 0
      },
      "text/plain": [
       "  0%|          | 0/5073 [00:00<?, ?it/s]"
      ]
     },
     "metadata": {},
     "output_type": "display_data"
    },
    {
     "data": {
      "application/vnd.jupyter.widget-view+json": {
       "model_id": "c5134aaad63e44c69d8ca311989c8f68",
       "version_major": 2,
       "version_minor": 0
      },
      "text/plain": [
       "  0%|          | 0/5073 [00:00<?, ?it/s]"
      ]
     },
     "metadata": {},
     "output_type": "display_data"
    },
    {
     "data": {
      "application/vnd.jupyter.widget-view+json": {
       "model_id": "2c0ac19a213e4b69b7cb15790f11f55b",
       "version_major": 2,
       "version_minor": 0
      },
      "text/plain": [
       "  0%|          | 0/5073 [00:00<?, ?it/s]"
      ]
     },
     "metadata": {},
     "output_type": "display_data"
    },
    {
     "data": {
      "application/vnd.jupyter.widget-view+json": {
       "model_id": "a73d04edf9394b9597e50bef594a4213",
       "version_major": 2,
       "version_minor": 0
      },
      "text/plain": [
       "  0%|          | 0/5073 [00:00<?, ?it/s]"
      ]
     },
     "metadata": {},
     "output_type": "display_data"
    },
    {
     "data": {
      "application/vnd.jupyter.widget-view+json": {
       "model_id": "750de52b6aa94c818348ed33de281db9",
       "version_major": 2,
       "version_minor": 0
      },
      "text/plain": [
       "  0%|          | 0/5073 [00:00<?, ?it/s]"
      ]
     },
     "metadata": {},
     "output_type": "display_data"
    },
    {
     "data": {
      "application/vnd.jupyter.widget-view+json": {
       "model_id": "f7acd8609f2b4f03afa470e9b88f2092",
       "version_major": 2,
       "version_minor": 0
      },
      "text/plain": [
       "  0%|          | 0/5073 [00:00<?, ?it/s]"
      ]
     },
     "metadata": {},
     "output_type": "display_data"
    },
    {
     "data": {
      "application/vnd.jupyter.widget-view+json": {
       "model_id": "48169ccb12814936b0c15554cd377d5a",
       "version_major": 2,
       "version_minor": 0
      },
      "text/plain": [
       "  0%|          | 0/5073 [00:00<?, ?it/s]"
      ]
     },
     "metadata": {},
     "output_type": "display_data"
    },
    {
     "data": {
      "application/vnd.jupyter.widget-view+json": {
       "model_id": "f4cb102ba2f14218a7682090879f0906",
       "version_major": 2,
       "version_minor": 0
      },
      "text/plain": [
       "  0%|          | 0/5073 [00:00<?, ?it/s]"
      ]
     },
     "metadata": {},
     "output_type": "display_data"
    },
    {
     "data": {
      "application/vnd.jupyter.widget-view+json": {
       "model_id": "a8efbb0bfb5b452f982194c76f5d4582",
       "version_major": 2,
       "version_minor": 0
      },
      "text/plain": [
       "  0%|          | 0/16234 [00:00<?, ?it/s]"
      ]
     },
     "metadata": {},
     "output_type": "display_data"
    },
    {
     "data": {
      "application/vnd.jupyter.widget-view+json": {
       "model_id": "bd5e08c2f1d74364a053e9beab652401",
       "version_major": 2,
       "version_minor": 0
      },
      "text/plain": [
       "  0%|          | 0/5073 [00:00<?, ?it/s]"
      ]
     },
     "metadata": {},
     "output_type": "display_data"
    },
    {
     "data": {
      "application/vnd.jupyter.widget-view+json": {
       "model_id": "f80950f0d8cd4e3591025c814efd799a",
       "version_major": 2,
       "version_minor": 0
      },
      "text/plain": [
       "  0%|          | 0/5073 [00:00<?, ?it/s]"
      ]
     },
     "metadata": {},
     "output_type": "display_data"
    },
    {
     "data": {
      "application/vnd.jupyter.widget-view+json": {
       "model_id": "34c12021d856481b953d13cd1c397f14",
       "version_major": 2,
       "version_minor": 0
      },
      "text/plain": [
       "  0%|          | 0/5073 [00:00<?, ?it/s]"
      ]
     },
     "metadata": {},
     "output_type": "display_data"
    },
    {
     "data": {
      "application/vnd.jupyter.widget-view+json": {
       "model_id": "6162c6ca919643d49da781bd6ec635e5",
       "version_major": 2,
       "version_minor": 0
      },
      "text/plain": [
       "  0%|          | 0/5073 [00:00<?, ?it/s]"
      ]
     },
     "metadata": {},
     "output_type": "display_data"
    },
    {
     "data": {
      "application/vnd.jupyter.widget-view+json": {
       "model_id": "b93ec8b79b3b438bbd3f360a9ef2f4df",
       "version_major": 2,
       "version_minor": 0
      },
      "text/plain": [
       "  0%|          | 0/5073 [00:00<?, ?it/s]"
      ]
     },
     "metadata": {},
     "output_type": "display_data"
    },
    {
     "data": {
      "application/vnd.jupyter.widget-view+json": {
       "model_id": "59bc67351d3b45a7b7580638757d7219",
       "version_major": 2,
       "version_minor": 0
      },
      "text/plain": [
       "  0%|          | 0/5073 [00:00<?, ?it/s]"
      ]
     },
     "metadata": {},
     "output_type": "display_data"
    },
    {
     "data": {
      "application/vnd.jupyter.widget-view+json": {
       "model_id": "648f11ae174c46e6a5a26a71fe59c48e",
       "version_major": 2,
       "version_minor": 0
      },
      "text/plain": [
       "  0%|          | 0/5073 [00:00<?, ?it/s]"
      ]
     },
     "metadata": {},
     "output_type": "display_data"
    },
    {
     "data": {
      "application/vnd.jupyter.widget-view+json": {
       "model_id": "b117e47192604fcdb93f97ae810026f3",
       "version_major": 2,
       "version_minor": 0
      },
      "text/plain": [
       "  0%|          | 0/5073 [00:00<?, ?it/s]"
      ]
     },
     "metadata": {},
     "output_type": "display_data"
    },
    {
     "data": {
      "application/vnd.jupyter.widget-view+json": {
       "model_id": "84fe91c27abf4e9bba71bd55f86617c3",
       "version_major": 2,
       "version_minor": 0
      },
      "text/plain": [
       "  0%|          | 0/5073 [00:00<?, ?it/s]"
      ]
     },
     "metadata": {},
     "output_type": "display_data"
    },
    {
     "data": {
      "application/vnd.jupyter.widget-view+json": {
       "model_id": "21477d33f7274a599d8d5c9cb6625751",
       "version_major": 2,
       "version_minor": 0
      },
      "text/plain": [
       "  0%|          | 0/16234 [00:00<?, ?it/s]"
      ]
     },
     "metadata": {},
     "output_type": "display_data"
    },
    {
     "data": {
      "application/vnd.jupyter.widget-view+json": {
       "model_id": "9bb486262fbb4b6aa257d194b0842456",
       "version_major": 2,
       "version_minor": 0
      },
      "text/plain": [
       "  0%|          | 0/5073 [00:00<?, ?it/s]"
      ]
     },
     "metadata": {},
     "output_type": "display_data"
    },
    {
     "data": {
      "application/vnd.jupyter.widget-view+json": {
       "model_id": "a42367c55bcd44c087d10aeb7c70bfe8",
       "version_major": 2,
       "version_minor": 0
      },
      "text/plain": [
       "  0%|          | 0/5073 [00:00<?, ?it/s]"
      ]
     },
     "metadata": {},
     "output_type": "display_data"
    },
    {
     "data": {
      "application/vnd.jupyter.widget-view+json": {
       "model_id": "41d4fb6cc1fe41a9894f41129d4609da",
       "version_major": 2,
       "version_minor": 0
      },
      "text/plain": [
       "  0%|          | 0/5073 [00:00<?, ?it/s]"
      ]
     },
     "metadata": {},
     "output_type": "display_data"
    },
    {
     "data": {
      "application/vnd.jupyter.widget-view+json": {
       "model_id": "a7fa95dbae4c477fbc6525732f76313b",
       "version_major": 2,
       "version_minor": 0
      },
      "text/plain": [
       "  0%|          | 0/5073 [00:00<?, ?it/s]"
      ]
     },
     "metadata": {},
     "output_type": "display_data"
    },
    {
     "data": {
      "application/vnd.jupyter.widget-view+json": {
       "model_id": "64c04b239f2d4ad8aa54c22f9c479e63",
       "version_major": 2,
       "version_minor": 0
      },
      "text/plain": [
       "  0%|          | 0/5073 [00:00<?, ?it/s]"
      ]
     },
     "metadata": {},
     "output_type": "display_data"
    },
    {
     "data": {
      "application/vnd.jupyter.widget-view+json": {
       "model_id": "a78de1d199a84840a4ecc2009ce1ac1d",
       "version_major": 2,
       "version_minor": 0
      },
      "text/plain": [
       "  0%|          | 0/5073 [00:00<?, ?it/s]"
      ]
     },
     "metadata": {},
     "output_type": "display_data"
    },
    {
     "data": {
      "application/vnd.jupyter.widget-view+json": {
       "model_id": "79be14c79939406ebb50feee95c7446a",
       "version_major": 2,
       "version_minor": 0
      },
      "text/plain": [
       "  0%|          | 0/5073 [00:00<?, ?it/s]"
      ]
     },
     "metadata": {},
     "output_type": "display_data"
    },
    {
     "data": {
      "application/vnd.jupyter.widget-view+json": {
       "model_id": "9cc90d18a11e452297e1b1ef37a24812",
       "version_major": 2,
       "version_minor": 0
      },
      "text/plain": [
       "  0%|          | 0/5073 [00:00<?, ?it/s]"
      ]
     },
     "metadata": {},
     "output_type": "display_data"
    },
    {
     "data": {
      "application/vnd.jupyter.widget-view+json": {
       "model_id": "bf508a710c004cb8bdfed83adad09334",
       "version_major": 2,
       "version_minor": 0
      },
      "text/plain": [
       "  0%|          | 0/5073 [00:00<?, ?it/s]"
      ]
     },
     "metadata": {},
     "output_type": "display_data"
    },
    {
     "data": {
      "application/vnd.jupyter.widget-view+json": {
       "model_id": "0d4acdd3574e4e709eae7502373d386b",
       "version_major": 2,
       "version_minor": 0
      },
      "text/plain": [
       "  0%|          | 0/16234 [00:00<?, ?it/s]"
      ]
     },
     "metadata": {},
     "output_type": "display_data"
    },
    {
     "data": {
      "application/vnd.jupyter.widget-view+json": {
       "model_id": "f7ecc43b522f4d1ea49c0cbd24079358",
       "version_major": 2,
       "version_minor": 0
      },
      "text/plain": [
       "  0%|          | 0/5073 [00:00<?, ?it/s]"
      ]
     },
     "metadata": {},
     "output_type": "display_data"
    },
    {
     "data": {
      "application/vnd.jupyter.widget-view+json": {
       "model_id": "4bffd44ae86e477e842af164eced6984",
       "version_major": 2,
       "version_minor": 0
      },
      "text/plain": [
       "  0%|          | 0/5073 [00:00<?, ?it/s]"
      ]
     },
     "metadata": {},
     "output_type": "display_data"
    },
    {
     "data": {
      "application/vnd.jupyter.widget-view+json": {
       "model_id": "2783ef0af8ba4832ab12ec3500761a30",
       "version_major": 2,
       "version_minor": 0
      },
      "text/plain": [
       "  0%|          | 0/5073 [00:00<?, ?it/s]"
      ]
     },
     "metadata": {},
     "output_type": "display_data"
    },
    {
     "data": {
      "application/vnd.jupyter.widget-view+json": {
       "model_id": "0eb760c529b440f9af8493e0b4bf8dd5",
       "version_major": 2,
       "version_minor": 0
      },
      "text/plain": [
       "  0%|          | 0/5073 [00:00<?, ?it/s]"
      ]
     },
     "metadata": {},
     "output_type": "display_data"
    },
    {
     "data": {
      "application/vnd.jupyter.widget-view+json": {
       "model_id": "fa10a47e104a43539411d73ac331d8c6",
       "version_major": 2,
       "version_minor": 0
      },
      "text/plain": [
       "  0%|          | 0/5073 [00:00<?, ?it/s]"
      ]
     },
     "metadata": {},
     "output_type": "display_data"
    },
    {
     "data": {
      "application/vnd.jupyter.widget-view+json": {
       "model_id": "61269b1b0f624f3da89608c0bcbc3688",
       "version_major": 2,
       "version_minor": 0
      },
      "text/plain": [
       "  0%|          | 0/5073 [00:00<?, ?it/s]"
      ]
     },
     "metadata": {},
     "output_type": "display_data"
    },
    {
     "data": {
      "application/vnd.jupyter.widget-view+json": {
       "model_id": "6c739cb988414a739e1501f4f0701adc",
       "version_major": 2,
       "version_minor": 0
      },
      "text/plain": [
       "  0%|          | 0/5073 [00:00<?, ?it/s]"
      ]
     },
     "metadata": {},
     "output_type": "display_data"
    },
    {
     "data": {
      "application/vnd.jupyter.widget-view+json": {
       "model_id": "8fbc017d76e4464181ea6f30c5f64ed9",
       "version_major": 2,
       "version_minor": 0
      },
      "text/plain": [
       "  0%|          | 0/5073 [00:00<?, ?it/s]"
      ]
     },
     "metadata": {},
     "output_type": "display_data"
    },
    {
     "data": {
      "application/vnd.jupyter.widget-view+json": {
       "model_id": "3d2ab4e3978844069ac46a8ae01efd68",
       "version_major": 2,
       "version_minor": 0
      },
      "text/plain": [
       "  0%|          | 0/5073 [00:00<?, ?it/s]"
      ]
     },
     "metadata": {},
     "output_type": "display_data"
    },
    {
     "data": {
      "application/vnd.jupyter.widget-view+json": {
       "model_id": "3bfec01a2d074766a08fa4f95cf75754",
       "version_major": 2,
       "version_minor": 0
      },
      "text/plain": [
       "  0%|          | 0/16234 [00:00<?, ?it/s]"
      ]
     },
     "metadata": {},
     "output_type": "display_data"
    },
    {
     "data": {
      "application/vnd.jupyter.widget-view+json": {
       "model_id": "d369991a26bf47169eb5a6d5d832da82",
       "version_major": 2,
       "version_minor": 0
      },
      "text/plain": [
       "  0%|          | 0/5073 [00:00<?, ?it/s]"
      ]
     },
     "metadata": {},
     "output_type": "display_data"
    },
    {
     "data": {
      "application/vnd.jupyter.widget-view+json": {
       "model_id": "9c1735f4480f48808dcccf58c16b965b",
       "version_major": 2,
       "version_minor": 0
      },
      "text/plain": [
       "  0%|          | 0/5073 [00:00<?, ?it/s]"
      ]
     },
     "metadata": {},
     "output_type": "display_data"
    },
    {
     "data": {
      "application/vnd.jupyter.widget-view+json": {
       "model_id": "85abe5309aca4866a7dead0ec9f86a8f",
       "version_major": 2,
       "version_minor": 0
      },
      "text/plain": [
       "  0%|          | 0/5073 [00:00<?, ?it/s]"
      ]
     },
     "metadata": {},
     "output_type": "display_data"
    },
    {
     "data": {
      "application/vnd.jupyter.widget-view+json": {
       "model_id": "ad34ba70c3e24c1cbe7e5ff32c002880",
       "version_major": 2,
       "version_minor": 0
      },
      "text/plain": [
       "  0%|          | 0/5073 [00:00<?, ?it/s]"
      ]
     },
     "metadata": {},
     "output_type": "display_data"
    },
    {
     "data": {
      "application/vnd.jupyter.widget-view+json": {
       "model_id": "b29ebd20e4f24a488213fa28b4691ace",
       "version_major": 2,
       "version_minor": 0
      },
      "text/plain": [
       "  0%|          | 0/5073 [00:00<?, ?it/s]"
      ]
     },
     "metadata": {},
     "output_type": "display_data"
    },
    {
     "data": {
      "application/vnd.jupyter.widget-view+json": {
       "model_id": "6a7d635b102447ddb2883d1859d17b8f",
       "version_major": 2,
       "version_minor": 0
      },
      "text/plain": [
       "  0%|          | 0/5073 [00:00<?, ?it/s]"
      ]
     },
     "metadata": {},
     "output_type": "display_data"
    },
    {
     "data": {
      "application/vnd.jupyter.widget-view+json": {
       "model_id": "a4110f0367a94039a7a7efe3877d3301",
       "version_major": 2,
       "version_minor": 0
      },
      "text/plain": [
       "  0%|          | 0/5073 [00:00<?, ?it/s]"
      ]
     },
     "metadata": {},
     "output_type": "display_data"
    },
    {
     "data": {
      "application/vnd.jupyter.widget-view+json": {
       "model_id": "0557e92d27aa4d24a725acc1394a9802",
       "version_major": 2,
       "version_minor": 0
      },
      "text/plain": [
       "  0%|          | 0/5073 [00:00<?, ?it/s]"
      ]
     },
     "metadata": {},
     "output_type": "display_data"
    },
    {
     "data": {
      "application/vnd.jupyter.widget-view+json": {
       "model_id": "99f398618e0748eea0c0d8237d81239e",
       "version_major": 2,
       "version_minor": 0
      },
      "text/plain": [
       "  0%|          | 0/5073 [00:00<?, ?it/s]"
      ]
     },
     "metadata": {},
     "output_type": "display_data"
    },
    {
     "data": {
      "application/vnd.jupyter.widget-view+json": {
       "model_id": "082e61a96bcd4d03989377e1d3862224",
       "version_major": 2,
       "version_minor": 0
      },
      "text/plain": [
       "  0%|          | 0/16234 [00:00<?, ?it/s]"
      ]
     },
     "metadata": {},
     "output_type": "display_data"
    },
    {
     "data": {
      "application/vnd.jupyter.widget-view+json": {
       "model_id": "3dd6e7e3ec31425bba4bafa0d66e3cc0",
       "version_major": 2,
       "version_minor": 0
      },
      "text/plain": [
       "  0%|          | 0/5073 [00:00<?, ?it/s]"
      ]
     },
     "metadata": {},
     "output_type": "display_data"
    },
    {
     "data": {
      "application/vnd.jupyter.widget-view+json": {
       "model_id": "74b2330a7be54b32a052aaa49fb012d1",
       "version_major": 2,
       "version_minor": 0
      },
      "text/plain": [
       "  0%|          | 0/5073 [00:00<?, ?it/s]"
      ]
     },
     "metadata": {},
     "output_type": "display_data"
    },
    {
     "data": {
      "application/vnd.jupyter.widget-view+json": {
       "model_id": "b7007bdcb1be4fba9dc4295da86d33d0",
       "version_major": 2,
       "version_minor": 0
      },
      "text/plain": [
       "  0%|          | 0/5073 [00:00<?, ?it/s]"
      ]
     },
     "metadata": {},
     "output_type": "display_data"
    },
    {
     "data": {
      "application/vnd.jupyter.widget-view+json": {
       "model_id": "d603fd4fc11b4a929fb580a62d3cc49a",
       "version_major": 2,
       "version_minor": 0
      },
      "text/plain": [
       "  0%|          | 0/5073 [00:00<?, ?it/s]"
      ]
     },
     "metadata": {},
     "output_type": "display_data"
    },
    {
     "data": {
      "application/vnd.jupyter.widget-view+json": {
       "model_id": "fdbc9e52e0c142f4b24ce886df3ac0aa",
       "version_major": 2,
       "version_minor": 0
      },
      "text/plain": [
       "  0%|          | 0/5073 [00:00<?, ?it/s]"
      ]
     },
     "metadata": {},
     "output_type": "display_data"
    },
    {
     "data": {
      "application/vnd.jupyter.widget-view+json": {
       "model_id": "fcb2e418624245258df566c0d4d2aab7",
       "version_major": 2,
       "version_minor": 0
      },
      "text/plain": [
       "  0%|          | 0/5073 [00:00<?, ?it/s]"
      ]
     },
     "metadata": {},
     "output_type": "display_data"
    },
    {
     "data": {
      "application/vnd.jupyter.widget-view+json": {
       "model_id": "9385524857a34d9787faf9618bebb350",
       "version_major": 2,
       "version_minor": 0
      },
      "text/plain": [
       "  0%|          | 0/5073 [00:00<?, ?it/s]"
      ]
     },
     "metadata": {},
     "output_type": "display_data"
    },
    {
     "data": {
      "application/vnd.jupyter.widget-view+json": {
       "model_id": "2e29de17847243798e0dea7994fb7448",
       "version_major": 2,
       "version_minor": 0
      },
      "text/plain": [
       "  0%|          | 0/5073 [00:00<?, ?it/s]"
      ]
     },
     "metadata": {},
     "output_type": "display_data"
    },
    {
     "data": {
      "application/vnd.jupyter.widget-view+json": {
       "model_id": "b9e5197b0b5942a49316e2b46284751c",
       "version_major": 2,
       "version_minor": 0
      },
      "text/plain": [
       "  0%|          | 0/5073 [00:00<?, ?it/s]"
      ]
     },
     "metadata": {},
     "output_type": "display_data"
    }
   ],
   "source": [
    "ncf_model.train()\n",
    "losses_cb_ncf = []\n",
    "val_loss = 0\n",
    "for epoch in range(10):\n",
    "    loop = tqdm(enumerate(train_loader), total=len(train_loader))\n",
    "    avg_loss = 0\n",
    "    for i, (user_item, rating, recipe_features, img_features, recipe_bert_features) in loop:\n",
    "        optimizer.zero_grad()\n",
    "        output = ncf_model(user_item, recipe_features, img_features, recipe_bert_features)\n",
    "        loss = loss_func(output.squeeze(), rating)\n",
    "        loss.backward()\n",
    "        optimizer.step()\n",
    "        losses_cb_ncf.append(loss.item())\n",
    "        avg_loss = (avg_loss * i + loss.item()) / (i + 1)\n",
    "        if i % 2000 == 0:\n",
    "            val_loss = evaluate(ncf_model, loss_func, test_loader, max_batches=1500)\n",
    "            log.info(f'epoch: {epoch}, it: {i}, loss: {loss.item():.4f}, Avg Loss: {avg_loss:.4f}, val Loss: {val_loss:.4f}')\n",
    "        elif i % 500 == 0:\n",
    "            log.info(f'epoch: {epoch}, it: {i}, loss: {loss.item():.4f}, Avg Loss: {avg_loss:.4f}, val Loss: {val_loss:.4f}')\n",
    "\n",
    "        loop.set_description(f'epoch: {epoch}, loss: {loss.item():.4f}, Avg Loss: {avg_loss:.4f}')\n",
    "    torch.save(ncf_model.state_dict(), f\"ncf_model_full_features_epoch_{epoch}.pt\")"
   ]
  },
  {
   "cell_type": "code",
   "execution_count": null,
   "metadata": {
    "executionInfo": {
     "elapsed": 3,
     "status": "aborted",
     "timestamp": 1733194091145,
     "user": {
      "displayName": "Eduardo Contreras",
      "userId": "04220510561979261999"
     },
     "user_tz": 180
    },
    "id": "ItbzCxhz0ucg"
   },
   "outputs": [],
   "source": []
  }
 ],
 "metadata": {
  "accelerator": "GPU",
  "colab": {
   "authorship_tag": "ABX9TyMxDn4RM/lSTID1QKVwiq+u",
   "collapsed_sections": [
    "hTlYyk2YOyKb",
    "D3QWyxmcOw3J",
    "Fp7uZWP8PARy"
   ],
   "gpuType": "T4",
   "provenance": []
  },
  "kernelspec": {
   "display_name": "Python 3",
   "name": "python3"
  },
  "language_info": {
   "codemirror_mode": {
    "name": "ipython",
    "version": 3
   },
   "file_extension": ".py",
   "mimetype": "text/x-python",
   "name": "python",
   "nbconvert_exporter": "python",
   "pygments_lexer": "ipython3",
   "version": "3.10.9"
  },
  "widgets": {
   "application/vnd.jupyter.widget-state+json": {
    "086a0cb6b3fa483f916a5adf0d3b1efe": {
     "model_module": "@jupyter-widgets/base",
     "model_module_version": "1.2.0",
     "model_name": "LayoutModel",
     "state": {
      "_model_module": "@jupyter-widgets/base",
      "_model_module_version": "1.2.0",
      "_model_name": "LayoutModel",
      "_view_count": null,
      "_view_module": "@jupyter-widgets/base",
      "_view_module_version": "1.2.0",
      "_view_name": "LayoutView",
      "align_content": null,
      "align_items": null,
      "align_self": null,
      "border": null,
      "bottom": null,
      "display": null,
      "flex": null,
      "flex_flow": null,
      "grid_area": null,
      "grid_auto_columns": null,
      "grid_auto_flow": null,
      "grid_auto_rows": null,
      "grid_column": null,
      "grid_gap": null,
      "grid_row": null,
      "grid_template_areas": null,
      "grid_template_columns": null,
      "grid_template_rows": null,
      "height": null,
      "justify_content": null,
      "justify_items": null,
      "left": null,
      "margin": null,
      "max_height": null,
      "max_width": null,
      "min_height": null,
      "min_width": null,
      "object_fit": null,
      "object_position": null,
      "order": null,
      "overflow": null,
      "overflow_x": null,
      "overflow_y": null,
      "padding": null,
      "right": null,
      "top": null,
      "visibility": null,
      "width": null
     }
    },
    "0abcee0cf98840eb9c1852657694c88b": {
     "model_module": "@jupyter-widgets/controls",
     "model_module_version": "1.5.0",
     "model_name": "FloatProgressModel",
     "state": {
      "_dom_classes": [],
      "_model_module": "@jupyter-widgets/controls",
      "_model_module_version": "1.5.0",
      "_model_name": "FloatProgressModel",
      "_view_count": null,
      "_view_module": "@jupyter-widgets/controls",
      "_view_module_version": "1.5.0",
      "_view_name": "ProgressView",
      "bar_style": "",
      "description": "",
      "description_tooltip": null,
      "layout": "IPY_MODEL_d65b03836e5641f7ba1b8245353fe5dc",
      "max": 5073,
      "min": 0,
      "orientation": "horizontal",
      "style": "IPY_MODEL_c14ce88085de488aa947518464fd190e",
      "value": 1441
     }
    },
    "0bcceae9d69640dfae747cf4064f9b89": {
     "model_module": "@jupyter-widgets/base",
     "model_module_version": "1.2.0",
     "model_name": "LayoutModel",
     "state": {
      "_model_module": "@jupyter-widgets/base",
      "_model_module_version": "1.2.0",
      "_model_name": "LayoutModel",
      "_view_count": null,
      "_view_module": "@jupyter-widgets/base",
      "_view_module_version": "1.2.0",
      "_view_name": "LayoutView",
      "align_content": null,
      "align_items": null,
      "align_self": null,
      "border": null,
      "bottom": null,
      "display": null,
      "flex": null,
      "flex_flow": null,
      "grid_area": null,
      "grid_auto_columns": null,
      "grid_auto_flow": null,
      "grid_auto_rows": null,
      "grid_column": null,
      "grid_gap": null,
      "grid_row": null,
      "grid_template_areas": null,
      "grid_template_columns": null,
      "grid_template_rows": null,
      "height": null,
      "justify_content": null,
      "justify_items": null,
      "left": null,
      "margin": null,
      "max_height": null,
      "max_width": null,
      "min_height": null,
      "min_width": null,
      "object_fit": null,
      "object_position": null,
      "order": null,
      "overflow": null,
      "overflow_x": null,
      "overflow_y": null,
      "padding": null,
      "right": null,
      "top": null,
      "visibility": null,
      "width": null
     }
    },
    "117909905f7c4f2f94c65b4c325fc94d": {
     "model_module": "@jupyter-widgets/controls",
     "model_module_version": "1.5.0",
     "model_name": "FloatProgressModel",
     "state": {
      "_dom_classes": [],
      "_model_module": "@jupyter-widgets/controls",
      "_model_module_version": "1.5.0",
      "_model_name": "FloatProgressModel",
      "_view_count": null,
      "_view_module": "@jupyter-widgets/controls",
      "_view_module_version": "1.5.0",
      "_view_name": "ProgressView",
      "bar_style": "success",
      "description": "",
      "description_tooltip": null,
      "layout": "IPY_MODEL_086a0cb6b3fa483f916a5adf0d3b1efe",
      "max": 238658,
      "min": 0,
      "orientation": "horizontal",
      "style": "IPY_MODEL_a2f5cd7309f24083991094d5379010ac",
      "value": 238658
     }
    },
    "11d570d06bdc498e92b041ae86a24290": {
     "model_module": "@jupyter-widgets/base",
     "model_module_version": "1.2.0",
     "model_name": "LayoutModel",
     "state": {
      "_model_module": "@jupyter-widgets/base",
      "_model_module_version": "1.2.0",
      "_model_name": "LayoutModel",
      "_view_count": null,
      "_view_module": "@jupyter-widgets/base",
      "_view_module_version": "1.2.0",
      "_view_name": "LayoutView",
      "align_content": null,
      "align_items": null,
      "align_self": null,
      "border": null,
      "bottom": null,
      "display": null,
      "flex": null,
      "flex_flow": null,
      "grid_area": null,
      "grid_auto_columns": null,
      "grid_auto_flow": null,
      "grid_auto_rows": null,
      "grid_column": null,
      "grid_gap": null,
      "grid_row": null,
      "grid_template_areas": null,
      "grid_template_columns": null,
      "grid_template_rows": null,
      "height": null,
      "justify_content": null,
      "justify_items": null,
      "left": null,
      "margin": null,
      "max_height": null,
      "max_width": null,
      "min_height": null,
      "min_width": null,
      "object_fit": null,
      "object_position": null,
      "order": null,
      "overflow": null,
      "overflow_x": null,
      "overflow_y": null,
      "padding": null,
      "right": null,
      "top": null,
      "visibility": null,
      "width": null
     }
    },
    "14c2ec79e38f413b8d646b539a915bfb": {
     "model_module": "@jupyter-widgets/controls",
     "model_module_version": "1.5.0",
     "model_name": "HTMLModel",
     "state": {
      "_dom_classes": [],
      "_model_module": "@jupyter-widgets/controls",
      "_model_module_version": "1.5.0",
      "_model_name": "HTMLModel",
      "_view_count": null,
      "_view_module": "@jupyter-widgets/controls",
      "_view_module_version": "1.5.0",
      "_view_name": "HTMLView",
      "description": "",
      "description_tooltip": null,
      "layout": "IPY_MODEL_8a34e80da59a42248168af346f29a7be",
      "placeholder": "​",
      "style": "IPY_MODEL_66a3eb9ac5e24e0b9ce62e1dbf308750",
      "value": " 1441/5073 [02:03&lt;04:20, 13.92it/s]"
     }
    },
    "14cf58b8cea3404fb4982f0dc1ed7e09": {
     "model_module": "@jupyter-widgets/base",
     "model_module_version": "1.2.0",
     "model_name": "LayoutModel",
     "state": {
      "_model_module": "@jupyter-widgets/base",
      "_model_module_version": "1.2.0",
      "_model_name": "LayoutModel",
      "_view_count": null,
      "_view_module": "@jupyter-widgets/base",
      "_view_module_version": "1.2.0",
      "_view_name": "LayoutView",
      "align_content": null,
      "align_items": null,
      "align_self": null,
      "border": null,
      "bottom": null,
      "display": null,
      "flex": null,
      "flex_flow": null,
      "grid_area": null,
      "grid_auto_columns": null,
      "grid_auto_flow": null,
      "grid_auto_rows": null,
      "grid_column": null,
      "grid_gap": null,
      "grid_row": null,
      "grid_template_areas": null,
      "grid_template_columns": null,
      "grid_template_rows": null,
      "height": null,
      "justify_content": null,
      "justify_items": null,
      "left": null,
      "margin": null,
      "max_height": null,
      "max_width": null,
      "min_height": null,
      "min_width": null,
      "object_fit": null,
      "object_position": null,
      "order": null,
      "overflow": null,
      "overflow_x": null,
      "overflow_y": null,
      "padding": null,
      "right": null,
      "top": null,
      "visibility": null,
      "width": null
     }
    },
    "1a818abb4afb416c96e1087a01ae39cc": {
     "model_module": "@jupyter-widgets/controls",
     "model_module_version": "1.5.0",
     "model_name": "HTMLModel",
     "state": {
      "_dom_classes": [],
      "_model_module": "@jupyter-widgets/controls",
      "_model_module_version": "1.5.0",
      "_model_name": "HTMLModel",
      "_view_count": null,
      "_view_module": "@jupyter-widgets/controls",
      "_view_module_version": "1.5.0",
      "_view_name": "HTMLView",
      "description": "",
      "description_tooltip": null,
      "layout": "IPY_MODEL_c266c660623149feabdd3be0901251d2",
      "placeholder": "​",
      "style": "IPY_MODEL_92f8f448017f4ffd99e4705eec80a40a",
      "value": "  0%"
     }
    },
    "1e2fd07e1eb54887ab00e14061733bfa": {
     "model_module": "@jupyter-widgets/base",
     "model_module_version": "1.2.0",
     "model_name": "LayoutModel",
     "state": {
      "_model_module": "@jupyter-widgets/base",
      "_model_module_version": "1.2.0",
      "_model_name": "LayoutModel",
      "_view_count": null,
      "_view_module": "@jupyter-widgets/base",
      "_view_module_version": "1.2.0",
      "_view_name": "LayoutView",
      "align_content": null,
      "align_items": null,
      "align_self": null,
      "border": null,
      "bottom": null,
      "display": null,
      "flex": null,
      "flex_flow": null,
      "grid_area": null,
      "grid_auto_columns": null,
      "grid_auto_flow": null,
      "grid_auto_rows": null,
      "grid_column": null,
      "grid_gap": null,
      "grid_row": null,
      "grid_template_areas": null,
      "grid_template_columns": null,
      "grid_template_rows": null,
      "height": null,
      "justify_content": null,
      "justify_items": null,
      "left": null,
      "margin": null,
      "max_height": null,
      "max_width": null,
      "min_height": null,
      "min_width": null,
      "object_fit": null,
      "object_position": null,
      "order": null,
      "overflow": null,
      "overflow_x": null,
      "overflow_y": null,
      "padding": null,
      "right": null,
      "top": null,
      "visibility": null,
      "width": null
     }
    },
    "3c69f7bd09ff4de6a95117509bf3fcbb": {
     "model_module": "@jupyter-widgets/controls",
     "model_module_version": "1.5.0",
     "model_name": "HTMLModel",
     "state": {
      "_dom_classes": [],
      "_model_module": "@jupyter-widgets/controls",
      "_model_module_version": "1.5.0",
      "_model_name": "HTMLModel",
      "_view_count": null,
      "_view_module": "@jupyter-widgets/controls",
      "_view_module_version": "1.5.0",
      "_view_name": "HTMLView",
      "description": "",
      "description_tooltip": null,
      "layout": "IPY_MODEL_1e2fd07e1eb54887ab00e14061733bfa",
      "placeholder": "​",
      "style": "IPY_MODEL_4202c6b5f35c44e0a3de7311c2d61442",
      "value": " 238658/238658 [01:20&lt;00:00, 2030.33it/s]"
     }
    },
    "4202c6b5f35c44e0a3de7311c2d61442": {
     "model_module": "@jupyter-widgets/controls",
     "model_module_version": "1.5.0",
     "model_name": "DescriptionStyleModel",
     "state": {
      "_model_module": "@jupyter-widgets/controls",
      "_model_module_version": "1.5.0",
      "_model_name": "DescriptionStyleModel",
      "_view_count": null,
      "_view_module": "@jupyter-widgets/base",
      "_view_module_version": "1.2.0",
      "_view_name": "StyleView",
      "description_width": ""
     }
    },
    "424eea0bccbe4ccd8e4691f3b83fa444": {
     "model_module": "@jupyter-widgets/controls",
     "model_module_version": "1.5.0",
     "model_name": "DescriptionStyleModel",
     "state": {
      "_model_module": "@jupyter-widgets/controls",
      "_model_module_version": "1.5.0",
      "_model_name": "DescriptionStyleModel",
      "_view_count": null,
      "_view_module": "@jupyter-widgets/base",
      "_view_module_version": "1.2.0",
      "_view_name": "StyleView",
      "description_width": ""
     }
    },
    "48937ea8079d461f85d1213f35010813": {
     "model_module": "@jupyter-widgets/controls",
     "model_module_version": "1.5.0",
     "model_name": "FloatProgressModel",
     "state": {
      "_dom_classes": [],
      "_model_module": "@jupyter-widgets/controls",
      "_model_module_version": "1.5.0",
      "_model_name": "FloatProgressModel",
      "_view_count": null,
      "_view_module": "@jupyter-widgets/controls",
      "_view_module_version": "1.5.0",
      "_view_name": "ProgressView",
      "bar_style": "",
      "description": "",
      "description_tooltip": null,
      "layout": "IPY_MODEL_11d570d06bdc498e92b041ae86a24290",
      "max": 16234,
      "min": 0,
      "orientation": "horizontal",
      "style": "IPY_MODEL_d7e69db114c0493dbad2a020b662da1a",
      "value": 0
     }
    },
    "4dbc1340576b4c849d0514f4a31519d7": {
     "model_module": "@jupyter-widgets/controls",
     "model_module_version": "1.5.0",
     "model_name": "HTMLModel",
     "state": {
      "_dom_classes": [],
      "_model_module": "@jupyter-widgets/controls",
      "_model_module_version": "1.5.0",
      "_model_name": "HTMLModel",
      "_view_count": null,
      "_view_module": "@jupyter-widgets/controls",
      "_view_module_version": "1.5.0",
      "_view_name": "HTMLView",
      "description": "",
      "description_tooltip": null,
      "layout": "IPY_MODEL_0bcceae9d69640dfae747cf4064f9b89",
      "placeholder": "​",
      "style": "IPY_MODEL_98989adcbd9946b3a59e7b52432a6a07",
      "value": " 0/16234 [00:00&lt;?, ?it/s]"
     }
    },
    "5238b4016a4c483095919f7835f7ca35": {
     "model_module": "@jupyter-widgets/controls",
     "model_module_version": "1.5.0",
     "model_name": "HBoxModel",
     "state": {
      "_dom_classes": [],
      "_model_module": "@jupyter-widgets/controls",
      "_model_module_version": "1.5.0",
      "_model_name": "HBoxModel",
      "_view_count": null,
      "_view_module": "@jupyter-widgets/controls",
      "_view_module_version": "1.5.0",
      "_view_name": "HBoxView",
      "box_style": "",
      "children": [
       "IPY_MODEL_7f9c64ff923c4f3e9ec0970b390bc84f",
       "IPY_MODEL_0abcee0cf98840eb9c1852657694c88b",
       "IPY_MODEL_14c2ec79e38f413b8d646b539a915bfb"
      ],
      "layout": "IPY_MODEL_14cf58b8cea3404fb4982f0dc1ed7e09"
     }
    },
    "66a3eb9ac5e24e0b9ce62e1dbf308750": {
     "model_module": "@jupyter-widgets/controls",
     "model_module_version": "1.5.0",
     "model_name": "DescriptionStyleModel",
     "state": {
      "_model_module": "@jupyter-widgets/controls",
      "_model_module_version": "1.5.0",
      "_model_name": "DescriptionStyleModel",
      "_view_count": null,
      "_view_module": "@jupyter-widgets/base",
      "_view_module_version": "1.2.0",
      "_view_name": "StyleView",
      "description_width": ""
     }
    },
    "6c2330485550482caaee07c6f940e0b3": {
     "model_module": "@jupyter-widgets/controls",
     "model_module_version": "1.5.0",
     "model_name": "DescriptionStyleModel",
     "state": {
      "_model_module": "@jupyter-widgets/controls",
      "_model_module_version": "1.5.0",
      "_model_name": "DescriptionStyleModel",
      "_view_count": null,
      "_view_module": "@jupyter-widgets/base",
      "_view_module_version": "1.2.0",
      "_view_name": "StyleView",
      "description_width": ""
     }
    },
    "7f9c64ff923c4f3e9ec0970b390bc84f": {
     "model_module": "@jupyter-widgets/controls",
     "model_module_version": "1.5.0",
     "model_name": "HTMLModel",
     "state": {
      "_dom_classes": [],
      "_model_module": "@jupyter-widgets/controls",
      "_model_module_version": "1.5.0",
      "_model_name": "HTMLModel",
      "_view_count": null,
      "_view_module": "@jupyter-widgets/controls",
      "_view_module_version": "1.5.0",
      "_view_name": "HTMLView",
      "description": "",
      "description_tooltip": null,
      "layout": "IPY_MODEL_eec922bcdd50487f82cbf681b90a5cdc",
      "placeholder": "​",
      "style": "IPY_MODEL_424eea0bccbe4ccd8e4691f3b83fa444",
      "value": "loss: 1.3239, Avg Loss: 1.2151:  28%"
     }
    },
    "8a34e80da59a42248168af346f29a7be": {
     "model_module": "@jupyter-widgets/base",
     "model_module_version": "1.2.0",
     "model_name": "LayoutModel",
     "state": {
      "_model_module": "@jupyter-widgets/base",
      "_model_module_version": "1.2.0",
      "_model_name": "LayoutModel",
      "_view_count": null,
      "_view_module": "@jupyter-widgets/base",
      "_view_module_version": "1.2.0",
      "_view_name": "LayoutView",
      "align_content": null,
      "align_items": null,
      "align_self": null,
      "border": null,
      "bottom": null,
      "display": null,
      "flex": null,
      "flex_flow": null,
      "grid_area": null,
      "grid_auto_columns": null,
      "grid_auto_flow": null,
      "grid_auto_rows": null,
      "grid_column": null,
      "grid_gap": null,
      "grid_row": null,
      "grid_template_areas": null,
      "grid_template_columns": null,
      "grid_template_rows": null,
      "height": null,
      "justify_content": null,
      "justify_items": null,
      "left": null,
      "margin": null,
      "max_height": null,
      "max_width": null,
      "min_height": null,
      "min_width": null,
      "object_fit": null,
      "object_position": null,
      "order": null,
      "overflow": null,
      "overflow_x": null,
      "overflow_y": null,
      "padding": null,
      "right": null,
      "top": null,
      "visibility": null,
      "width": null
     }
    },
    "8b1fbe428e7e4d6e9bd6e2c0ea019654": {
     "model_module": "@jupyter-widgets/base",
     "model_module_version": "1.2.0",
     "model_name": "LayoutModel",
     "state": {
      "_model_module": "@jupyter-widgets/base",
      "_model_module_version": "1.2.0",
      "_model_name": "LayoutModel",
      "_view_count": null,
      "_view_module": "@jupyter-widgets/base",
      "_view_module_version": "1.2.0",
      "_view_name": "LayoutView",
      "align_content": null,
      "align_items": null,
      "align_self": null,
      "border": null,
      "bottom": null,
      "display": null,
      "flex": null,
      "flex_flow": null,
      "grid_area": null,
      "grid_auto_columns": null,
      "grid_auto_flow": null,
      "grid_auto_rows": null,
      "grid_column": null,
      "grid_gap": null,
      "grid_row": null,
      "grid_template_areas": null,
      "grid_template_columns": null,
      "grid_template_rows": null,
      "height": null,
      "justify_content": null,
      "justify_items": null,
      "left": null,
      "margin": null,
      "max_height": null,
      "max_width": null,
      "min_height": null,
      "min_width": null,
      "object_fit": null,
      "object_position": null,
      "order": null,
      "overflow": null,
      "overflow_x": null,
      "overflow_y": null,
      "padding": null,
      "right": null,
      "top": null,
      "visibility": null,
      "width": null
     }
    },
    "92f8f448017f4ffd99e4705eec80a40a": {
     "model_module": "@jupyter-widgets/controls",
     "model_module_version": "1.5.0",
     "model_name": "DescriptionStyleModel",
     "state": {
      "_model_module": "@jupyter-widgets/controls",
      "_model_module_version": "1.5.0",
      "_model_name": "DescriptionStyleModel",
      "_view_count": null,
      "_view_module": "@jupyter-widgets/base",
      "_view_module_version": "1.2.0",
      "_view_name": "StyleView",
      "description_width": ""
     }
    },
    "98989adcbd9946b3a59e7b52432a6a07": {
     "model_module": "@jupyter-widgets/controls",
     "model_module_version": "1.5.0",
     "model_name": "DescriptionStyleModel",
     "state": {
      "_model_module": "@jupyter-widgets/controls",
      "_model_module_version": "1.5.0",
      "_model_name": "DescriptionStyleModel",
      "_view_count": null,
      "_view_module": "@jupyter-widgets/base",
      "_view_module_version": "1.2.0",
      "_view_name": "StyleView",
      "description_width": ""
     }
    },
    "a2f5cd7309f24083991094d5379010ac": {
     "model_module": "@jupyter-widgets/controls",
     "model_module_version": "1.5.0",
     "model_name": "ProgressStyleModel",
     "state": {
      "_model_module": "@jupyter-widgets/controls",
      "_model_module_version": "1.5.0",
      "_model_name": "ProgressStyleModel",
      "_view_count": null,
      "_view_module": "@jupyter-widgets/base",
      "_view_module_version": "1.2.0",
      "_view_name": "StyleView",
      "bar_color": null,
      "description_width": ""
     }
    },
    "b8666489033843f78310adf0f44c0ded": {
     "model_module": "@jupyter-widgets/base",
     "model_module_version": "1.2.0",
     "model_name": "LayoutModel",
     "state": {
      "_model_module": "@jupyter-widgets/base",
      "_model_module_version": "1.2.0",
      "_model_name": "LayoutModel",
      "_view_count": null,
      "_view_module": "@jupyter-widgets/base",
      "_view_module_version": "1.2.0",
      "_view_name": "LayoutView",
      "align_content": null,
      "align_items": null,
      "align_self": null,
      "border": null,
      "bottom": null,
      "display": null,
      "flex": null,
      "flex_flow": null,
      "grid_area": null,
      "grid_auto_columns": null,
      "grid_auto_flow": null,
      "grid_auto_rows": null,
      "grid_column": null,
      "grid_gap": null,
      "grid_row": null,
      "grid_template_areas": null,
      "grid_template_columns": null,
      "grid_template_rows": null,
      "height": null,
      "justify_content": null,
      "justify_items": null,
      "left": null,
      "margin": null,
      "max_height": null,
      "max_width": null,
      "min_height": null,
      "min_width": null,
      "object_fit": null,
      "object_position": null,
      "order": null,
      "overflow": null,
      "overflow_x": null,
      "overflow_y": null,
      "padding": null,
      "right": null,
      "top": null,
      "visibility": null,
      "width": null
     }
    },
    "c14ce88085de488aa947518464fd190e": {
     "model_module": "@jupyter-widgets/controls",
     "model_module_version": "1.5.0",
     "model_name": "ProgressStyleModel",
     "state": {
      "_model_module": "@jupyter-widgets/controls",
      "_model_module_version": "1.5.0",
      "_model_name": "ProgressStyleModel",
      "_view_count": null,
      "_view_module": "@jupyter-widgets/base",
      "_view_module_version": "1.2.0",
      "_view_name": "StyleView",
      "bar_color": null,
      "description_width": ""
     }
    },
    "c266c660623149feabdd3be0901251d2": {
     "model_module": "@jupyter-widgets/base",
     "model_module_version": "1.2.0",
     "model_name": "LayoutModel",
     "state": {
      "_model_module": "@jupyter-widgets/base",
      "_model_module_version": "1.2.0",
      "_model_name": "LayoutModel",
      "_view_count": null,
      "_view_module": "@jupyter-widgets/base",
      "_view_module_version": "1.2.0",
      "_view_name": "LayoutView",
      "align_content": null,
      "align_items": null,
      "align_self": null,
      "border": null,
      "bottom": null,
      "display": null,
      "flex": null,
      "flex_flow": null,
      "grid_area": null,
      "grid_auto_columns": null,
      "grid_auto_flow": null,
      "grid_auto_rows": null,
      "grid_column": null,
      "grid_gap": null,
      "grid_row": null,
      "grid_template_areas": null,
      "grid_template_columns": null,
      "grid_template_rows": null,
      "height": null,
      "justify_content": null,
      "justify_items": null,
      "left": null,
      "margin": null,
      "max_height": null,
      "max_width": null,
      "min_height": null,
      "min_width": null,
      "object_fit": null,
      "object_position": null,
      "order": null,
      "overflow": null,
      "overflow_x": null,
      "overflow_y": null,
      "padding": null,
      "right": null,
      "top": null,
      "visibility": null,
      "width": null
     }
    },
    "d65b03836e5641f7ba1b8245353fe5dc": {
     "model_module": "@jupyter-widgets/base",
     "model_module_version": "1.2.0",
     "model_name": "LayoutModel",
     "state": {
      "_model_module": "@jupyter-widgets/base",
      "_model_module_version": "1.2.0",
      "_model_name": "LayoutModel",
      "_view_count": null,
      "_view_module": "@jupyter-widgets/base",
      "_view_module_version": "1.2.0",
      "_view_name": "LayoutView",
      "align_content": null,
      "align_items": null,
      "align_self": null,
      "border": null,
      "bottom": null,
      "display": null,
      "flex": null,
      "flex_flow": null,
      "grid_area": null,
      "grid_auto_columns": null,
      "grid_auto_flow": null,
      "grid_auto_rows": null,
      "grid_column": null,
      "grid_gap": null,
      "grid_row": null,
      "grid_template_areas": null,
      "grid_template_columns": null,
      "grid_template_rows": null,
      "height": null,
      "justify_content": null,
      "justify_items": null,
      "left": null,
      "margin": null,
      "max_height": null,
      "max_width": null,
      "min_height": null,
      "min_width": null,
      "object_fit": null,
      "object_position": null,
      "order": null,
      "overflow": null,
      "overflow_x": null,
      "overflow_y": null,
      "padding": null,
      "right": null,
      "top": null,
      "visibility": null,
      "width": null
     }
    },
    "d7e69db114c0493dbad2a020b662da1a": {
     "model_module": "@jupyter-widgets/controls",
     "model_module_version": "1.5.0",
     "model_name": "ProgressStyleModel",
     "state": {
      "_model_module": "@jupyter-widgets/controls",
      "_model_module_version": "1.5.0",
      "_model_name": "ProgressStyleModel",
      "_view_count": null,
      "_view_module": "@jupyter-widgets/base",
      "_view_module_version": "1.2.0",
      "_view_name": "StyleView",
      "bar_color": null,
      "description_width": ""
     }
    },
    "ddbd6aee66744c68a8b148ff0907968d": {
     "model_module": "@jupyter-widgets/controls",
     "model_module_version": "1.5.0",
     "model_name": "HBoxModel",
     "state": {
      "_dom_classes": [],
      "_model_module": "@jupyter-widgets/controls",
      "_model_module_version": "1.5.0",
      "_model_name": "HBoxModel",
      "_view_count": null,
      "_view_module": "@jupyter-widgets/controls",
      "_view_module_version": "1.5.0",
      "_view_name": "HBoxView",
      "box_style": "",
      "children": [
       "IPY_MODEL_e74b148440264d54a17a64f4692a9e76",
       "IPY_MODEL_117909905f7c4f2f94c65b4c325fc94d",
       "IPY_MODEL_3c69f7bd09ff4de6a95117509bf3fcbb"
      ],
      "layout": "IPY_MODEL_e6155632375944ba8c00b3ea738f38ae"
     }
    },
    "de99d110080348c9b895a34a029867ae": {
     "model_module": "@jupyter-widgets/controls",
     "model_module_version": "1.5.0",
     "model_name": "HBoxModel",
     "state": {
      "_dom_classes": [],
      "_model_module": "@jupyter-widgets/controls",
      "_model_module_version": "1.5.0",
      "_model_name": "HBoxModel",
      "_view_count": null,
      "_view_module": "@jupyter-widgets/controls",
      "_view_module_version": "1.5.0",
      "_view_name": "HBoxView",
      "box_style": "",
      "children": [
       "IPY_MODEL_1a818abb4afb416c96e1087a01ae39cc",
       "IPY_MODEL_48937ea8079d461f85d1213f35010813",
       "IPY_MODEL_4dbc1340576b4c849d0514f4a31519d7"
      ],
      "layout": "IPY_MODEL_b8666489033843f78310adf0f44c0ded"
     }
    },
    "e6155632375944ba8c00b3ea738f38ae": {
     "model_module": "@jupyter-widgets/base",
     "model_module_version": "1.2.0",
     "model_name": "LayoutModel",
     "state": {
      "_model_module": "@jupyter-widgets/base",
      "_model_module_version": "1.2.0",
      "_model_name": "LayoutModel",
      "_view_count": null,
      "_view_module": "@jupyter-widgets/base",
      "_view_module_version": "1.2.0",
      "_view_name": "LayoutView",
      "align_content": null,
      "align_items": null,
      "align_self": null,
      "border": null,
      "bottom": null,
      "display": null,
      "flex": null,
      "flex_flow": null,
      "grid_area": null,
      "grid_auto_columns": null,
      "grid_auto_flow": null,
      "grid_auto_rows": null,
      "grid_column": null,
      "grid_gap": null,
      "grid_row": null,
      "grid_template_areas": null,
      "grid_template_columns": null,
      "grid_template_rows": null,
      "height": null,
      "justify_content": null,
      "justify_items": null,
      "left": null,
      "margin": null,
      "max_height": null,
      "max_width": null,
      "min_height": null,
      "min_width": null,
      "object_fit": null,
      "object_position": null,
      "order": null,
      "overflow": null,
      "overflow_x": null,
      "overflow_y": null,
      "padding": null,
      "right": null,
      "top": null,
      "visibility": null,
      "width": null
     }
    },
    "e74b148440264d54a17a64f4692a9e76": {
     "model_module": "@jupyter-widgets/controls",
     "model_module_version": "1.5.0",
     "model_name": "HTMLModel",
     "state": {
      "_dom_classes": [],
      "_model_module": "@jupyter-widgets/controls",
      "_model_module_version": "1.5.0",
      "_model_name": "HTMLModel",
      "_view_count": null,
      "_view_module": "@jupyter-widgets/controls",
      "_view_module_version": "1.5.0",
      "_view_name": "HTMLView",
      "description": "",
      "description_tooltip": null,
      "layout": "IPY_MODEL_8b1fbe428e7e4d6e9bd6e2c0ea019654",
      "placeholder": "​",
      "style": "IPY_MODEL_6c2330485550482caaee07c6f940e0b3",
      "value": "100%"
     }
    },
    "eec922bcdd50487f82cbf681b90a5cdc": {
     "model_module": "@jupyter-widgets/base",
     "model_module_version": "1.2.0",
     "model_name": "LayoutModel",
     "state": {
      "_model_module": "@jupyter-widgets/base",
      "_model_module_version": "1.2.0",
      "_model_name": "LayoutModel",
      "_view_count": null,
      "_view_module": "@jupyter-widgets/base",
      "_view_module_version": "1.2.0",
      "_view_name": "LayoutView",
      "align_content": null,
      "align_items": null,
      "align_self": null,
      "border": null,
      "bottom": null,
      "display": null,
      "flex": null,
      "flex_flow": null,
      "grid_area": null,
      "grid_auto_columns": null,
      "grid_auto_flow": null,
      "grid_auto_rows": null,
      "grid_column": null,
      "grid_gap": null,
      "grid_row": null,
      "grid_template_areas": null,
      "grid_template_columns": null,
      "grid_template_rows": null,
      "height": null,
      "justify_content": null,
      "justify_items": null,
      "left": null,
      "margin": null,
      "max_height": null,
      "max_width": null,
      "min_height": null,
      "min_width": null,
      "object_fit": null,
      "object_position": null,
      "order": null,
      "overflow": null,
      "overflow_x": null,
      "overflow_y": null,
      "padding": null,
      "right": null,
      "top": null,
      "visibility": null,
      "width": null
     }
    }
   }
  }
 },
 "nbformat": 4,
 "nbformat_minor": 0
}
