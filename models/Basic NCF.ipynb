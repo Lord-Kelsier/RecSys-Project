{
 "cells": [
  {
   "cell_type": "markdown",
   "metadata": {
    "id": "hTlYyk2YOyKb"
   },
   "source": [
    "# Download"
   ]
  },
  {
   "cell_type": "code",
   "execution_count": 1,
   "metadata": {
    "colab": {
     "base_uri": "https://localhost:8080/"
    },
    "executionInfo": {
     "elapsed": 28290,
     "status": "ok",
     "timestamp": 1732893332682,
     "user": {
      "displayName": "Eduardo Contreras",
      "userId": "04220510561979261999"
     },
     "user_tz": 180
    },
    "id": "ZnIQLDRPNrxP",
    "outputId": "579254c1-b42d-4629-f32c-d2e39e0e2a08"
   },
   "outputs": [],
   "source": [
    "# !pip install kaggle\n",
    "# !kaggle datasets download -d irkaal/foodcom-recipes-and-reviews -f recipes.parquet\n",
    "# !kaggle datasets download -d irkaal/foodcom-recipes-and-reviews -f reviews.parquet\n",
    "# !unzip recipes.parquet.zip\n",
    "# !rm recipes.parquet.zip\n",
    "# !unzip reviews.parquet.zip\n",
    "# !rm reviews.parquet.zip\n",
    "# !wget https://raw.githubusercontent.com/Lord-Kelsier/datasets/refs/heads/master/mappers.json\n"
   ]
  },
  {
   "cell_type": "markdown",
   "metadata": {
    "id": "D3QWyxmcOw3J"
   },
   "source": [
    "# Libs"
   ]
  },
  {
   "cell_type": "code",
   "execution_count": 2,
   "metadata": {
    "executionInfo": {
     "elapsed": 19210,
     "status": "ok",
     "timestamp": 1732991948356,
     "user": {
      "displayName": "Eduardo Contreras",
      "userId": "04220510561979261999"
     },
     "user_tz": 180
    },
    "id": "QCInAPs5OVAQ"
   },
   "outputs": [],
   "source": [
    "import torch\n",
    "from torch import nn\n",
    "import pandas as pd\n",
    "import numpy as np\n",
    "import matplotlib.pyplot as plt\n",
    "from torch.utils.data import DataLoader, Dataset\n",
    "from tqdm.notebook import tqdm\n",
    "import pickle as pkl\n",
    "device = 'cuda' if torch.cuda.is_available() else 'cpu'"
   ]
  },
  {
   "cell_type": "markdown",
   "metadata": {
    "id": "fHP7EdJ5O5OY"
   },
   "source": [
    "# Dataset"
   ]
  },
  {
   "cell_type": "code",
   "execution_count": 3,
   "metadata": {
    "executionInfo": {
     "elapsed": 6092,
     "status": "ok",
     "timestamp": 1732991954444,
     "user": {
      "displayName": "Eduardo Contreras",
      "userId": "04220510561979261999"
     },
     "user_tz": 180
    },
    "id": "RnAoxmoyjL9_"
   },
   "outputs": [],
   "source": [
    "reviews_train = pd.read_csv(\"https://raw.githubusercontent.com/Lord-Kelsier/datasets/refs/heads/master/review_train.csv\")\n",
    "reviews_test = pd.read_csv(\"https://raw.githubusercontent.com/Lord-Kelsier/datasets/refs/heads/master/review_test.csv\")\n",
    "recipes = pd.read_csv(\"https://raw.githubusercontent.com/Lord-Kelsier/datasets/refs/heads/master/recipes.csv\")"
   ]
  },
  {
   "cell_type": "code",
   "execution_count": 4,
   "metadata": {
    "colab": {
     "base_uri": "https://localhost:8080/"
    },
    "executionInfo": {
     "elapsed": 416,
     "status": "ok",
     "timestamp": 1732991954857,
     "user": {
      "displayName": "Eduardo Contreras",
      "userId": "04220510561979261999"
     },
     "user_tz": 180
    },
    "id": "-SmeikBuPf_C",
    "outputId": "abdf7b57-0d62-43c2-f80c-f78a742b67b8"
   },
   "outputs": [
    {
     "data": {
      "text/plain": [
       "(271906, 238658)"
      ]
     },
     "execution_count": 4,
     "metadata": {},
     "output_type": "execute_result"
    }
   ],
   "source": [
    "users_amount, recipes_amount = len(reviews_train[\"AuthorId\"].unique()), len(reviews_train[\"RecipeId\"].unique())\n",
    "users_amount, recipes_amount"
   ]
  },
  {
   "cell_type": "code",
   "execution_count": 5,
   "metadata": {
    "colab": {
     "base_uri": "https://localhost:8080/"
    },
    "executionInfo": {
     "elapsed": 420,
     "status": "ok",
     "timestamp": 1732991955274,
     "user": {
      "displayName": "Eduardo Contreras",
      "userId": "04220510561979261999"
     },
     "user_tz": 180
    },
    "id": "KbCtTQJc-su8",
    "outputId": "58688db9-96bf-494a-ca77-d96128b483d3"
   },
   "outputs": [
    {
     "data": {
      "text/plain": [
       "(0, 238657, 238658, 238658)"
      ]
     },
     "execution_count": 5,
     "metadata": {},
     "output_type": "execute_result"
    }
   ],
   "source": [
    "min(recipes[\"RecipeId\"]), max(recipes[\"RecipeId\"]), len(recipes[\"RecipeId\"]), len(recipes[\"RecipeId\"].unique())"
   ]
  },
  {
   "cell_type": "code",
   "execution_count": 6,
   "metadata": {
    "colab": {
     "base_uri": "https://localhost:8080/",
     "height": 0
    },
    "executionInfo": {
     "elapsed": 5,
     "status": "ok",
     "timestamp": 1732991955274,
     "user": {
      "displayName": "Eduardo Contreras",
      "userId": "04220510561979261999"
     },
     "user_tz": 180
    },
    "id": "W-0zbvaXOuZs",
    "outputId": "19c04b52-278e-46a1-e1c8-8ab5c07c3e22"
   },
   "outputs": [
    {
     "data": {
      "text/html": [
       "<div>\n",
       "<style scoped>\n",
       "    .dataframe tbody tr th:only-of-type {\n",
       "        vertical-align: middle;\n",
       "    }\n",
       "\n",
       "    .dataframe tbody tr th {\n",
       "        vertical-align: top;\n",
       "    }\n",
       "\n",
       "    .dataframe thead th {\n",
       "        text-align: right;\n",
       "    }\n",
       "</style>\n",
       "<table border=\"1\" class=\"dataframe\">\n",
       "  <thead>\n",
       "    <tr style=\"text-align: right;\">\n",
       "      <th></th>\n",
       "      <th>RecipeIngredientParts</th>\n",
       "      <th>Calories</th>\n",
       "      <th>FatContent</th>\n",
       "      <th>SaturatedFatContent</th>\n",
       "      <th>CholesterolContent</th>\n",
       "      <th>SodiumContent</th>\n",
       "      <th>CarbohydrateContent</th>\n",
       "      <th>FiberContent</th>\n",
       "      <th>SugarContent</th>\n",
       "      <th>ProteinContent</th>\n",
       "    </tr>\n",
       "    <tr>\n",
       "      <th>RecipeId</th>\n",
       "      <th></th>\n",
       "      <th></th>\n",
       "      <th></th>\n",
       "      <th></th>\n",
       "      <th></th>\n",
       "      <th></th>\n",
       "      <th></th>\n",
       "      <th></th>\n",
       "      <th></th>\n",
       "      <th></th>\n",
       "    </tr>\n",
       "  </thead>\n",
       "  <tbody>\n",
       "    <tr>\n",
       "      <th>0</th>\n",
       "      <td>[4686, 4448, 1850, 2281]</td>\n",
       "      <td>170.9</td>\n",
       "      <td>2.5</td>\n",
       "      <td>1.3</td>\n",
       "      <td>8.0</td>\n",
       "      <td>29.8</td>\n",
       "      <td>37.1</td>\n",
       "      <td>3.6</td>\n",
       "      <td>30.2</td>\n",
       "      <td>3.2</td>\n",
       "    </tr>\n",
       "    <tr>\n",
       "      <th>1</th>\n",
       "      <td>[5798, 3172, 4039, 1824, 2488, 1101, 2985, 111...</td>\n",
       "      <td>1110.7</td>\n",
       "      <td>58.8</td>\n",
       "      <td>16.6</td>\n",
       "      <td>372.8</td>\n",
       "      <td>368.4</td>\n",
       "      <td>84.4</td>\n",
       "      <td>9.0</td>\n",
       "      <td>20.4</td>\n",
       "      <td>63.4</td>\n",
       "    </tr>\n",
       "    <tr>\n",
       "      <th>2</th>\n",
       "      <td>[684, 1038, 5984, 4536, 484]</td>\n",
       "      <td>311.1</td>\n",
       "      <td>0.2</td>\n",
       "      <td>0.0</td>\n",
       "      <td>0.0</td>\n",
       "      <td>1.8</td>\n",
       "      <td>81.5</td>\n",
       "      <td>0.4</td>\n",
       "      <td>77.2</td>\n",
       "      <td>0.3</td>\n",
       "    </tr>\n",
       "    <tr>\n",
       "      <th>3</th>\n",
       "      <td>[230, 1127, 2827, 581, 3810, 2547, 3371, 4036,...</td>\n",
       "      <td>536.1</td>\n",
       "      <td>24.0</td>\n",
       "      <td>3.8</td>\n",
       "      <td>0.0</td>\n",
       "      <td>1558.6</td>\n",
       "      <td>64.2</td>\n",
       "      <td>17.3</td>\n",
       "      <td>32.1</td>\n",
       "      <td>29.3</td>\n",
       "    </tr>\n",
       "    <tr>\n",
       "      <th>4</th>\n",
       "      <td>[4765, 2695, 3039, 3395, 3641]</td>\n",
       "      <td>103.6</td>\n",
       "      <td>0.4</td>\n",
       "      <td>0.1</td>\n",
       "      <td>0.0</td>\n",
       "      <td>959.3</td>\n",
       "      <td>25.1</td>\n",
       "      <td>4.8</td>\n",
       "      <td>17.7</td>\n",
       "      <td>4.3</td>\n",
       "    </tr>\n",
       "  </tbody>\n",
       "</table>\n",
       "</div>"
      ],
      "text/plain": [
       "                                      RecipeIngredientParts  Calories  \\\n",
       "RecipeId                                                                \n",
       "0                                  [4686, 4448, 1850, 2281]     170.9   \n",
       "1         [5798, 3172, 4039, 1824, 2488, 1101, 2985, 111...    1110.7   \n",
       "2                              [684, 1038, 5984, 4536, 484]     311.1   \n",
       "3         [230, 1127, 2827, 581, 3810, 2547, 3371, 4036,...     536.1   \n",
       "4                            [4765, 2695, 3039, 3395, 3641]     103.6   \n",
       "\n",
       "          FatContent  SaturatedFatContent  CholesterolContent  SodiumContent  \\\n",
       "RecipeId                                                                       \n",
       "0                2.5                  1.3                 8.0           29.8   \n",
       "1               58.8                 16.6               372.8          368.4   \n",
       "2                0.2                  0.0                 0.0            1.8   \n",
       "3               24.0                  3.8                 0.0         1558.6   \n",
       "4                0.4                  0.1                 0.0          959.3   \n",
       "\n",
       "          CarbohydrateContent  FiberContent  SugarContent  ProteinContent  \n",
       "RecipeId                                                                   \n",
       "0                        37.1           3.6          30.2             3.2  \n",
       "1                        84.4           9.0          20.4            63.4  \n",
       "2                        81.5           0.4          77.2             0.3  \n",
       "3                        64.2          17.3          32.1            29.3  \n",
       "4                        25.1           4.8          17.7             4.3  "
      ]
     },
     "execution_count": 6,
     "metadata": {},
     "output_type": "execute_result"
    }
   ],
   "source": [
    "recipes.set_index(\"RecipeId\", inplace=True)\n",
    "recipes.head()"
   ]
  },
  {
   "cell_type": "code",
   "execution_count": 7,
   "metadata": {
    "executionInfo": {
     "elapsed": 4,
     "status": "ok",
     "timestamp": 1732991955274,
     "user": {
      "displayName": "Eduardo Contreras",
      "userId": "04220510561979261999"
     },
     "user_tz": 180
    },
    "id": "Fb-8M2Eshdqc"
   },
   "outputs": [],
   "source": [
    "nutrition_facts = [\n",
    "    'Calories', 'FatContent','SaturatedFatContent', 'CholesterolContent', 'SodiumContent',\n",
    "    'CarbohydrateContent', 'FiberContent', 'SugarContent', 'ProteinContent'\n",
    "]"
   ]
  },
  {
   "cell_type": "markdown",
   "metadata": {
    "id": "YK5aXOkzafc1"
   },
   "source": [
    "## Parsing"
   ]
  },
  {
   "cell_type": "code",
   "execution_count": 8,
   "metadata": {
    "colab": {
     "base_uri": "https://localhost:8080/",
     "height": 0
    },
    "executionInfo": {
     "elapsed": 2370,
     "status": "ok",
     "timestamp": 1732991957641,
     "user": {
      "displayName": "Eduardo Contreras",
      "userId": "04220510561979261999"
     },
     "user_tz": 180
    },
    "id": "FWeBrs7TvJ5C",
    "outputId": "807b18fe-82ad-4a5d-d331-d14c3ada8ff8"
   },
   "outputs": [
    {
     "data": {
      "text/plain": [
       "RecipeId\n",
       "0                          [4686,  4448,  1850,  2281]\n",
       "1    [5798,  3172,  4039,  1824,  2488,  1101,  298...\n",
       "2                     [684,  1038,  5984,  4536,  484]\n",
       "3    [230,  1127,  2827,  581,  3810,  2547,  3371,...\n",
       "4                   [4765,  2695,  3039,  3395,  3641]\n",
       "Name: RecipeIngredientParts, dtype: object"
      ]
     },
     "execution_count": 8,
     "metadata": {},
     "output_type": "execute_result"
    }
   ],
   "source": [
    "recipes[\"RecipeIngredientParts\"] = recipes[\"RecipeIngredientParts\"].apply(lambda x:  x.strip(\"[]\").split(\",\"))\n",
    "recipes[\"RecipeIngredientParts\"].head()"
   ]
  },
  {
   "cell_type": "code",
   "execution_count": 9,
   "metadata": {
    "executionInfo": {
     "elapsed": 4,
     "status": "ok",
     "timestamp": 1732991957641,
     "user": {
      "displayName": "Eduardo Contreras",
      "userId": "04220510561979261999"
     },
     "user_tz": 180
    },
    "id": "7qS62t297md4"
   },
   "outputs": [],
   "source": [
    "recipes[\"RecipeIngredientParts\"] = recipes[\"RecipeIngredientParts\"].apply(lambda x: [] if len(x) == 1 and x[0] == \"\" else x)"
   ]
  },
  {
   "cell_type": "code",
   "execution_count": 10,
   "metadata": {
    "colab": {
     "base_uri": "https://localhost:8080/",
     "height": 0
    },
    "executionInfo": {
     "elapsed": 1759,
     "status": "ok",
     "timestamp": 1732991959397,
     "user": {
      "displayName": "Eduardo Contreras",
      "userId": "04220510561979261999"
     },
     "user_tz": 180
    },
    "id": "RLMQgjOov00f",
    "outputId": "7feda035-afd7-49c1-dc77-1cdb198b1b87"
   },
   "outputs": [
    {
     "data": {
      "text/plain": [
       "RecipeId\n",
       "0                             [4686, 4448, 1850, 2281]\n",
       "1    [5798, 3172, 4039, 1824, 2488, 1101, 2985, 111...\n",
       "2                         [684, 1038, 5984, 4536, 484]\n",
       "3    [230, 1127, 2827, 581, 3810, 2547, 3371, 4036,...\n",
       "4                       [4765, 2695, 3039, 3395, 3641]\n",
       "Name: RecipeIngredientParts, dtype: object"
      ]
     },
     "execution_count": 10,
     "metadata": {},
     "output_type": "execute_result"
    }
   ],
   "source": [
    "recipes[\"RecipeIngredientParts\"] = recipes[\"RecipeIngredientParts\"].apply(lambda x: [int(i) for i in x])\n",
    "recipes[\"RecipeIngredientParts\"].head()"
   ]
  },
  {
   "cell_type": "code",
   "execution_count": 11,
   "metadata": {
    "colab": {
     "base_uri": "https://localhost:8080/"
    },
    "executionInfo": {
     "elapsed": 8,
     "status": "ok",
     "timestamp": 1732991959397,
     "user": {
      "displayName": "Eduardo Contreras",
      "userId": "04220510561979261999"
     },
     "user_tz": 180
    },
    "id": "AuVtzWUoyGfB",
    "outputId": "4be97d4e-d6b2-4265-f28b-3a0612dc4e22"
   },
   "outputs": [
    {
     "data": {
      "text/plain": [
       "6157"
      ]
     },
     "execution_count": 11,
     "metadata": {},
     "output_type": "execute_result"
    }
   ],
   "source": [
    "all_ingredients = set()\n",
    "list(map(lambda x: all_ingredients.update(x), recipes[\"RecipeIngredientParts\"]))\n",
    "len(all_ingredients)"
   ]
  },
  {
   "cell_type": "code",
   "execution_count": 12,
   "metadata": {
    "colab": {
     "base_uri": "https://localhost:8080/",
     "height": 0
    },
    "executionInfo": {
     "elapsed": 8,
     "status": "ok",
     "timestamp": 1732991959398,
     "user": {
      "displayName": "Eduardo Contreras",
      "userId": "04220510561979261999"
     },
     "user_tz": 180
    },
    "id": "chq_FWXnyh_-",
    "outputId": "a4fdef0f-7fac-4c2f-9fa0-4c31c78082ad"
   },
   "outputs": [
    {
     "data": {
      "text/html": [
       "<div>\n",
       "<style scoped>\n",
       "    .dataframe tbody tr th:only-of-type {\n",
       "        vertical-align: middle;\n",
       "    }\n",
       "\n",
       "    .dataframe tbody tr th {\n",
       "        vertical-align: top;\n",
       "    }\n",
       "\n",
       "    .dataframe thead th {\n",
       "        text-align: right;\n",
       "    }\n",
       "</style>\n",
       "<table border=\"1\" class=\"dataframe\">\n",
       "  <thead>\n",
       "    <tr style=\"text-align: right;\">\n",
       "      <th></th>\n",
       "      <th>RecipeIngredientParts</th>\n",
       "      <th>Calories</th>\n",
       "      <th>FatContent</th>\n",
       "      <th>SaturatedFatContent</th>\n",
       "      <th>CholesterolContent</th>\n",
       "      <th>SodiumContent</th>\n",
       "      <th>CarbohydrateContent</th>\n",
       "      <th>FiberContent</th>\n",
       "      <th>SugarContent</th>\n",
       "      <th>ProteinContent</th>\n",
       "    </tr>\n",
       "    <tr>\n",
       "      <th>RecipeId</th>\n",
       "      <th></th>\n",
       "      <th></th>\n",
       "      <th></th>\n",
       "      <th></th>\n",
       "      <th></th>\n",
       "      <th></th>\n",
       "      <th></th>\n",
       "      <th></th>\n",
       "      <th></th>\n",
       "      <th></th>\n",
       "    </tr>\n",
       "  </thead>\n",
       "  <tbody>\n",
       "    <tr>\n",
       "      <th>0</th>\n",
       "      <td>[4686, 4448, 1850, 2281]</td>\n",
       "      <td>170.9</td>\n",
       "      <td>2.5</td>\n",
       "      <td>1.3</td>\n",
       "      <td>8.0</td>\n",
       "      <td>29.8</td>\n",
       "      <td>37.1</td>\n",
       "      <td>3.6</td>\n",
       "      <td>30.2</td>\n",
       "      <td>3.2</td>\n",
       "    </tr>\n",
       "  </tbody>\n",
       "</table>\n",
       "</div>"
      ],
      "text/plain": [
       "             RecipeIngredientParts  Calories  FatContent  SaturatedFatContent  \\\n",
       "RecipeId                                                                        \n",
       "0         [4686, 4448, 1850, 2281]     170.9         2.5                  1.3   \n",
       "\n",
       "          CholesterolContent  SodiumContent  CarbohydrateContent  \\\n",
       "RecipeId                                                           \n",
       "0                        8.0           29.8                 37.1   \n",
       "\n",
       "          FiberContent  SugarContent  ProteinContent  \n",
       "RecipeId                                              \n",
       "0                  3.6          30.2             3.2  "
      ]
     },
     "execution_count": 12,
     "metadata": {},
     "output_type": "execute_result"
    }
   ],
   "source": [
    "recipes.head(1)"
   ]
  },
  {
   "cell_type": "markdown",
   "metadata": {
    "id": "A5B3zJOMaiSk"
   },
   "source": [
    "## Dataset and dataloader"
   ]
  },
  {
   "cell_type": "code",
   "execution_count": 13,
   "metadata": {
    "executionInfo": {
     "elapsed": 7,
     "status": "ok",
     "timestamp": 1732991959398,
     "user": {
      "displayName": "Eduardo Contreras",
      "userId": "04220510561979261999"
     },
     "user_tz": 180
    },
    "id": "vv12xnOTt-N0"
   },
   "outputs": [],
   "source": [
    "class RecipeDataset(Dataset):\n",
    "    def __init__(self, recipes):\n",
    "        self.recipes = recipes\n",
    "        self.nutrition_facts = 9\n",
    "        self.all_ingredients = all_ingredients\n",
    "    def __len__(self):\n",
    "        return len(self.recipes)\n",
    "    def __getitem__(self, idx):\n",
    "        assert 0 <= idx < len(self.recipes), f\"Index {idx} out of range\"\n",
    "        # Las recipes deben tener como indice su id\n",
    "        recipe = self.recipes.iloc[idx]\n",
    "        nutrition = recipe[nutrition_facts].values.copy().astype(float)\n",
    "        nutrition /= max(nutrition.max(), 1e-6)\n",
    "        nutrition = torch.tensor(nutrition, device=device, dtype=torch.float32).squeeze()\n",
    "\n",
    "        max_nutrition = torch.max(nutrition)\n",
    "        ingredients = recipe[\"RecipeIngredientParts\"]\n",
    "        one_hot_ingredients = torch.zeros(len(self.all_ingredients)).to(device)\n",
    "        one_hot_ingredients[ingredients] = 1\n",
    "        return torch.cat([one_hot_ingredients, nutrition]).to(device)\n"
   ]
  },
  {
   "cell_type": "code",
   "execution_count": 14,
   "metadata": {
    "executionInfo": {
     "elapsed": 7,
     "status": "ok",
     "timestamp": 1732991959398,
     "user": {
      "displayName": "Eduardo Contreras",
      "userId": "04220510561979261999"
     },
     "user_tz": 180
    },
    "id": "yV-vcFE2alDa"
   },
   "outputs": [],
   "source": [
    "class ReviewsDataset(Dataset):\n",
    "    def __init__(self, reviews, recipes_dset):\n",
    "        self.reviews = reviews\n",
    "        self.recipes_dset = recipes_dset\n",
    "    def __len__(self):\n",
    "        return len(self.reviews)\n",
    "    def __getitem__(self, idx):\n",
    "        assert 0 <= idx < len(self.reviews), f\"Index {idx} out of range\"\n",
    "        review = self.reviews.iloc[idx]\n",
    "        user_id = review['AuthorId']\n",
    "        recipe_id = review['RecipeId']\n",
    "        rating = review['Rating'].astype(float)\n",
    "        recipe_features = self.recipes_dset[recipe_id]\n",
    "        return (\n",
    "            torch.tensor([user_id, recipe_id], device=device),\n",
    "            torch.tensor(rating, device=device, dtype=torch.float32),\n",
    "            recipe_features\n",
    "        )"
   ]
  },
  {
   "cell_type": "code",
   "execution_count": 15,
   "metadata": {
    "executionInfo": {
     "elapsed": 7,
     "status": "ok",
     "timestamp": 1732991959398,
     "user": {
      "displayName": "Eduardo Contreras",
      "userId": "04220510561979261999"
     },
     "user_tz": 180
    },
    "id": "0VDIbNYMbQTk"
   },
   "outputs": [],
   "source": [
    "def collate_fn(batch):\n",
    "    user_item, rating, recipe_features = zip(*batch)\n",
    "    user_item = torch.stack(user_item)\n",
    "    rating = torch.stack(rating)\n",
    "    recipe_features = torch.stack(recipe_features)\n",
    "    user_item = user_item.to(device)\n",
    "    rating = rating.to(device)\n",
    "    recipe_features = recipe_features.to(device)\n",
    "    item_id = user_item[:, 1]\n",
    "    user_id = user_item[:, 0]\n",
    "    return user_item, rating, recipe_features\n"
   ]
  },
  {
   "cell_type": "code",
   "execution_count": 16,
   "metadata": {
    "executionInfo": {
     "elapsed": 7,
     "status": "ok",
     "timestamp": 1732991959398,
     "user": {
      "displayName": "Eduardo Contreras",
      "userId": "04220510561979261999"
     },
     "user_tz": 180
    },
    "id": "nQDixlE11J-w"
   },
   "outputs": [],
   "source": [
    "recipes_dset = RecipeDataset(recipes)\n",
    "train_loader = DataLoader(\n",
    "    ReviewsDataset(reviews_train, recipes_dset),\n",
    "    batch_size=64,\n",
    "    shuffle=True,\n",
    "    collate_fn=collate_fn,\n",
    ")\n",
    "test_loader = DataLoader(\n",
    "    ReviewsDataset(reviews_test, recipes_dset),\n",
    "    batch_size=64,\n",
    "    shuffle=True,\n",
    "    collate_fn=collate_fn,\n",
    ")"
   ]
  },
  {
   "cell_type": "code",
   "execution_count": 17,
   "metadata": {
    "colab": {
     "base_uri": "https://localhost:8080/"
    },
    "executionInfo": {
     "elapsed": 278,
     "status": "ok",
     "timestamp": 1732991959670,
     "user": {
      "displayName": "Eduardo Contreras",
      "userId": "04220510561979261999"
     },
     "user_tz": 180
    },
    "id": "vdbY0rRr1ML1",
    "outputId": "fa89b331-2e10-403a-b56c-b40aa13830c5"
   },
   "outputs": [
    {
     "name": "stdout",
     "output_type": "stream",
     "text": [
      "torch.Size([64, 2]) torch.Size([64]) torch.Size([64, 6166])\n"
     ]
    }
   ],
   "source": [
    "for b in train_loader:\n",
    "  user_item, rating, recipe_features = b\n",
    "  print(user_item.shape, rating.shape, recipe_features.shape)\n",
    "  break"
   ]
  },
  {
   "cell_type": "markdown",
   "metadata": {
    "id": "Fp7uZWP8PARy"
   },
   "source": [
    "# Model"
   ]
  },
  {
   "cell_type": "code",
   "execution_count": 18,
   "metadata": {
    "executionInfo": {
     "elapsed": 3,
     "status": "ok",
     "timestamp": 1732991959670,
     "user": {
      "displayName": "Eduardo Contreras",
      "userId": "04220510561979261999"
     },
     "user_tz": 180
    },
    "id": "y06u8lERPAwy"
   },
   "outputs": [],
   "source": [
    "# recipe_faetures_size = 6165\n",
    "# class RecipeEncoder(nn.Module):\n",
    "#     def __init__(self, n_features=6165):\n",
    "#         super().__init__()\n",
    "#         self.recipe_features = n_features\n",
    "#         self.encoder = nn.Linear(n_features, 64)\n",
    "#     def forward(self, x):\n",
    "#         return self.encoder(x)"
   ]
  },
  {
   "cell_type": "code",
   "execution_count": 19,
   "metadata": {
    "executionInfo": {
     "elapsed": 3,
     "status": "ok",
     "timestamp": 1732991959670,
     "user": {
      "displayName": "Eduardo Contreras",
      "userId": "04220510561979261999"
     },
     "user_tz": 180
    },
    "id": "n-7jZSrCPEfy"
   },
   "outputs": [],
   "source": [
    "# Extraido en gran parte del práctico de NCF\n",
    "class NeuralCollaborativeFilteringNN(nn.Module):\n",
    "    def __init__(self, user_sz: tuple, item_sz:tuple, mlp_layer, y_range=(0,5.5), n_act=100, n_factors = 50):\n",
    "        super().__init__()\n",
    "        number_of_users = user_sz[0]\n",
    "        number_of_items = item_sz[0]\n",
    "        number_user_features = user_sz[1]\n",
    "        number_item_features = item_sz[1]\n",
    "        self.user_factors_mf = nn.Embedding(number_of_users, n_factors)\n",
    "        self.user_factors_mlp = nn.Embedding(number_of_users, number_user_features)\n",
    "        self.item_factors_mf = nn.Embedding(number_of_items, n_factors)\n",
    "        self.item_factors_mlp = nn.Embedding(number_of_items, number_item_features) # for the encoder\n",
    "        # self.recipe_encoder = RecipeEncoder() # ouputs 64 tensor embedding\n",
    "        self.y_range = y_range\n",
    "\n",
    "        self.user_bias = nn.Embedding(number_of_users, 1)\n",
    "        self.item_bias = nn.Embedding(number_of_items, 1)\n",
    "        self.MLPLayers = mlp_layer\n",
    "\n",
    "        self.final_layer = nn.Linear(n_act + n_factors, 1)\n",
    "        self.sigmoid = nn.Sigmoid()\n",
    "\n",
    "    def forward(self, x, recipe_features):\n",
    "        user_vector_mf = self.user_factors_mf(x[:,0])\n",
    "        user_vector_mlp = self.user_factors_mlp(x[:,0])\n",
    "        item_vector_mf = self.item_factors_mf(x[:,1])\n",
    "        item_vector_mlp = self.item_factors_mlp(x[:,1])\n",
    "        # recipe_features = self.recipe_encoder(recipe_features)\n",
    "        # TODO: implementar resto del código. Por favor incluir comentarios\n",
    "        # para que quede claro el propósito de cada línea (o conjunto de líneas)\n",
    "\n",
    "        # Hacemos el element-wise product y le sumamos el bias\n",
    "        user_bias = self.user_bias(x[:,0])\n",
    "        item_bias = self.item_bias(x[:,1])\n",
    "        mf_output = user_vector_mf * item_vector_mf\n",
    "        mf_output += user_bias + item_bias\n",
    "\n",
    "        # Concatenamos los vectores de embedding de MLP de usuario e ítem\n",
    "        mlp_input = torch.cat((user_vector_mlp, item_vector_mlp), dim=1)\n",
    "\n",
    "        # Pasamos la concatenación por la red MLP\n",
    "        mlp_output = self.MLPLayers(mlp_input)\n",
    "\n",
    "        # Concatenamos la salida del MLP con el resultado del modelo MF\n",
    "        final_input = torch.cat((mlp_output, mf_output), dim=1)\n",
    "\n",
    "        # Pasamos la concatenación por la capa final para obtener la predicción\n",
    "        output = self.final_layer(final_input)\n",
    "\n",
    "        return self.sigmoid(output) * (self.y_range[1] - self.y_range[0]) + self.y_range[0]"
   ]
  },
  {
   "cell_type": "code",
   "execution_count": null,
   "metadata": {
    "id": "aWToZP_gPTlZ"
   },
   "outputs": [],
   "source": []
  },
  {
   "cell_type": "markdown",
   "metadata": {
    "id": "oVO3QVM0PbDU"
   },
   "source": [
    "# Train"
   ]
  },
  {
   "cell_type": "code",
   "execution_count": 20,
   "metadata": {
    "executionInfo": {
     "elapsed": 2,
     "status": "ok",
     "timestamp": 1732991959670,
     "user": {
      "displayName": "Eduardo Contreras",
      "userId": "04220510561979261999"
     },
     "user_tz": 180
    },
    "id": "t1ZamnXlQjci"
   },
   "outputs": [],
   "source": [
    "user_sz = (users_amount, 256)\n",
    "item_sz = (recipes_amount, 256)\n",
    "n_act = 50\n",
    "mlp_layers = nn.Sequential(\n",
    "    nn.Linear(user_sz[1] + item_sz[1], 2048),\n",
    "    nn.ReLU(),\n",
    "    nn.Linear(2048, 1024),\n",
    "    nn.ReLU(),\n",
    "    nn.Linear(1024, 512),\n",
    "    nn.ReLU(),\n",
    "    nn.Linear(512, 128),\n",
    "    nn.ReLU(),\n",
    "    nn.Linear(128, n_act),\n",
    "    nn.ReLU()\n",
    ")"
   ]
  },
  {
   "cell_type": "code",
   "execution_count": 21,
   "metadata": {
    "colab": {
     "base_uri": "https://localhost:8080/"
    },
    "executionInfo": {
     "elapsed": 1429,
     "status": "ok",
     "timestamp": 1732991961504,
     "user": {
      "displayName": "Eduardo Contreras",
      "userId": "04220510561979261999"
     },
     "user_tz": 180
    },
    "id": "Npc7vw7KPbpU",
    "outputId": "fb6a18c1-39dc-44b2-f9f2-ef8214a39c80"
   },
   "outputs": [
    {
     "name": "stdout",
     "output_type": "stream",
     "text": [
      "\n"
     ]
    }
   ],
   "source": [
    "ncf_model = NeuralCollaborativeFilteringNN(\n",
    "    user_sz=user_sz,\n",
    "    item_sz=item_sz,\n",
    "    n_act = n_act,\n",
    "    mlp_layer = mlp_layers,\n",
    "    n_factors = 50\n",
    ")\n",
    "ncf_model.to(device)\n",
    "print()"
   ]
  },
  {
   "cell_type": "code",
   "execution_count": 22,
   "metadata": {
    "executionInfo": {
     "elapsed": 4761,
     "status": "ok",
     "timestamp": 1732991969672,
     "user": {
      "displayName": "Eduardo Contreras",
      "userId": "04220510561979261999"
     },
     "user_tz": 180
    },
    "id": "7VYawFcuPja3"
   },
   "outputs": [],
   "source": [
    "optimizer = torch.optim.Adam(ncf_model.parameters(), lr=0.001)\n",
    "loss_func = torch.nn.MSELoss()"
   ]
  },
  {
   "cell_type": "code",
   "execution_count": 23,
   "metadata": {
    "executionInfo": {
     "elapsed": 1,
     "status": "ok",
     "timestamp": 1732991969672,
     "user": {
      "displayName": "Eduardo Contreras",
      "userId": "04220510561979261999"
     },
     "user_tz": 180
    },
    "id": "uuZOxO5Go3EH"
   },
   "outputs": [],
   "source": [
    "@torch.no_grad()\n",
    "def evaluate(model, loss_func, test_loader, max_batches=None):\n",
    "    model.eval()\n",
    "    loop = tqdm(enumerate(test_loader), total=len(test_loader), leave=False)\n",
    "    avg_loss = 0\n",
    "    for i, (user_item, rating, recipe_features) in loop:\n",
    "        if max_batches and i >= max_batches:\n",
    "            break\n",
    "        output = model(user_item, recipe_features)\n",
    "        loss = loss_func(output.squeeze(), rating)\n",
    "        avg_loss = (avg_loss * i + loss.item()) / (i + 1)\n",
    "        loop.set_description(f'loss: {loss.item():.4f}, Avg Loss: {avg_loss:.4f}')\n",
    "    return avg_loss"
   ]
  },
  {
   "cell_type": "code",
   "execution_count": 24,
   "metadata": {
    "executionInfo": {
     "elapsed": 310,
     "status": "ok",
     "timestamp": 1732991992547,
     "user": {
      "displayName": "Eduardo Contreras",
      "userId": "04220510561979261999"
     },
     "user_tz": 180
    },
    "id": "Fo-G8rHVoUP8"
   },
   "outputs": [],
   "source": [
    "import logging as log\n",
    "log.basicConfig(\n",
    "    format=\"%(asctime)s | %(levelname)s | %(name)s | %(message)s\",\n",
    "    datefmt=\"%Y-%m-%d %H:%M:%S\",\n",
    "    level=log.INFO,\n",
    "    filename=\"train_ncf_basic.log\",\n",
    "    force=True\n",
    ")"
   ]
  },
  {
   "cell_type": "code",
   "execution_count": 25,
   "metadata": {
    "colab": {
     "base_uri": "https://localhost:8080/",
     "height": 437,
     "referenced_widgets": [
      "7ba0814ef4af45a9a570c18bcb25d09e",
      "051c236142d24984864896f8dc1b815a",
      "aef6c35b30074b489d1c65cbb3473fca",
      "f4e114fc24a94ec092adf529bef6a9a4",
      "76b494256c8c42c1ace5bee4a8a9f26f",
      "a1f1bcbf6e1849728bc6cc4d8538fdfa",
      "dab19b151a9d4185b1da10042fdebd66",
      "6bbef99c326c422bb35dce14d92ac8f4",
      "8c2e1df804c449c59b6f51c99760fc95",
      "7d2242d10e1946a0a9c6d5a5ad5bb561",
      "24b94512b2054f669971c8a1cf16109f",
      "2eca600763114345931821ddc3b69844",
      "5d65bf8027da41d5b7d375f5dd31bb1e",
      "8f5b8b034a4e46dea9e461809cf01f32",
      "185d5ba3ba2f4ddb9708f8861b06e86d",
      "242dda74024c4b19bdfa6b423208d339",
      "a41b8f1df32e45e2b55f725e852ee9c5",
      "9058543217c347d7aef0f13b34dc6a62",
      "89a518221fc54c37aa19066f6726fad5",
      "156303d373a543cbade341c2ff2c2ece",
      "509163c4f281490ba4ddd969ef1ef10c",
      "b959e3ee0bec4b2f926ed47dad57562a"
     ]
    },
    "executionInfo": {
     "elapsed": 184373,
     "status": "error",
     "timestamp": 1732992400264,
     "user": {
      "displayName": "Eduardo Contreras",
      "userId": "04220510561979261999"
     },
     "user_tz": 180
    },
    "id": "32REWyn2PmbA",
    "outputId": "e07982b0-1a15-4cf9-9d5f-3b253587af34"
   },
   "outputs": [
    {
     "data": {
      "application/vnd.jupyter.widget-view+json": {
       "model_id": "37f7fbb80df6499893ce9703f5e73837",
       "version_major": 2,
       "version_minor": 0
      },
      "text/plain": [
       "  0%|          | 0/16234 [00:00<?, ?it/s]"
      ]
     },
     "metadata": {},
     "output_type": "display_data"
    },
    {
     "data": {
      "application/vnd.jupyter.widget-view+json": {
       "model_id": "1a02d9d3e10a4987884cc487b0f6c73c",
       "version_major": 2,
       "version_minor": 0
      },
      "text/plain": [
       "  0%|          | 0/5073 [00:00<?, ?it/s]"
      ]
     },
     "metadata": {},
     "output_type": "display_data"
    },
    {
     "data": {
      "application/vnd.jupyter.widget-view+json": {
       "model_id": "d729b24b5e4c45e78ddfbf67ffe5f53b",
       "version_major": 2,
       "version_minor": 0
      },
      "text/plain": [
       "  0%|          | 0/5073 [00:00<?, ?it/s]"
      ]
     },
     "metadata": {},
     "output_type": "display_data"
    },
    {
     "data": {
      "application/vnd.jupyter.widget-view+json": {
       "model_id": "397c07011edf4e009db45a7ec4a55b46",
       "version_major": 2,
       "version_minor": 0
      },
      "text/plain": [
       "  0%|          | 0/5073 [00:00<?, ?it/s]"
      ]
     },
     "metadata": {},
     "output_type": "display_data"
    },
    {
     "data": {
      "application/vnd.jupyter.widget-view+json": {
       "model_id": "e68a4b7d0b2e4d7da9f9e4d8f491f877",
       "version_major": 2,
       "version_minor": 0
      },
      "text/plain": [
       "  0%|          | 0/5073 [00:00<?, ?it/s]"
      ]
     },
     "metadata": {},
     "output_type": "display_data"
    },
    {
     "data": {
      "application/vnd.jupyter.widget-view+json": {
       "model_id": "02ae394f1eff4df28672cc07621a55b8",
       "version_major": 2,
       "version_minor": 0
      },
      "text/plain": [
       "  0%|          | 0/5073 [00:00<?, ?it/s]"
      ]
     },
     "metadata": {},
     "output_type": "display_data"
    },
    {
     "data": {
      "application/vnd.jupyter.widget-view+json": {
       "model_id": "f7d081631b6143c4bcabfd3f8f9d5ced",
       "version_major": 2,
       "version_minor": 0
      },
      "text/plain": [
       "  0%|          | 0/5073 [00:00<?, ?it/s]"
      ]
     },
     "metadata": {},
     "output_type": "display_data"
    },
    {
     "data": {
      "application/vnd.jupyter.widget-view+json": {
       "model_id": "1f034faefadb45d0988662de21283f96",
       "version_major": 2,
       "version_minor": 0
      },
      "text/plain": [
       "  0%|          | 0/5073 [00:00<?, ?it/s]"
      ]
     },
     "metadata": {},
     "output_type": "display_data"
    },
    {
     "data": {
      "application/vnd.jupyter.widget-view+json": {
       "model_id": "66e2b0f669a24b8e8c42fb1d3f8cdd3e",
       "version_major": 2,
       "version_minor": 0
      },
      "text/plain": [
       "  0%|          | 0/5073 [00:00<?, ?it/s]"
      ]
     },
     "metadata": {},
     "output_type": "display_data"
    },
    {
     "data": {
      "application/vnd.jupyter.widget-view+json": {
       "model_id": "4a50cd9a714e44b3996fdc23fe15878d",
       "version_major": 2,
       "version_minor": 0
      },
      "text/plain": [
       "  0%|          | 0/5073 [00:00<?, ?it/s]"
      ]
     },
     "metadata": {},
     "output_type": "display_data"
    },
    {
     "data": {
      "application/vnd.jupyter.widget-view+json": {
       "model_id": "d4de4163662848a9a28f340dace22eb5",
       "version_major": 2,
       "version_minor": 0
      },
      "text/plain": [
       "  0%|          | 0/16234 [00:00<?, ?it/s]"
      ]
     },
     "metadata": {},
     "output_type": "display_data"
    },
    {
     "data": {
      "application/vnd.jupyter.widget-view+json": {
       "model_id": "13a14ce9aa9944b491b06d00210e6796",
       "version_major": 2,
       "version_minor": 0
      },
      "text/plain": [
       "  0%|          | 0/5073 [00:00<?, ?it/s]"
      ]
     },
     "metadata": {},
     "output_type": "display_data"
    },
    {
     "data": {
      "application/vnd.jupyter.widget-view+json": {
       "model_id": "29e94088ff3341c487c3dd1e7338dfac",
       "version_major": 2,
       "version_minor": 0
      },
      "text/plain": [
       "  0%|          | 0/5073 [00:00<?, ?it/s]"
      ]
     },
     "metadata": {},
     "output_type": "display_data"
    },
    {
     "data": {
      "application/vnd.jupyter.widget-view+json": {
       "model_id": "ff59a596873c46f2a2a293a1932fe209",
       "version_major": 2,
       "version_minor": 0
      },
      "text/plain": [
       "  0%|          | 0/5073 [00:00<?, ?it/s]"
      ]
     },
     "metadata": {},
     "output_type": "display_data"
    },
    {
     "data": {
      "application/vnd.jupyter.widget-view+json": {
       "model_id": "0c258ac01445430dbd0befd53f9911b3",
       "version_major": 2,
       "version_minor": 0
      },
      "text/plain": [
       "  0%|          | 0/5073 [00:00<?, ?it/s]"
      ]
     },
     "metadata": {},
     "output_type": "display_data"
    },
    {
     "data": {
      "application/vnd.jupyter.widget-view+json": {
       "model_id": "40cd4bad3ef1466b9ebb20a279dd74ef",
       "version_major": 2,
       "version_minor": 0
      },
      "text/plain": [
       "  0%|          | 0/5073 [00:00<?, ?it/s]"
      ]
     },
     "metadata": {},
     "output_type": "display_data"
    },
    {
     "data": {
      "application/vnd.jupyter.widget-view+json": {
       "model_id": "7737c8bd6c014f5b9e302631c479fbc2",
       "version_major": 2,
       "version_minor": 0
      },
      "text/plain": [
       "  0%|          | 0/5073 [00:00<?, ?it/s]"
      ]
     },
     "metadata": {},
     "output_type": "display_data"
    },
    {
     "data": {
      "application/vnd.jupyter.widget-view+json": {
       "model_id": "0e9561e114d8403098914ac534d0e70c",
       "version_major": 2,
       "version_minor": 0
      },
      "text/plain": [
       "  0%|          | 0/5073 [00:00<?, ?it/s]"
      ]
     },
     "metadata": {},
     "output_type": "display_data"
    },
    {
     "data": {
      "application/vnd.jupyter.widget-view+json": {
       "model_id": "f3238a62b770466fb3ba7f41bbe9b910",
       "version_major": 2,
       "version_minor": 0
      },
      "text/plain": [
       "  0%|          | 0/5073 [00:00<?, ?it/s]"
      ]
     },
     "metadata": {},
     "output_type": "display_data"
    },
    {
     "data": {
      "application/vnd.jupyter.widget-view+json": {
       "model_id": "15bdf93962e5464ba7e4c00f541401fe",
       "version_major": 2,
       "version_minor": 0
      },
      "text/plain": [
       "  0%|          | 0/5073 [00:00<?, ?it/s]"
      ]
     },
     "metadata": {},
     "output_type": "display_data"
    },
    {
     "data": {
      "application/vnd.jupyter.widget-view+json": {
       "model_id": "9d53820bad6e4b58be28f0e2005a65df",
       "version_major": 2,
       "version_minor": 0
      },
      "text/plain": [
       "  0%|          | 0/16234 [00:00<?, ?it/s]"
      ]
     },
     "metadata": {},
     "output_type": "display_data"
    },
    {
     "data": {
      "application/vnd.jupyter.widget-view+json": {
       "model_id": "1ad629567bd5416fa0caadacafe51403",
       "version_major": 2,
       "version_minor": 0
      },
      "text/plain": [
       "  0%|          | 0/5073 [00:00<?, ?it/s]"
      ]
     },
     "metadata": {},
     "output_type": "display_data"
    },
    {
     "data": {
      "application/vnd.jupyter.widget-view+json": {
       "model_id": "5c28dcac3e6b4d4ea2f80314b4c1d745",
       "version_major": 2,
       "version_minor": 0
      },
      "text/plain": [
       "  0%|          | 0/5073 [00:00<?, ?it/s]"
      ]
     },
     "metadata": {},
     "output_type": "display_data"
    },
    {
     "data": {
      "application/vnd.jupyter.widget-view+json": {
       "model_id": "f0300cbe792e4ba3b9c1edf925328568",
       "version_major": 2,
       "version_minor": 0
      },
      "text/plain": [
       "  0%|          | 0/5073 [00:00<?, ?it/s]"
      ]
     },
     "metadata": {},
     "output_type": "display_data"
    },
    {
     "data": {
      "application/vnd.jupyter.widget-view+json": {
       "model_id": "fbd42fc3d1c04c4c90261238b7113c70",
       "version_major": 2,
       "version_minor": 0
      },
      "text/plain": [
       "  0%|          | 0/5073 [00:00<?, ?it/s]"
      ]
     },
     "metadata": {},
     "output_type": "display_data"
    },
    {
     "data": {
      "application/vnd.jupyter.widget-view+json": {
       "model_id": "99916aa3ad524950a04e554b0d76e545",
       "version_major": 2,
       "version_minor": 0
      },
      "text/plain": [
       "  0%|          | 0/5073 [00:00<?, ?it/s]"
      ]
     },
     "metadata": {},
     "output_type": "display_data"
    },
    {
     "data": {
      "application/vnd.jupyter.widget-view+json": {
       "model_id": "0f07fe99d773468db4fed12b8aa8ed15",
       "version_major": 2,
       "version_minor": 0
      },
      "text/plain": [
       "  0%|          | 0/5073 [00:00<?, ?it/s]"
      ]
     },
     "metadata": {},
     "output_type": "display_data"
    },
    {
     "data": {
      "application/vnd.jupyter.widget-view+json": {
       "model_id": "dfad0c9fa93d448eb53b27d55c51e0ee",
       "version_major": 2,
       "version_minor": 0
      },
      "text/plain": [
       "  0%|          | 0/5073 [00:00<?, ?it/s]"
      ]
     },
     "metadata": {},
     "output_type": "display_data"
    },
    {
     "data": {
      "application/vnd.jupyter.widget-view+json": {
       "model_id": "eabc1cedad6c4cc0bf7136dc57791d8c",
       "version_major": 2,
       "version_minor": 0
      },
      "text/plain": [
       "  0%|          | 0/5073 [00:00<?, ?it/s]"
      ]
     },
     "metadata": {},
     "output_type": "display_data"
    },
    {
     "data": {
      "application/vnd.jupyter.widget-view+json": {
       "model_id": "9a7cf9cce3474b2eb5098e6d5e7f121b",
       "version_major": 2,
       "version_minor": 0
      },
      "text/plain": [
       "  0%|          | 0/5073 [00:00<?, ?it/s]"
      ]
     },
     "metadata": {},
     "output_type": "display_data"
    },
    {
     "data": {
      "application/vnd.jupyter.widget-view+json": {
       "model_id": "05e837ef299b47d9a8e6bafa9fbbfe60",
       "version_major": 2,
       "version_minor": 0
      },
      "text/plain": [
       "  0%|          | 0/16234 [00:00<?, ?it/s]"
      ]
     },
     "metadata": {},
     "output_type": "display_data"
    },
    {
     "data": {
      "application/vnd.jupyter.widget-view+json": {
       "model_id": "762f2165afbb4cc1a1dabd88430dba1c",
       "version_major": 2,
       "version_minor": 0
      },
      "text/plain": [
       "  0%|          | 0/5073 [00:00<?, ?it/s]"
      ]
     },
     "metadata": {},
     "output_type": "display_data"
    },
    {
     "data": {
      "application/vnd.jupyter.widget-view+json": {
       "model_id": "0991fb5fe36e4c9fb92b0653113b38a8",
       "version_major": 2,
       "version_minor": 0
      },
      "text/plain": [
       "  0%|          | 0/5073 [00:00<?, ?it/s]"
      ]
     },
     "metadata": {},
     "output_type": "display_data"
    },
    {
     "data": {
      "application/vnd.jupyter.widget-view+json": {
       "model_id": "661c0e2d295d4e1ea0ab237c706f47a5",
       "version_major": 2,
       "version_minor": 0
      },
      "text/plain": [
       "  0%|          | 0/5073 [00:00<?, ?it/s]"
      ]
     },
     "metadata": {},
     "output_type": "display_data"
    },
    {
     "data": {
      "application/vnd.jupyter.widget-view+json": {
       "model_id": "8ab08004832649ed96316e70bd856626",
       "version_major": 2,
       "version_minor": 0
      },
      "text/plain": [
       "  0%|          | 0/5073 [00:00<?, ?it/s]"
      ]
     },
     "metadata": {},
     "output_type": "display_data"
    },
    {
     "data": {
      "application/vnd.jupyter.widget-view+json": {
       "model_id": "3b19a2a1f44d426c87c69cc49e403ed8",
       "version_major": 2,
       "version_minor": 0
      },
      "text/plain": [
       "  0%|          | 0/5073 [00:00<?, ?it/s]"
      ]
     },
     "metadata": {},
     "output_type": "display_data"
    },
    {
     "data": {
      "application/vnd.jupyter.widget-view+json": {
       "model_id": "ea7ddea2fac04678b753b6d7b7802d18",
       "version_major": 2,
       "version_minor": 0
      },
      "text/plain": [
       "  0%|          | 0/5073 [00:00<?, ?it/s]"
      ]
     },
     "metadata": {},
     "output_type": "display_data"
    },
    {
     "data": {
      "application/vnd.jupyter.widget-view+json": {
       "model_id": "0b64dc19dd26458a8173e6e142cb0507",
       "version_major": 2,
       "version_minor": 0
      },
      "text/plain": [
       "  0%|          | 0/5073 [00:00<?, ?it/s]"
      ]
     },
     "metadata": {},
     "output_type": "display_data"
    },
    {
     "data": {
      "application/vnd.jupyter.widget-view+json": {
       "model_id": "4bf94db3bb0d436584b4b6ad25064f71",
       "version_major": 2,
       "version_minor": 0
      },
      "text/plain": [
       "  0%|          | 0/5073 [00:00<?, ?it/s]"
      ]
     },
     "metadata": {},
     "output_type": "display_data"
    },
    {
     "data": {
      "application/vnd.jupyter.widget-view+json": {
       "model_id": "69c8f8a4d2734cf3aaa162f5dcbd0393",
       "version_major": 2,
       "version_minor": 0
      },
      "text/plain": [
       "  0%|          | 0/5073 [00:00<?, ?it/s]"
      ]
     },
     "metadata": {},
     "output_type": "display_data"
    },
    {
     "data": {
      "application/vnd.jupyter.widget-view+json": {
       "model_id": "37e57b858ccd457a8734817597e546dc",
       "version_major": 2,
       "version_minor": 0
      },
      "text/plain": [
       "  0%|          | 0/16234 [00:00<?, ?it/s]"
      ]
     },
     "metadata": {},
     "output_type": "display_data"
    },
    {
     "data": {
      "application/vnd.jupyter.widget-view+json": {
       "model_id": "e4610742a765462588c19911f78457e9",
       "version_major": 2,
       "version_minor": 0
      },
      "text/plain": [
       "  0%|          | 0/5073 [00:00<?, ?it/s]"
      ]
     },
     "metadata": {},
     "output_type": "display_data"
    },
    {
     "data": {
      "application/vnd.jupyter.widget-view+json": {
       "model_id": "514db8d12b9549b18a3ef4820195f6e9",
       "version_major": 2,
       "version_minor": 0
      },
      "text/plain": [
       "  0%|          | 0/5073 [00:00<?, ?it/s]"
      ]
     },
     "metadata": {},
     "output_type": "display_data"
    },
    {
     "data": {
      "application/vnd.jupyter.widget-view+json": {
       "model_id": "23f2ef5981ed4fdaa57f383cb2f26378",
       "version_major": 2,
       "version_minor": 0
      },
      "text/plain": [
       "  0%|          | 0/5073 [00:00<?, ?it/s]"
      ]
     },
     "metadata": {},
     "output_type": "display_data"
    },
    {
     "data": {
      "application/vnd.jupyter.widget-view+json": {
       "model_id": "da34f34921804297adef77d3ddc72938",
       "version_major": 2,
       "version_minor": 0
      },
      "text/plain": [
       "  0%|          | 0/5073 [00:00<?, ?it/s]"
      ]
     },
     "metadata": {},
     "output_type": "display_data"
    },
    {
     "data": {
      "application/vnd.jupyter.widget-view+json": {
       "model_id": "ca7e559f37e943f690fdc20623d1eb9b",
       "version_major": 2,
       "version_minor": 0
      },
      "text/plain": [
       "  0%|          | 0/5073 [00:00<?, ?it/s]"
      ]
     },
     "metadata": {},
     "output_type": "display_data"
    },
    {
     "data": {
      "application/vnd.jupyter.widget-view+json": {
       "model_id": "721cd69dc8ad453786329d220befd9eb",
       "version_major": 2,
       "version_minor": 0
      },
      "text/plain": [
       "  0%|          | 0/5073 [00:00<?, ?it/s]"
      ]
     },
     "metadata": {},
     "output_type": "display_data"
    },
    {
     "data": {
      "application/vnd.jupyter.widget-view+json": {
       "model_id": "cb90db8a19a744649f98279fa9587ee8",
       "version_major": 2,
       "version_minor": 0
      },
      "text/plain": [
       "  0%|          | 0/5073 [00:00<?, ?it/s]"
      ]
     },
     "metadata": {},
     "output_type": "display_data"
    },
    {
     "data": {
      "application/vnd.jupyter.widget-view+json": {
       "model_id": "887bbe17abd440878e5d8dd9a698b7b4",
       "version_major": 2,
       "version_minor": 0
      },
      "text/plain": [
       "  0%|          | 0/5073 [00:00<?, ?it/s]"
      ]
     },
     "metadata": {},
     "output_type": "display_data"
    },
    {
     "data": {
      "application/vnd.jupyter.widget-view+json": {
       "model_id": "bfe9160e0d8e4e2b87378b8bfd3501c0",
       "version_major": 2,
       "version_minor": 0
      },
      "text/plain": [
       "  0%|          | 0/5073 [00:00<?, ?it/s]"
      ]
     },
     "metadata": {},
     "output_type": "display_data"
    },
    {
     "data": {
      "application/vnd.jupyter.widget-view+json": {
       "model_id": "d30da964610642a3b96352923c6ca896",
       "version_major": 2,
       "version_minor": 0
      },
      "text/plain": [
       "  0%|          | 0/16234 [00:00<?, ?it/s]"
      ]
     },
     "metadata": {},
     "output_type": "display_data"
    },
    {
     "data": {
      "application/vnd.jupyter.widget-view+json": {
       "model_id": "2cd841c882c74db6a439e40443df6d84",
       "version_major": 2,
       "version_minor": 0
      },
      "text/plain": [
       "  0%|          | 0/5073 [00:00<?, ?it/s]"
      ]
     },
     "metadata": {},
     "output_type": "display_data"
    },
    {
     "data": {
      "application/vnd.jupyter.widget-view+json": {
       "model_id": "b1c7b20c45ec4b2e83a1916cee853cb4",
       "version_major": 2,
       "version_minor": 0
      },
      "text/plain": [
       "  0%|          | 0/5073 [00:00<?, ?it/s]"
      ]
     },
     "metadata": {},
     "output_type": "display_data"
    },
    {
     "data": {
      "application/vnd.jupyter.widget-view+json": {
       "model_id": "b1bdb3ff35474ba08b77886f42310952",
       "version_major": 2,
       "version_minor": 0
      },
      "text/plain": [
       "  0%|          | 0/5073 [00:00<?, ?it/s]"
      ]
     },
     "metadata": {},
     "output_type": "display_data"
    },
    {
     "data": {
      "application/vnd.jupyter.widget-view+json": {
       "model_id": "d874c07db63e4e0e90b5beb6f3a1e5f6",
       "version_major": 2,
       "version_minor": 0
      },
      "text/plain": [
       "  0%|          | 0/5073 [00:00<?, ?it/s]"
      ]
     },
     "metadata": {},
     "output_type": "display_data"
    },
    {
     "data": {
      "application/vnd.jupyter.widget-view+json": {
       "model_id": "73e46d351be64044b9c1ff37b17ab400",
       "version_major": 2,
       "version_minor": 0
      },
      "text/plain": [
       "  0%|          | 0/5073 [00:00<?, ?it/s]"
      ]
     },
     "metadata": {},
     "output_type": "display_data"
    },
    {
     "data": {
      "application/vnd.jupyter.widget-view+json": {
       "model_id": "8f5f6669c6c9417985113f5ec30c1bbe",
       "version_major": 2,
       "version_minor": 0
      },
      "text/plain": [
       "  0%|          | 0/5073 [00:00<?, ?it/s]"
      ]
     },
     "metadata": {},
     "output_type": "display_data"
    },
    {
     "data": {
      "application/vnd.jupyter.widget-view+json": {
       "model_id": "d36f441556e44d02908a671c10957f8e",
       "version_major": 2,
       "version_minor": 0
      },
      "text/plain": [
       "  0%|          | 0/5073 [00:00<?, ?it/s]"
      ]
     },
     "metadata": {},
     "output_type": "display_data"
    },
    {
     "data": {
      "application/vnd.jupyter.widget-view+json": {
       "model_id": "55abbae6680c44cf9d487a870268b85e",
       "version_major": 2,
       "version_minor": 0
      },
      "text/plain": [
       "  0%|          | 0/5073 [00:00<?, ?it/s]"
      ]
     },
     "metadata": {},
     "output_type": "display_data"
    },
    {
     "data": {
      "application/vnd.jupyter.widget-view+json": {
       "model_id": "4ab28ffe5dd34b64933afa0bcad4955a",
       "version_major": 2,
       "version_minor": 0
      },
      "text/plain": [
       "  0%|          | 0/5073 [00:00<?, ?it/s]"
      ]
     },
     "metadata": {},
     "output_type": "display_data"
    },
    {
     "data": {
      "application/vnd.jupyter.widget-view+json": {
       "model_id": "129bf9bd03c943e78ec9b012d4dc678f",
       "version_major": 2,
       "version_minor": 0
      },
      "text/plain": [
       "  0%|          | 0/16234 [00:00<?, ?it/s]"
      ]
     },
     "metadata": {},
     "output_type": "display_data"
    },
    {
     "data": {
      "application/vnd.jupyter.widget-view+json": {
       "model_id": "414d0fd6263d484580487b6b44da3bc9",
       "version_major": 2,
       "version_minor": 0
      },
      "text/plain": [
       "  0%|          | 0/5073 [00:00<?, ?it/s]"
      ]
     },
     "metadata": {},
     "output_type": "display_data"
    },
    {
     "data": {
      "application/vnd.jupyter.widget-view+json": {
       "model_id": "18d807f31f884ec89e9a5213c933ef3e",
       "version_major": 2,
       "version_minor": 0
      },
      "text/plain": [
       "  0%|          | 0/5073 [00:00<?, ?it/s]"
      ]
     },
     "metadata": {},
     "output_type": "display_data"
    },
    {
     "data": {
      "application/vnd.jupyter.widget-view+json": {
       "model_id": "cce85a502009404ca2717258f390b753",
       "version_major": 2,
       "version_minor": 0
      },
      "text/plain": [
       "  0%|          | 0/5073 [00:00<?, ?it/s]"
      ]
     },
     "metadata": {},
     "output_type": "display_data"
    },
    {
     "data": {
      "application/vnd.jupyter.widget-view+json": {
       "model_id": "3e494e43f14d42618df3b6a39bd30866",
       "version_major": 2,
       "version_minor": 0
      },
      "text/plain": [
       "  0%|          | 0/5073 [00:00<?, ?it/s]"
      ]
     },
     "metadata": {},
     "output_type": "display_data"
    },
    {
     "data": {
      "application/vnd.jupyter.widget-view+json": {
       "model_id": "c458fa106a7c40fdbd5ea3ffa1290541",
       "version_major": 2,
       "version_minor": 0
      },
      "text/plain": [
       "  0%|          | 0/5073 [00:00<?, ?it/s]"
      ]
     },
     "metadata": {},
     "output_type": "display_data"
    },
    {
     "data": {
      "application/vnd.jupyter.widget-view+json": {
       "model_id": "64b9eb50b1b948e0a86269b4d3776ecc",
       "version_major": 2,
       "version_minor": 0
      },
      "text/plain": [
       "  0%|          | 0/5073 [00:00<?, ?it/s]"
      ]
     },
     "metadata": {},
     "output_type": "display_data"
    },
    {
     "data": {
      "application/vnd.jupyter.widget-view+json": {
       "model_id": "9c1adac9f5ef4461ac64f3b70cdde59f",
       "version_major": 2,
       "version_minor": 0
      },
      "text/plain": [
       "  0%|          | 0/5073 [00:00<?, ?it/s]"
      ]
     },
     "metadata": {},
     "output_type": "display_data"
    },
    {
     "data": {
      "application/vnd.jupyter.widget-view+json": {
       "model_id": "e26aaf0a3c284822b00a76406695c92c",
       "version_major": 2,
       "version_minor": 0
      },
      "text/plain": [
       "  0%|          | 0/5073 [00:00<?, ?it/s]"
      ]
     },
     "metadata": {},
     "output_type": "display_data"
    },
    {
     "data": {
      "application/vnd.jupyter.widget-view+json": {
       "model_id": "0df4b17f7f664b69b592bdce3f256aa9",
       "version_major": 2,
       "version_minor": 0
      },
      "text/plain": [
       "  0%|          | 0/5073 [00:00<?, ?it/s]"
      ]
     },
     "metadata": {},
     "output_type": "display_data"
    },
    {
     "data": {
      "application/vnd.jupyter.widget-view+json": {
       "model_id": "01e539e81f204f79815db01bb10aca05",
       "version_major": 2,
       "version_minor": 0
      },
      "text/plain": [
       "  0%|          | 0/16234 [00:00<?, ?it/s]"
      ]
     },
     "metadata": {},
     "output_type": "display_data"
    },
    {
     "data": {
      "application/vnd.jupyter.widget-view+json": {
       "model_id": "0ab414e79e2c4e3ca7d37ea2023aa344",
       "version_major": 2,
       "version_minor": 0
      },
      "text/plain": [
       "  0%|          | 0/5073 [00:00<?, ?it/s]"
      ]
     },
     "metadata": {},
     "output_type": "display_data"
    },
    {
     "data": {
      "application/vnd.jupyter.widget-view+json": {
       "model_id": "87d7e09496f143b984fd9ec0d79be5d5",
       "version_major": 2,
       "version_minor": 0
      },
      "text/plain": [
       "  0%|          | 0/5073 [00:00<?, ?it/s]"
      ]
     },
     "metadata": {},
     "output_type": "display_data"
    },
    {
     "data": {
      "application/vnd.jupyter.widget-view+json": {
       "model_id": "be0856f90078442d86a78da607c20c64",
       "version_major": 2,
       "version_minor": 0
      },
      "text/plain": [
       "  0%|          | 0/5073 [00:00<?, ?it/s]"
      ]
     },
     "metadata": {},
     "output_type": "display_data"
    },
    {
     "data": {
      "application/vnd.jupyter.widget-view+json": {
       "model_id": "e99f282868df46f6852df0891afe27eb",
       "version_major": 2,
       "version_minor": 0
      },
      "text/plain": [
       "  0%|          | 0/5073 [00:00<?, ?it/s]"
      ]
     },
     "metadata": {},
     "output_type": "display_data"
    },
    {
     "data": {
      "application/vnd.jupyter.widget-view+json": {
       "model_id": "6888f7587c604c53b682485be601be71",
       "version_major": 2,
       "version_minor": 0
      },
      "text/plain": [
       "  0%|          | 0/5073 [00:00<?, ?it/s]"
      ]
     },
     "metadata": {},
     "output_type": "display_data"
    },
    {
     "data": {
      "application/vnd.jupyter.widget-view+json": {
       "model_id": "ca0316be0c2b40e5b701772667e3d816",
       "version_major": 2,
       "version_minor": 0
      },
      "text/plain": [
       "  0%|          | 0/5073 [00:00<?, ?it/s]"
      ]
     },
     "metadata": {},
     "output_type": "display_data"
    },
    {
     "data": {
      "application/vnd.jupyter.widget-view+json": {
       "model_id": "19be152a78d74b62a2b53e3c367e2707",
       "version_major": 2,
       "version_minor": 0
      },
      "text/plain": [
       "  0%|          | 0/5073 [00:00<?, ?it/s]"
      ]
     },
     "metadata": {},
     "output_type": "display_data"
    },
    {
     "data": {
      "application/vnd.jupyter.widget-view+json": {
       "model_id": "fcc671be869641b8a61118e79324cbaa",
       "version_major": 2,
       "version_minor": 0
      },
      "text/plain": [
       "  0%|          | 0/5073 [00:00<?, ?it/s]"
      ]
     },
     "metadata": {},
     "output_type": "display_data"
    },
    {
     "data": {
      "application/vnd.jupyter.widget-view+json": {
       "model_id": "c7ab0e53e00241f78aa5fc47af4557a2",
       "version_major": 2,
       "version_minor": 0
      },
      "text/plain": [
       "  0%|          | 0/5073 [00:00<?, ?it/s]"
      ]
     },
     "metadata": {},
     "output_type": "display_data"
    },
    {
     "data": {
      "application/vnd.jupyter.widget-view+json": {
       "model_id": "85cb08df39fd4107b03754f6f57f0937",
       "version_major": 2,
       "version_minor": 0
      },
      "text/plain": [
       "  0%|          | 0/16234 [00:00<?, ?it/s]"
      ]
     },
     "metadata": {},
     "output_type": "display_data"
    },
    {
     "data": {
      "application/vnd.jupyter.widget-view+json": {
       "model_id": "61aef44dab7e4985961dca44adaa0ce8",
       "version_major": 2,
       "version_minor": 0
      },
      "text/plain": [
       "  0%|          | 0/5073 [00:00<?, ?it/s]"
      ]
     },
     "metadata": {},
     "output_type": "display_data"
    },
    {
     "data": {
      "application/vnd.jupyter.widget-view+json": {
       "model_id": "e3b87e692d4846dfb17efa9dfbd4381d",
       "version_major": 2,
       "version_minor": 0
      },
      "text/plain": [
       "  0%|          | 0/5073 [00:00<?, ?it/s]"
      ]
     },
     "metadata": {},
     "output_type": "display_data"
    },
    {
     "data": {
      "application/vnd.jupyter.widget-view+json": {
       "model_id": "46de2943d803477294012c35150e7ba3",
       "version_major": 2,
       "version_minor": 0
      },
      "text/plain": [
       "  0%|          | 0/5073 [00:00<?, ?it/s]"
      ]
     },
     "metadata": {},
     "output_type": "display_data"
    },
    {
     "data": {
      "application/vnd.jupyter.widget-view+json": {
       "model_id": "ac7c4cb3bcfb467e87b9dd84714efbf0",
       "version_major": 2,
       "version_minor": 0
      },
      "text/plain": [
       "  0%|          | 0/5073 [00:00<?, ?it/s]"
      ]
     },
     "metadata": {},
     "output_type": "display_data"
    },
    {
     "data": {
      "application/vnd.jupyter.widget-view+json": {
       "model_id": "5c50d85117aa4d9c9efa569186f14e1a",
       "version_major": 2,
       "version_minor": 0
      },
      "text/plain": [
       "  0%|          | 0/5073 [00:00<?, ?it/s]"
      ]
     },
     "metadata": {},
     "output_type": "display_data"
    },
    {
     "data": {
      "application/vnd.jupyter.widget-view+json": {
       "model_id": "370d3fdaabed48af8c602dd7524f4e1b",
       "version_major": 2,
       "version_minor": 0
      },
      "text/plain": [
       "  0%|          | 0/5073 [00:00<?, ?it/s]"
      ]
     },
     "metadata": {},
     "output_type": "display_data"
    },
    {
     "data": {
      "application/vnd.jupyter.widget-view+json": {
       "model_id": "48e7dbc1d3c743ba89f49e51d0753eec",
       "version_major": 2,
       "version_minor": 0
      },
      "text/plain": [
       "  0%|          | 0/5073 [00:00<?, ?it/s]"
      ]
     },
     "metadata": {},
     "output_type": "display_data"
    },
    {
     "data": {
      "application/vnd.jupyter.widget-view+json": {
       "model_id": "c0af4cc5ed6e470797227c7b70619061",
       "version_major": 2,
       "version_minor": 0
      },
      "text/plain": [
       "  0%|          | 0/5073 [00:00<?, ?it/s]"
      ]
     },
     "metadata": {},
     "output_type": "display_data"
    },
    {
     "data": {
      "application/vnd.jupyter.widget-view+json": {
       "model_id": "0ad8de2c0b0442adbab641356c4c674f",
       "version_major": 2,
       "version_minor": 0
      },
      "text/plain": [
       "  0%|          | 0/5073 [00:00<?, ?it/s]"
      ]
     },
     "metadata": {},
     "output_type": "display_data"
    },
    {
     "data": {
      "application/vnd.jupyter.widget-view+json": {
       "model_id": "588c8c82cb89423b9af34398cc544f10",
       "version_major": 2,
       "version_minor": 0
      },
      "text/plain": [
       "  0%|          | 0/16234 [00:00<?, ?it/s]"
      ]
     },
     "metadata": {},
     "output_type": "display_data"
    },
    {
     "data": {
      "application/vnd.jupyter.widget-view+json": {
       "model_id": "2a37699b66254941989dd48f97f196a7",
       "version_major": 2,
       "version_minor": 0
      },
      "text/plain": [
       "  0%|          | 0/5073 [00:00<?, ?it/s]"
      ]
     },
     "metadata": {},
     "output_type": "display_data"
    },
    {
     "data": {
      "application/vnd.jupyter.widget-view+json": {
       "model_id": "461612d176de487db6975d544a14316d",
       "version_major": 2,
       "version_minor": 0
      },
      "text/plain": [
       "  0%|          | 0/5073 [00:00<?, ?it/s]"
      ]
     },
     "metadata": {},
     "output_type": "display_data"
    },
    {
     "data": {
      "application/vnd.jupyter.widget-view+json": {
       "model_id": "c189075c14384f36bd5065e5d6bc268d",
       "version_major": 2,
       "version_minor": 0
      },
      "text/plain": [
       "  0%|          | 0/5073 [00:00<?, ?it/s]"
      ]
     },
     "metadata": {},
     "output_type": "display_data"
    },
    {
     "data": {
      "application/vnd.jupyter.widget-view+json": {
       "model_id": "b368177d8bd14d378ab8fdaf2aa6dee8",
       "version_major": 2,
       "version_minor": 0
      },
      "text/plain": [
       "  0%|          | 0/5073 [00:00<?, ?it/s]"
      ]
     },
     "metadata": {},
     "output_type": "display_data"
    },
    {
     "data": {
      "application/vnd.jupyter.widget-view+json": {
       "model_id": "0bc9001239be4172b3500c817e9bca37",
       "version_major": 2,
       "version_minor": 0
      },
      "text/plain": [
       "  0%|          | 0/5073 [00:00<?, ?it/s]"
      ]
     },
     "metadata": {},
     "output_type": "display_data"
    },
    {
     "data": {
      "application/vnd.jupyter.widget-view+json": {
       "model_id": "ef1680b46e6543a9a48cbf1db1759687",
       "version_major": 2,
       "version_minor": 0
      },
      "text/plain": [
       "  0%|          | 0/5073 [00:00<?, ?it/s]"
      ]
     },
     "metadata": {},
     "output_type": "display_data"
    },
    {
     "data": {
      "application/vnd.jupyter.widget-view+json": {
       "model_id": "ea4dc2d56ac44540aa9bcc811588f985",
       "version_major": 2,
       "version_minor": 0
      },
      "text/plain": [
       "  0%|          | 0/5073 [00:00<?, ?it/s]"
      ]
     },
     "metadata": {},
     "output_type": "display_data"
    },
    {
     "data": {
      "application/vnd.jupyter.widget-view+json": {
       "model_id": "8f4ba1181e7a4105bba207a54d8601b4",
       "version_major": 2,
       "version_minor": 0
      },
      "text/plain": [
       "  0%|          | 0/5073 [00:00<?, ?it/s]"
      ]
     },
     "metadata": {},
     "output_type": "display_data"
    },
    {
     "data": {
      "application/vnd.jupyter.widget-view+json": {
       "model_id": "cc45f983e6d040908e92e2d124021a66",
       "version_major": 2,
       "version_minor": 0
      },
      "text/plain": [
       "  0%|          | 0/5073 [00:00<?, ?it/s]"
      ]
     },
     "metadata": {},
     "output_type": "display_data"
    }
   ],
   "source": [
    "ncf_model.train()\n",
    "losses_cb_ncf = []\n",
    "for epoch in range(10):\n",
    "    loop = tqdm(enumerate(train_loader), total=len(train_loader))\n",
    "    avg_loss = 0\n",
    "    for i, (user_item, rating, recipe_features) in loop:\n",
    "        optimizer.zero_grad()\n",
    "        output = ncf_model(user_item, recipe_features)\n",
    "        loss = loss_func(output.squeeze(), rating)\n",
    "        loss.backward()\n",
    "        optimizer.step()\n",
    "        losses_cb_ncf.append(loss.item())\n",
    "        avg_loss = (avg_loss * i + loss.item()) / (i + 1)\n",
    "        if i % 2000 == 0:\n",
    "            val_loss = evaluate(ncf_model, loss_func, test_loader, max_batches=1500)\n",
    "            log.info(f'epoch: {epoch}, it: {i}, loss: {loss.item():.4f}, Avg Loss: {avg_loss:.4f}, val Loss: {val_loss:.4f}')\n",
    "        elif i % 500 == 0:\n",
    "            log.info(f'epoch: {epoch}, it: {i}, loss: {loss.item():.4f}, Avg Loss: {avg_loss:.4f}, val Loss: {val_loss:.4f}')\n",
    "\n",
    "        loop.set_description(f'epoch: {epoch}, loss: {loss.item():.4f}, Avg Loss: {avg_loss:.4f}')\n",
    "    torch.save(ncf_model.state_dict(), f\"ncf_basic_epoch_{epoch}.pt\")"
   ]
  },
  {
   "cell_type": "code",
   "execution_count": null,
   "metadata": {
    "id": "ItbzCxhz0ucg"
   },
   "outputs": [],
   "source": []
  }
 ],
 "metadata": {
  "colab": {
   "authorship_tag": "ABX9TyNbxb2/pOFPzuJXDs0NEH5f",
   "collapsed_sections": [
    "hTlYyk2YOyKb",
    "D3QWyxmcOw3J",
    "fHP7EdJ5O5OY"
   ],
   "provenance": []
  },
  "kernelspec": {
   "display_name": "Python 3",
   "name": "python3"
  },
  "language_info": {
   "codemirror_mode": {
    "name": "ipython",
    "version": 3
   },
   "file_extension": ".py",
   "mimetype": "text/x-python",
   "name": "python",
   "nbconvert_exporter": "python",
   "pygments_lexer": "ipython3",
   "version": "3.10.9"
  },
  "widgets": {
   "application/vnd.jupyter.widget-state+json": {
    "051c236142d24984864896f8dc1b815a": {
     "model_module": "@jupyter-widgets/controls",
     "model_module_version": "1.5.0",
     "model_name": "HTMLModel",
     "state": {
      "_dom_classes": [],
      "_model_module": "@jupyter-widgets/controls",
      "_model_module_version": "1.5.0",
      "_model_name": "HTMLModel",
      "_view_count": null,
      "_view_module": "@jupyter-widgets/controls",
      "_view_module_version": "1.5.0",
      "_view_name": "HTMLView",
      "description": "",
      "description_tooltip": null,
      "layout": "IPY_MODEL_a1f1bcbf6e1849728bc6cc4d8538fdfa",
      "placeholder": "​",
      "style": "IPY_MODEL_dab19b151a9d4185b1da10042fdebd66",
      "value": "epoch: 0, loss: 3.3981, Avg Loss: 1.9812:   0%"
     }
    },
    "156303d373a543cbade341c2ff2c2ece": {
     "model_module": "@jupyter-widgets/controls",
     "model_module_version": "1.5.0",
     "model_name": "ProgressStyleModel",
     "state": {
      "_model_module": "@jupyter-widgets/controls",
      "_model_module_version": "1.5.0",
      "_model_name": "ProgressStyleModel",
      "_view_count": null,
      "_view_module": "@jupyter-widgets/base",
      "_view_module_version": "1.2.0",
      "_view_name": "StyleView",
      "bar_color": null,
      "description_width": ""
     }
    },
    "185d5ba3ba2f4ddb9708f8861b06e86d": {
     "model_module": "@jupyter-widgets/controls",
     "model_module_version": "1.5.0",
     "model_name": "HTMLModel",
     "state": {
      "_dom_classes": [],
      "_model_module": "@jupyter-widgets/controls",
      "_model_module_version": "1.5.0",
      "_model_name": "HTMLModel",
      "_view_count": null,
      "_view_module": "@jupyter-widgets/controls",
      "_view_module_version": "1.5.0",
      "_view_name": "HTMLView",
      "description": "",
      "description_tooltip": null,
      "layout": "IPY_MODEL_509163c4f281490ba4ddd969ef1ef10c",
      "placeholder": "​",
      "style": "IPY_MODEL_b959e3ee0bec4b2f926ed47dad57562a",
      "value": " 1500/5073 [01:39&lt;04:19, 13.77it/s]"
     }
    },
    "242dda74024c4b19bdfa6b423208d339": {
     "model_module": "@jupyter-widgets/base",
     "model_module_version": "1.2.0",
     "model_name": "LayoutModel",
     "state": {
      "_model_module": "@jupyter-widgets/base",
      "_model_module_version": "1.2.0",
      "_model_name": "LayoutModel",
      "_view_count": null,
      "_view_module": "@jupyter-widgets/base",
      "_view_module_version": "1.2.0",
      "_view_name": "LayoutView",
      "align_content": null,
      "align_items": null,
      "align_self": null,
      "border": null,
      "bottom": null,
      "display": null,
      "flex": null,
      "flex_flow": null,
      "grid_area": null,
      "grid_auto_columns": null,
      "grid_auto_flow": null,
      "grid_auto_rows": null,
      "grid_column": null,
      "grid_gap": null,
      "grid_row": null,
      "grid_template_areas": null,
      "grid_template_columns": null,
      "grid_template_rows": null,
      "height": null,
      "justify_content": null,
      "justify_items": null,
      "left": null,
      "margin": null,
      "max_height": null,
      "max_width": null,
      "min_height": null,
      "min_width": null,
      "object_fit": null,
      "object_position": null,
      "order": null,
      "overflow": null,
      "overflow_x": null,
      "overflow_y": null,
      "padding": null,
      "right": null,
      "top": null,
      "visibility": null,
      "width": null
     }
    },
    "24b94512b2054f669971c8a1cf16109f": {
     "model_module": "@jupyter-widgets/controls",
     "model_module_version": "1.5.0",
     "model_name": "DescriptionStyleModel",
     "state": {
      "_model_module": "@jupyter-widgets/controls",
      "_model_module_version": "1.5.0",
      "_model_name": "DescriptionStyleModel",
      "_view_count": null,
      "_view_module": "@jupyter-widgets/base",
      "_view_module_version": "1.2.0",
      "_view_name": "StyleView",
      "description_width": ""
     }
    },
    "2eca600763114345931821ddc3b69844": {
     "model_module": "@jupyter-widgets/controls",
     "model_module_version": "1.5.0",
     "model_name": "HBoxModel",
     "state": {
      "_dom_classes": [],
      "_model_module": "@jupyter-widgets/controls",
      "_model_module_version": "1.5.0",
      "_model_name": "HBoxModel",
      "_view_count": null,
      "_view_module": "@jupyter-widgets/controls",
      "_view_module_version": "1.5.0",
      "_view_name": "HBoxView",
      "box_style": "",
      "children": [
       "IPY_MODEL_5d65bf8027da41d5b7d375f5dd31bb1e",
       "IPY_MODEL_8f5b8b034a4e46dea9e461809cf01f32",
       "IPY_MODEL_185d5ba3ba2f4ddb9708f8861b06e86d"
      ],
      "layout": "IPY_MODEL_242dda74024c4b19bdfa6b423208d339"
     }
    },
    "509163c4f281490ba4ddd969ef1ef10c": {
     "model_module": "@jupyter-widgets/base",
     "model_module_version": "1.2.0",
     "model_name": "LayoutModel",
     "state": {
      "_model_module": "@jupyter-widgets/base",
      "_model_module_version": "1.2.0",
      "_model_name": "LayoutModel",
      "_view_count": null,
      "_view_module": "@jupyter-widgets/base",
      "_view_module_version": "1.2.0",
      "_view_name": "LayoutView",
      "align_content": null,
      "align_items": null,
      "align_self": null,
      "border": null,
      "bottom": null,
      "display": null,
      "flex": null,
      "flex_flow": null,
      "grid_area": null,
      "grid_auto_columns": null,
      "grid_auto_flow": null,
      "grid_auto_rows": null,
      "grid_column": null,
      "grid_gap": null,
      "grid_row": null,
      "grid_template_areas": null,
      "grid_template_columns": null,
      "grid_template_rows": null,
      "height": null,
      "justify_content": null,
      "justify_items": null,
      "left": null,
      "margin": null,
      "max_height": null,
      "max_width": null,
      "min_height": null,
      "min_width": null,
      "object_fit": null,
      "object_position": null,
      "order": null,
      "overflow": null,
      "overflow_x": null,
      "overflow_y": null,
      "padding": null,
      "right": null,
      "top": null,
      "visibility": null,
      "width": null
     }
    },
    "5d65bf8027da41d5b7d375f5dd31bb1e": {
     "model_module": "@jupyter-widgets/controls",
     "model_module_version": "1.5.0",
     "model_name": "HTMLModel",
     "state": {
      "_dom_classes": [],
      "_model_module": "@jupyter-widgets/controls",
      "_model_module_version": "1.5.0",
      "_model_name": "HTMLModel",
      "_view_count": null,
      "_view_module": "@jupyter-widgets/controls",
      "_view_module_version": "1.5.0",
      "_view_name": "HTMLView",
      "description": "",
      "description_tooltip": null,
      "layout": "IPY_MODEL_a41b8f1df32e45e2b55f725e852ee9c5",
      "placeholder": "​",
      "style": "IPY_MODEL_9058543217c347d7aef0f13b34dc6a62",
      "value": "loss: 1.2442, Avg Loss: 1.1442:  30%"
     }
    },
    "6bbef99c326c422bb35dce14d92ac8f4": {
     "model_module": "@jupyter-widgets/base",
     "model_module_version": "1.2.0",
     "model_name": "LayoutModel",
     "state": {
      "_model_module": "@jupyter-widgets/base",
      "_model_module_version": "1.2.0",
      "_model_name": "LayoutModel",
      "_view_count": null,
      "_view_module": "@jupyter-widgets/base",
      "_view_module_version": "1.2.0",
      "_view_name": "LayoutView",
      "align_content": null,
      "align_items": null,
      "align_self": null,
      "border": null,
      "bottom": null,
      "display": null,
      "flex": null,
      "flex_flow": null,
      "grid_area": null,
      "grid_auto_columns": null,
      "grid_auto_flow": null,
      "grid_auto_rows": null,
      "grid_column": null,
      "grid_gap": null,
      "grid_row": null,
      "grid_template_areas": null,
      "grid_template_columns": null,
      "grid_template_rows": null,
      "height": null,
      "justify_content": null,
      "justify_items": null,
      "left": null,
      "margin": null,
      "max_height": null,
      "max_width": null,
      "min_height": null,
      "min_width": null,
      "object_fit": null,
      "object_position": null,
      "order": null,
      "overflow": null,
      "overflow_x": null,
      "overflow_y": null,
      "padding": null,
      "right": null,
      "top": null,
      "visibility": null,
      "width": null
     }
    },
    "76b494256c8c42c1ace5bee4a8a9f26f": {
     "model_module": "@jupyter-widgets/base",
     "model_module_version": "1.2.0",
     "model_name": "LayoutModel",
     "state": {
      "_model_module": "@jupyter-widgets/base",
      "_model_module_version": "1.2.0",
      "_model_name": "LayoutModel",
      "_view_count": null,
      "_view_module": "@jupyter-widgets/base",
      "_view_module_version": "1.2.0",
      "_view_name": "LayoutView",
      "align_content": null,
      "align_items": null,
      "align_self": null,
      "border": null,
      "bottom": null,
      "display": null,
      "flex": null,
      "flex_flow": null,
      "grid_area": null,
      "grid_auto_columns": null,
      "grid_auto_flow": null,
      "grid_auto_rows": null,
      "grid_column": null,
      "grid_gap": null,
      "grid_row": null,
      "grid_template_areas": null,
      "grid_template_columns": null,
      "grid_template_rows": null,
      "height": null,
      "justify_content": null,
      "justify_items": null,
      "left": null,
      "margin": null,
      "max_height": null,
      "max_width": null,
      "min_height": null,
      "min_width": null,
      "object_fit": null,
      "object_position": null,
      "order": null,
      "overflow": null,
      "overflow_x": null,
      "overflow_y": null,
      "padding": null,
      "right": null,
      "top": null,
      "visibility": null,
      "width": null
     }
    },
    "7ba0814ef4af45a9a570c18bcb25d09e": {
     "model_module": "@jupyter-widgets/controls",
     "model_module_version": "1.5.0",
     "model_name": "HBoxModel",
     "state": {
      "_dom_classes": [],
      "_model_module": "@jupyter-widgets/controls",
      "_model_module_version": "1.5.0",
      "_model_name": "HBoxModel",
      "_view_count": null,
      "_view_module": "@jupyter-widgets/controls",
      "_view_module_version": "1.5.0",
      "_view_name": "HBoxView",
      "box_style": "",
      "children": [
       "IPY_MODEL_051c236142d24984864896f8dc1b815a",
       "IPY_MODEL_aef6c35b30074b489d1c65cbb3473fca",
       "IPY_MODEL_f4e114fc24a94ec092adf529bef6a9a4"
      ],
      "layout": "IPY_MODEL_76b494256c8c42c1ace5bee4a8a9f26f"
     }
    },
    "7d2242d10e1946a0a9c6d5a5ad5bb561": {
     "model_module": "@jupyter-widgets/base",
     "model_module_version": "1.2.0",
     "model_name": "LayoutModel",
     "state": {
      "_model_module": "@jupyter-widgets/base",
      "_model_module_version": "1.2.0",
      "_model_name": "LayoutModel",
      "_view_count": null,
      "_view_module": "@jupyter-widgets/base",
      "_view_module_version": "1.2.0",
      "_view_name": "LayoutView",
      "align_content": null,
      "align_items": null,
      "align_self": null,
      "border": null,
      "bottom": null,
      "display": null,
      "flex": null,
      "flex_flow": null,
      "grid_area": null,
      "grid_auto_columns": null,
      "grid_auto_flow": null,
      "grid_auto_rows": null,
      "grid_column": null,
      "grid_gap": null,
      "grid_row": null,
      "grid_template_areas": null,
      "grid_template_columns": null,
      "grid_template_rows": null,
      "height": null,
      "justify_content": null,
      "justify_items": null,
      "left": null,
      "margin": null,
      "max_height": null,
      "max_width": null,
      "min_height": null,
      "min_width": null,
      "object_fit": null,
      "object_position": null,
      "order": null,
      "overflow": null,
      "overflow_x": null,
      "overflow_y": null,
      "padding": null,
      "right": null,
      "top": null,
      "visibility": null,
      "width": null
     }
    },
    "89a518221fc54c37aa19066f6726fad5": {
     "model_module": "@jupyter-widgets/base",
     "model_module_version": "1.2.0",
     "model_name": "LayoutModel",
     "state": {
      "_model_module": "@jupyter-widgets/base",
      "_model_module_version": "1.2.0",
      "_model_name": "LayoutModel",
      "_view_count": null,
      "_view_module": "@jupyter-widgets/base",
      "_view_module_version": "1.2.0",
      "_view_name": "LayoutView",
      "align_content": null,
      "align_items": null,
      "align_self": null,
      "border": null,
      "bottom": null,
      "display": null,
      "flex": null,
      "flex_flow": null,
      "grid_area": null,
      "grid_auto_columns": null,
      "grid_auto_flow": null,
      "grid_auto_rows": null,
      "grid_column": null,
      "grid_gap": null,
      "grid_row": null,
      "grid_template_areas": null,
      "grid_template_columns": null,
      "grid_template_rows": null,
      "height": null,
      "justify_content": null,
      "justify_items": null,
      "left": null,
      "margin": null,
      "max_height": null,
      "max_width": null,
      "min_height": null,
      "min_width": null,
      "object_fit": null,
      "object_position": null,
      "order": null,
      "overflow": null,
      "overflow_x": null,
      "overflow_y": null,
      "padding": null,
      "right": null,
      "top": null,
      "visibility": null,
      "width": null
     }
    },
    "8c2e1df804c449c59b6f51c99760fc95": {
     "model_module": "@jupyter-widgets/controls",
     "model_module_version": "1.5.0",
     "model_name": "ProgressStyleModel",
     "state": {
      "_model_module": "@jupyter-widgets/controls",
      "_model_module_version": "1.5.0",
      "_model_name": "ProgressStyleModel",
      "_view_count": null,
      "_view_module": "@jupyter-widgets/base",
      "_view_module_version": "1.2.0",
      "_view_name": "StyleView",
      "bar_color": null,
      "description_width": ""
     }
    },
    "8f5b8b034a4e46dea9e461809cf01f32": {
     "model_module": "@jupyter-widgets/controls",
     "model_module_version": "1.5.0",
     "model_name": "FloatProgressModel",
     "state": {
      "_dom_classes": [],
      "_model_module": "@jupyter-widgets/controls",
      "_model_module_version": "1.5.0",
      "_model_name": "FloatProgressModel",
      "_view_count": null,
      "_view_module": "@jupyter-widgets/controls",
      "_view_module_version": "1.5.0",
      "_view_name": "ProgressView",
      "bar_style": "danger",
      "description": "",
      "description_tooltip": null,
      "layout": "IPY_MODEL_89a518221fc54c37aa19066f6726fad5",
      "max": 5073,
      "min": 0,
      "orientation": "horizontal",
      "style": "IPY_MODEL_156303d373a543cbade341c2ff2c2ece",
      "value": 1500
     }
    },
    "9058543217c347d7aef0f13b34dc6a62": {
     "model_module": "@jupyter-widgets/controls",
     "model_module_version": "1.5.0",
     "model_name": "DescriptionStyleModel",
     "state": {
      "_model_module": "@jupyter-widgets/controls",
      "_model_module_version": "1.5.0",
      "_model_name": "DescriptionStyleModel",
      "_view_count": null,
      "_view_module": "@jupyter-widgets/base",
      "_view_module_version": "1.2.0",
      "_view_name": "StyleView",
      "description_width": ""
     }
    },
    "a1f1bcbf6e1849728bc6cc4d8538fdfa": {
     "model_module": "@jupyter-widgets/base",
     "model_module_version": "1.2.0",
     "model_name": "LayoutModel",
     "state": {
      "_model_module": "@jupyter-widgets/base",
      "_model_module_version": "1.2.0",
      "_model_name": "LayoutModel",
      "_view_count": null,
      "_view_module": "@jupyter-widgets/base",
      "_view_module_version": "1.2.0",
      "_view_name": "LayoutView",
      "align_content": null,
      "align_items": null,
      "align_self": null,
      "border": null,
      "bottom": null,
      "display": null,
      "flex": null,
      "flex_flow": null,
      "grid_area": null,
      "grid_auto_columns": null,
      "grid_auto_flow": null,
      "grid_auto_rows": null,
      "grid_column": null,
      "grid_gap": null,
      "grid_row": null,
      "grid_template_areas": null,
      "grid_template_columns": null,
      "grid_template_rows": null,
      "height": null,
      "justify_content": null,
      "justify_items": null,
      "left": null,
      "margin": null,
      "max_height": null,
      "max_width": null,
      "min_height": null,
      "min_width": null,
      "object_fit": null,
      "object_position": null,
      "order": null,
      "overflow": null,
      "overflow_x": null,
      "overflow_y": null,
      "padding": null,
      "right": null,
      "top": null,
      "visibility": null,
      "width": null
     }
    },
    "a41b8f1df32e45e2b55f725e852ee9c5": {
     "model_module": "@jupyter-widgets/base",
     "model_module_version": "1.2.0",
     "model_name": "LayoutModel",
     "state": {
      "_model_module": "@jupyter-widgets/base",
      "_model_module_version": "1.2.0",
      "_model_name": "LayoutModel",
      "_view_count": null,
      "_view_module": "@jupyter-widgets/base",
      "_view_module_version": "1.2.0",
      "_view_name": "LayoutView",
      "align_content": null,
      "align_items": null,
      "align_self": null,
      "border": null,
      "bottom": null,
      "display": null,
      "flex": null,
      "flex_flow": null,
      "grid_area": null,
      "grid_auto_columns": null,
      "grid_auto_flow": null,
      "grid_auto_rows": null,
      "grid_column": null,
      "grid_gap": null,
      "grid_row": null,
      "grid_template_areas": null,
      "grid_template_columns": null,
      "grid_template_rows": null,
      "height": null,
      "justify_content": null,
      "justify_items": null,
      "left": null,
      "margin": null,
      "max_height": null,
      "max_width": null,
      "min_height": null,
      "min_width": null,
      "object_fit": null,
      "object_position": null,
      "order": null,
      "overflow": null,
      "overflow_x": null,
      "overflow_y": null,
      "padding": null,
      "right": null,
      "top": null,
      "visibility": null,
      "width": null
     }
    },
    "aef6c35b30074b489d1c65cbb3473fca": {
     "model_module": "@jupyter-widgets/controls",
     "model_module_version": "1.5.0",
     "model_name": "FloatProgressModel",
     "state": {
      "_dom_classes": [],
      "_model_module": "@jupyter-widgets/controls",
      "_model_module_version": "1.5.0",
      "_model_name": "FloatProgressModel",
      "_view_count": null,
      "_view_module": "@jupyter-widgets/controls",
      "_view_module_version": "1.5.0",
      "_view_name": "ProgressView",
      "bar_style": "danger",
      "description": "",
      "description_tooltip": null,
      "layout": "IPY_MODEL_6bbef99c326c422bb35dce14d92ac8f4",
      "max": 16234,
      "min": 0,
      "orientation": "horizontal",
      "style": "IPY_MODEL_8c2e1df804c449c59b6f51c99760fc95",
      "value": 32
     }
    },
    "b959e3ee0bec4b2f926ed47dad57562a": {
     "model_module": "@jupyter-widgets/controls",
     "model_module_version": "1.5.0",
     "model_name": "DescriptionStyleModel",
     "state": {
      "_model_module": "@jupyter-widgets/controls",
      "_model_module_version": "1.5.0",
      "_model_name": "DescriptionStyleModel",
      "_view_count": null,
      "_view_module": "@jupyter-widgets/base",
      "_view_module_version": "1.2.0",
      "_view_name": "StyleView",
      "description_width": ""
     }
    },
    "dab19b151a9d4185b1da10042fdebd66": {
     "model_module": "@jupyter-widgets/controls",
     "model_module_version": "1.5.0",
     "model_name": "DescriptionStyleModel",
     "state": {
      "_model_module": "@jupyter-widgets/controls",
      "_model_module_version": "1.5.0",
      "_model_name": "DescriptionStyleModel",
      "_view_count": null,
      "_view_module": "@jupyter-widgets/base",
      "_view_module_version": "1.2.0",
      "_view_name": "StyleView",
      "description_width": ""
     }
    },
    "f4e114fc24a94ec092adf529bef6a9a4": {
     "model_module": "@jupyter-widgets/controls",
     "model_module_version": "1.5.0",
     "model_name": "HTMLModel",
     "state": {
      "_dom_classes": [],
      "_model_module": "@jupyter-widgets/controls",
      "_model_module_version": "1.5.0",
      "_model_name": "HTMLModel",
      "_view_count": null,
      "_view_module": "@jupyter-widgets/controls",
      "_view_module_version": "1.5.0",
      "_view_name": "HTMLView",
      "description": "",
      "description_tooltip": null,
      "layout": "IPY_MODEL_7d2242d10e1946a0a9c6d5a5ad5bb561",
      "placeholder": "​",
      "style": "IPY_MODEL_24b94512b2054f669971c8a1cf16109f",
      "value": " 32/16234 [03:04&lt;11:55:37,  2.65s/it]"
     }
    }
   }
  }
 },
 "nbformat": 4,
 "nbformat_minor": 0
}
